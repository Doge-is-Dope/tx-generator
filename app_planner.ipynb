{
 "cells": [
  {
   "cell_type": "code",
   "execution_count": 1,
   "metadata": {},
   "outputs": [],
   "source": [
    "import os\n",
    "\n",
    "os.environ[\"LANGCHAIN_TRACING_V2\"] = \"true\"\n",
    "os.environ[\"LANGCHAIN_PROJECT\"] = \"planner\""
   ]
  },
  {
   "cell_type": "code",
   "execution_count": 2,
   "metadata": {},
   "outputs": [],
   "source": [
    "from graph.planner import planner"
   ]
  },
  {
   "cell_type": "code",
   "execution_count": 3,
   "metadata": {},
   "outputs": [
    {
     "name": "stdout",
     "output_type": "stream",
     "text": [
      "ID: send_eth_0.01\n",
      "Description: Send 0.01 ETH to a specified address on the Ethereum network.\n",
      "Steps:\n",
      "1. Send 0.01 ETH to the address 0x8c575b178927fF9A70804B8b4F7622F7666bB360.\n"
     ]
    }
   ],
   "source": [
    "case = planner.invoke(\"Send 0.01 ETH to 0x8c575b178927fF9A70804B8b4F7622F7666bB360\")\n",
    "print(case)"
   ]
  },
  {
   "cell_type": "code",
   "execution_count": 4,
   "metadata": {},
   "outputs": [
    {
     "name": "stdout",
     "output_type": "stream",
     "text": [
      "ID: send_usdt_to_scott\n",
      "Description: Send 100 USDT to Scott.\n",
      "Steps:\n",
      "1. Transfer 100 USDT to Scott's Ethereum address.\n"
     ]
    }
   ],
   "source": [
    "case = planner.invoke(\"Send 100 USDT to scott.\")\n",
    "print(case)"
   ]
  },
  {
   "cell_type": "code",
   "execution_count": 5,
   "metadata": {},
   "outputs": [
    {
     "name": "stdout",
     "output_type": "stream",
     "text": [
      "ID: swap_usdt_to_usdc\n",
      "Description: Swap 100 USDT to USDC\n",
      "Steps:\n",
      "1. Approve 100 USDT for swapping on a decentralized exchange.\n",
      "2. Execute the swap from 100 USDT to USDC on the chosen decentralized exchange.\n"
     ]
    }
   ],
   "source": [
    "case = planner.invoke(\"Swap 100 USDT to USDC\")\n",
    "print(case)"
   ]
  },
  {
   "cell_type": "code",
   "execution_count": 6,
   "metadata": {},
   "outputs": [
    {
     "name": "stdout",
     "output_type": "stream",
     "text": [
      "ID: stake_eth_eigenpie\n",
      "Description: Stake 0.03 ETH with Lido and deposit to Eigenpie\n",
      "Steps:\n",
      "1. Stake 0.03 ETH to Lido to receive stETH.\n",
      "2. Approve stETH to be deposited to Eigenpie.\n",
      "3. Deposit stETH to Eigenpie.\n"
     ]
    }
   ],
   "source": [
    "case = planner.invoke(\"Stake 0.03 ETH with Lido and deposit to Eigenpie\")\n",
    "print(case)"
   ]
  }
 ],
 "metadata": {
  "kernelspec": {
   "display_name": ".venv",
   "language": "python",
   "name": "python3"
  },
  "language_info": {
   "codemirror_mode": {
    "name": "ipython",
    "version": 3
   },
   "file_extension": ".py",
   "mimetype": "text/x-python",
   "name": "python",
   "nbconvert_exporter": "python",
   "pygments_lexer": "ipython3",
   "version": "3.11.9"
  }
 },
 "nbformat": 4,
 "nbformat_minor": 2
}
