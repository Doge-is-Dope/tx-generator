{
 "cells": [
  {
   "cell_type": "code",
   "execution_count": 1,
   "metadata": {},
   "outputs": [],
   "source": [
    "import os\n",
    "\n",
    "os.environ[\"LANGCHAIN_TRACING_V2\"] = \"true\""
   ]
  },
  {
   "cell_type": "code",
   "execution_count": 2,
   "metadata": {},
   "outputs": [],
   "source": [
    "import operator\n",
    "from typing import Annotated, List, Tuple, TypedDict\n",
    "\n",
    "from langchain_core.pydantic_v1 import BaseModel\n",
    "\n",
    "\n",
    "class PlanSimulateState(BaseModel):\n",
    "    # User's original intent\n",
    "    input: str\n",
    "    # List of steps (descriptions) generated to be simulated.\n",
    "    steps: List[str]\n",
    "    # List of transactions that have been successfully simulated; each tuple contains (description, transaction_params)\n",
    "    simulated_txs: Annotated[List[Tuple], operator.add]\n",
    "    # The final response.\n",
    "    response: str"
   ]
  },
  {
   "cell_type": "markdown",
   "metadata": {},
   "source": [
    "### Planner Node\n"
   ]
  },
  {
   "cell_type": "code",
   "execution_count": 3,
   "metadata": {},
   "outputs": [],
   "source": [
    "from langchain_core.prompts import ChatPromptTemplate\n",
    "from langchain_core.runnables import RunnablePassthrough\n",
    "from langchain_openai import ChatOpenAI\n",
    "\n",
    "from case.case_retriever import get_retriever\n",
    "from models.case import BatchCase\n",
    "\n",
    "\n",
    "system_prompt = \"\"\"\n",
    "You are an expert case generator specializing in EVM blockchain transactions. Your task is to convert a description into the simplest possible set of actionable steps.\n",
    "\n",
    "Rules:\n",
    "- Ensure the output is concise and limited to the essential action.\n",
    "- Avoid unnecessary technical details (e.g., creating a transaction, signing, broadcasting) unless explicitly requested by the user.\n",
    "- Focus on the high-level intent of the task, not the technical implementation.\n",
    "- If the user's intent is unclear, refine it as needed to generate a coherent set of steps.\n",
    "- Do not include steps that require user interaction (e.g., asking for confirmations or actions on the blockchain).\n",
    "- Only generate steps directly relevant to EVM blockchain transactions and in line with the user's high-level request.\n",
    "\n",
    "Context:\n",
    "{context}\"\"\"\n",
    "\n",
    "\n",
    "def format_docs(docs) -> str:\n",
    "    return \"\\n\\n\".join(str(doc.metadata) for doc in docs)\n",
    "\n",
    "\n",
    "retriever = get_retriever()\n",
    "\n",
    "user_intent = \"Description: {description}\"\n",
    "\n",
    "planner_prompt = ChatPromptTemplate.from_messages([system_prompt, user_intent])\n",
    "\n",
    "planner_model = ChatOpenAI(model=\"gpt-4o-2024-08-06\", temperature=0)\n",
    "\n",
    "planner = (\n",
    "    {\"context\": retriever | format_docs, \"description\": RunnablePassthrough()}\n",
    "    | planner_prompt\n",
    "    | planner_model.with_structured_output(BatchCase)\n",
    ")"
   ]
  },
  {
   "cell_type": "code",
   "execution_count": 4,
   "metadata": {},
   "outputs": [
    {
     "name": "stdout",
     "output_type": "stream",
     "text": [
      "ID: send_eth_0.01\n",
      "Description: Send 0.01 ETH to a specified address on the Ethereum blockchain.\n",
      "Steps:\n",
      "1. Send 0.01 ETH to the address 0x8c575b178927fF9A70804B8b4F7622F7666bB360.\n"
     ]
    }
   ],
   "source": [
    "case = planner.invoke(\"Send 0.01 ETH to 0x8c575b178927fF9A70804B8b4F7622F7666bB360\")\n",
    "print(case)"
   ]
  },
  {
   "cell_type": "code",
   "execution_count": 5,
   "metadata": {},
   "outputs": [
    {
     "name": "stdout",
     "output_type": "stream",
     "text": [
      "ID: send_usdt_to_scott\n",
      "Description: Send 100 USDT to Scott.\n",
      "Steps:\n",
      "1. Transfer 100 USDT to Scott's Ethereum address.\n"
     ]
    }
   ],
   "source": [
    "case = planner.invoke(\"Send 100 USDT to scott.\")\n",
    "print(case)"
   ]
  },
  {
   "cell_type": "code",
   "execution_count": 6,
   "metadata": {},
   "outputs": [
    {
     "name": "stdout",
     "output_type": "stream",
     "text": [
      "ID: swap_usdt_to_usdc\n",
      "Description: Swap 100 USDT to USDC\n",
      "Steps:\n",
      "1. Approve 100 USDT for swapping on a decentralized exchange.\n",
      "2. Swap 100 USDT to USDC on the chosen decentralized exchange.\n"
     ]
    }
   ],
   "source": [
    "case = planner.invoke(\"Swap 100 USDT to USDC\")\n",
    "print(case)"
   ]
  },
  {
   "cell_type": "code",
   "execution_count": 7,
   "metadata": {},
   "outputs": [
    {
     "name": "stdout",
     "output_type": "stream",
     "text": [
      "ID: stake_eth_eigenpie\n",
      "Description: Stake 0.03 ETH with Lido and deposit to Eigenpie\n",
      "Steps:\n",
      "1. Stake 0.03 ETH to Lido to receive stETH.\n",
      "2. Approve stETH to be deposited to Eigenpie.\n",
      "3. Deposit stETH to Eigenpie.\n"
     ]
    }
   ],
   "source": [
    "case = planner.invoke(\"Stake 0.03 ETH with Lido and deposit to Eigenpie\")\n",
    "print(case)"
   ]
  },
  {
   "cell_type": "markdown",
   "metadata": {},
   "source": [
    "### Simulation Node\n"
   ]
  },
  {
   "cell_type": "code",
   "execution_count": null,
   "metadata": {},
   "outputs": [],
   "source": []
  }
 ],
 "metadata": {
  "kernelspec": {
   "display_name": ".venv",
   "language": "python",
   "name": "python3"
  },
  "language_info": {
   "codemirror_mode": {
    "name": "ipython",
    "version": 3
   },
   "file_extension": ".py",
   "mimetype": "text/x-python",
   "name": "python",
   "nbconvert_exporter": "python",
   "pygments_lexer": "ipython3",
   "version": "3.11.9"
  }
 },
 "nbformat": 4,
 "nbformat_minor": 2
}
