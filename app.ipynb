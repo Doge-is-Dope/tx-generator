{
 "cells": [
  {
   "cell_type": "code",
   "execution_count": null,
   "metadata": {},
   "outputs": [],
   "source": [
    "import os\n",
    "\n",
    "os.environ[\"LANGCHAIN_TRACING_V2\"] = \"true\"\n",
    "os.environ[\"LANGCHAIN_PROJECT\"] = \"tx-generator\""
   ]
  },
  {
   "cell_type": "code",
   "execution_count": null,
   "metadata": {},
   "outputs": [],
   "source": [
    "from typing import Literal\n",
    "\n",
    "from IPython.display import Image, display\n",
    "\n",
    "from graph.state import PlanSimulateState"
   ]
  },
  {
   "cell_type": "code",
   "execution_count": null,
   "metadata": {},
   "outputs": [],
   "source": [
    "from graph.planner import planner"
   ]
  },
  {
   "cell_type": "code",
   "execution_count": null,
   "metadata": {},
   "outputs": [],
   "source": [
    "from graph.converter_tool import generate_tx_params"
   ]
  },
  {
   "cell_type": "code",
   "execution_count": null,
   "metadata": {},
   "outputs": [],
   "source": [
    "from graph.tools.simulation import simulate_transaction"
   ]
  },
  {
   "cell_type": "code",
   "execution_count": null,
   "metadata": {},
   "outputs": [],
   "source": [
    "from graph.replanner import replanner, replan_step"
   ]
  },
  {
   "cell_type": "code",
   "execution_count": null,
   "metadata": {},
   "outputs": [],
   "source": [
    "from graph.tools.address import convert_to_checksum_address"
   ]
  },
  {
   "cell_type": "code",
   "execution_count": null,
   "metadata": {},
   "outputs": [],
   "source": [
    "async def plan_step(state: PlanSimulateState):\n",
    "    checksum_from_address = convert_to_checksum_address.invoke(\n",
    "        {\"address\": state[\"from_address\"]}\n",
    "    )\n",
    "    plan = await planner.ainvoke(state[\"input\"])\n",
    "    steps = [step.description for step in plan.steps]\n",
    "    return {\"from_address\": checksum_from_address, \"steps\": steps}\n",
    "\n",
    "\n",
    "async def convert_step(state: PlanSimulateState):\n",
    "    step = state[\"steps\"][0]\n",
    "    tx_params = await generate_tx_params(step, state[\"from_address\"])\n",
    "    return {\"current_step\": (step, tx_params)}\n",
    "\n",
    "\n",
    "async def simulate_step(state: PlanSimulateState):\n",
    "    step, tx_params = state[\"current_step\"]\n",
    "    simulated_txs = [tx for _, tx, _ in state[\"simulated_txs\"]]\n",
    "    txs = simulated_txs + [tx_params]\n",
    "\n",
    "    result = await simulate_transaction.ainvoke({\"transactions\": txs})\n",
    "    # Get the result of the last transaction\n",
    "    last_tx_result = result.tx_results[-1]\n",
    "    # If the last transaction is successful, add it to the list of simulated transactions\n",
    "    if not last_tx_result.error:\n",
    "        return {\n",
    "            \"simulated_txs\": [(step, tx_params, last_tx_result.asset_changes)],\n",
    "            # Remove the current step if the simulation is successful\n",
    "            \"steps\": state[\"steps\"][1:],\n",
    "            \"error\": None,\n",
    "        }\n",
    "    else:\n",
    "        return {\"error\": last_tx_result.error}\n",
    "\n",
    "\n",
    "def should_replan(state: PlanSimulateState) -> Literal[\"replan\", \"__end__\"]:\n",
    "    steps = state.get(\"steps\")\n",
    "    # error = state.get(\"error\")\n",
    "    # if error:\n",
    "    #     # If there is an error, convert the transaction again\n",
    "    #     print(f\"Error: {error}\")\n",
    "    #     return \"convert\"\n",
    "    if steps:\n",
    "        # If there are steps, continue the workflow\n",
    "        return \"replan\"\n",
    "    else:\n",
    "        return \"__end__\"\n",
    "\n",
    "\n",
    "from langgraph.graph import StateGraph, END\n",
    "\n",
    "workflow = StateGraph(PlanSimulateState)\n",
    "# Add nodes\n",
    "workflow.add_node(\"planner\", plan_step)\n",
    "workflow.add_node(\"converter\", convert_step)\n",
    "workflow.add_node(\"simulator\", simulate_step)\n",
    "workflow.add_node(\"replanner\", replan_step)\n",
    "\n",
    "# Add edges\n",
    "workflow.set_entry_point(\"planner\")\n",
    "workflow.add_edge(\"planner\", \"converter\")\n",
    "workflow.add_edge(\"converter\", \"simulator\")\n",
    "workflow.add_edge(\"replanner\", \"converter\")\n",
    "workflow.add_conditional_edges(\n",
    "    \"simulator\", should_replan, {\"replan\": \"replanner\", \"__end__\": END}\n",
    ")\n",
    "# Create graph\n",
    "app = workflow.compile()\n",
    "\n",
    "display(Image(app.get_graph(xray=True).draw_mermaid_png()))"
   ]
  },
  {
   "cell_type": "code",
   "execution_count": null,
   "metadata": {},
   "outputs": [],
   "source": [
    "def print_result(result):\n",
    "    print(f\"Original Intent: {result['input']}\")\n",
    "    print(\"=\" * 80)\n",
    "\n",
    "    txs = result[\"simulated_txs\"]\n",
    "\n",
    "    for index, (desc, tx_params, asset_changes) in enumerate(txs, 1):\n",
    "        normalized_from_address = tx_params.from_address.lower()\n",
    "        print(f\"#{index}\")\n",
    "        print(f\"Transaction Description:\")\n",
    "        print(f\"  {desc}\")\n",
    "        print(\"\\nTransaction Parameters:\")\n",
    "        print(f\"  From:    {tx_params.from_address}\")\n",
    "        print(f\"  To:      {tx_params.to_address}\")\n",
    "        print(f\"  Data:    {tx_params.data}\")\n",
    "        print(f\"  Value:   {tx_params.value}\")\n",
    "\n",
    "        # Check if there are any asset changes\n",
    "        if asset_changes:\n",
    "            print(\"\\nTransaction Summary:\")\n",
    "            _print_asset_changes(asset_changes, normalized_from_address)\n",
    "        print(\"-\" * 80)\n",
    "\n",
    "\n",
    "def _print_asset_changes(asset_changes, from_address):\n",
    "    from graph.replanner import convert_hex_amount_to_decimal\n",
    "\n",
    "    for asset_change in asset_changes:\n",
    "        dir = _get_direction(asset_change.sender, asset_change.receiver, from_address)\n",
    "        amount = convert_hex_amount_to_decimal(\n",
    "            asset_change.raw_amount, asset_change.decimals\n",
    "        )\n",
    "        print(f\"  {dir}{amount} {asset_change.symbol}\")\n",
    "\n",
    "\n",
    "def _get_direction(asset_sender: str, asset_receiver: str, from_address: str) -> str:\n",
    "    if asset_sender.lower() == from_address:\n",
    "        return \"-\"\n",
    "    elif asset_receiver.lower() == from_address:\n",
    "        return \"+\"\n",
    "    raise ValueError(\"Asset sender and receiver cannot be the same\")"
   ]
  },
  {
   "cell_type": "code",
   "execution_count": null,
   "metadata": {},
   "outputs": [],
   "source": [
    "from_address = \"0xd8da6bf26964af9d7eed9e03e53415d37aa96045\"\n",
    "\n",
    "# Single-step transactions\n",
    "case1 = {\n",
    "    \"from_address\": from_address,\n",
    "    \"input\": \"Send 0.2 ETH to Scott\",\n",
    "}\n",
    "\n",
    "# Multi-step transactions\n",
    "case2 = {\n",
    "    \"from_address\": from_address,\n",
    "    \"input\": \"Swap 0.05 USDC to USDT\",\n",
    "}\n",
    "\n",
    "# Pre-defined multi-step transactions\n",
    "case3 = {\n",
    "    \"from_address\": from_address,\n",
    "    \"input\": \"Stake 0.3 ETH with Lido and restake on Eigenpie\",\n",
    "}\n",
    "\n",
    "# Reverted Tx.\n",
    "case4 = {\n",
    "    \"from_address\": from_address,\n",
    "    \"input\": \"Send 2000 ETH to Scott\",\n",
    "}\n",
    "\n",
    "# Lack of Info.\n",
    "case5 = {\n",
    "    \"from_address\": from_address,\n",
    "    \"input\": \"Send all my USDC to a random address\",\n",
    "}"
   ]
  },
  {
   "cell_type": "code",
   "execution_count": null,
   "metadata": {},
   "outputs": [],
   "source": [
    "result = await app.ainvoke(case1)\n",
    "print_result(result)"
   ]
  },
  {
   "cell_type": "code",
   "execution_count": null,
   "metadata": {},
   "outputs": [],
   "source": [
    "result = await app.ainvoke(case2)\n",
    "print_result(result)"
   ]
  },
  {
   "cell_type": "code",
   "execution_count": null,
   "metadata": {},
   "outputs": [],
   "source": [
    "result = await app.ainvoke(case3)\n",
    "print_result(result)"
   ]
  },
  {
   "cell_type": "code",
   "execution_count": null,
   "metadata": {},
   "outputs": [],
   "source": [
    "result = await app.ainvoke(case4)\n",
    "print_result(result)"
   ]
  },
  {
   "cell_type": "code",
   "execution_count": null,
   "metadata": {},
   "outputs": [],
   "source": [
    "result = await app.ainvoke(case5)\n",
    "print_result(result)"
   ]
  },
  {
   "cell_type": "code",
   "execution_count": null,
   "metadata": {},
   "outputs": [],
   "source": [
    "# async for type, chunk in app.astream(input, stream_mode=[\"values\", \"updates\"]):\n",
    "#     print(f\"Type: {type}\")\n",
    "#     if type == \"values\":\n",
    "#         print(f\"Graph: {chunk}\")\n",
    "#         print(\"-\" * 100)\n",
    "#     elif type == \"updates\":\n",
    "#         for node, values in chunk.items():\n",
    "#             print(f\"Node: {node}\")\n",
    "#             print(values)\n",
    "#             print(\"-\" * 100)"
   ]
  }
 ],
 "metadata": {
  "kernelspec": {
   "display_name": ".venv",
   "language": "python",
   "name": "python3"
  },
  "language_info": {
   "codemirror_mode": {
    "name": "ipython",
    "version": 3
   },
   "file_extension": ".py",
   "mimetype": "text/x-python",
   "name": "python",
   "nbconvert_exporter": "python",
   "pygments_lexer": "ipython3",
   "version": "3.11.9"
  }
 },
 "nbformat": 4,
 "nbformat_minor": 2
}
