{
 "cells": [
  {
   "cell_type": "code",
   "execution_count": 1,
   "metadata": {},
   "outputs": [],
   "source": [
    "import os\n",
    "\n",
    "# os.environ[\"LANGCHAIN_TRACING_V2\"] = \"true\"\n",
    "# os.environ[\"LANGCHAIN_PROJECT\"] = \"tx-generator\""
   ]
  },
  {
   "cell_type": "code",
   "execution_count": 2,
   "metadata": {},
   "outputs": [],
   "source": [
    "import operator\n",
    "from typing import Annotated, List, Tuple, Literal\n",
    "\n",
    "from IPython.display import Image, display\n",
    "\n",
    "from graph.state import PlanSimulateState\n",
    "from models.case import BatchCase"
   ]
  },
  {
   "cell_type": "code",
   "execution_count": 3,
   "metadata": {},
   "outputs": [],
   "source": [
    "from graph.planner import planner"
   ]
  },
  {
   "cell_type": "code",
   "execution_count": 4,
   "metadata": {},
   "outputs": [],
   "source": [
    "from graph.converter_tool import generate_tx_params"
   ]
  },
  {
   "cell_type": "code",
   "execution_count": 5,
   "metadata": {},
   "outputs": [],
   "source": [
    "from graph.tools.simulation import simulate_transaction"
   ]
  },
  {
   "cell_type": "code",
   "execution_count": null,
   "metadata": {},
   "outputs": [],
   "source": [
    "from graph.replanner import replan_step"
   ]
  },
  {
   "cell_type": "code",
   "execution_count": 6,
   "metadata": {},
   "outputs": [
    {
     "data": {
      "image/jpeg": "[encoded data removed]",
      "text/plain": [
       "<IPython.core.display.Image object>"
      ]
     },
     "metadata": {},
     "output_type": "display_data"
    }
   ],
   "source": [
    "async def plan_step(state: PlanSimulateState):\n",
    "    plan = await planner.ainvoke(state[\"input\"])\n",
    "    steps = [step.description for step in plan.steps]\n",
    "    return {\"steps\": steps}\n",
    "\n",
    "\n",
    "async def convert_step(state: PlanSimulateState):\n",
    "    step = state[\"steps\"][0]\n",
    "    tx_params = await generate_tx_params(step, state[\"from_address\"])\n",
    "    return {\"current_step\": (step, tx_params)}\n",
    "\n",
    "\n",
    "async def simulate_step(state: PlanSimulateState):\n",
    "    step, tx_params = state[\"current_step\"]\n",
    "    print(f\"Simulating step: {step}\")\n",
    "    simulated_txs = [tx for _, tx, _ in state[\"simulated_txs\"]]\n",
    "    txs = simulated_txs + [tx_params]\n",
    "\n",
    "    result = await simulate_transaction.ainvoke({\"transactions\": txs})\n",
    "    # Get the result of the last transaction\n",
    "    last_tx_result = result.tx_results[-1]\n",
    "    # If the last transaction is successful, add it to the list of simulated transactions\n",
    "    if not last_tx_result.error:\n",
    "        return {\n",
    "            \"simulated_txs\": [(step, tx_params, last_tx_result.asset_changes)],\n",
    "            # Remove the current step if the simulation is successful\n",
    "            \"steps\": state[\"steps\"][1:],\n",
    "        }\n",
    "    else:\n",
    "        return {\"error\": last_tx_result.error}\n",
    "\n",
    "\n",
    "def should_continue(state: PlanSimulateState) -> Literal[\"continue\", \"end\"]:\n",
    "    steps = state[\"steps\"]\n",
    "    if steps:\n",
    "        return \"continue\"\n",
    "    else:\n",
    "        return \"end\"\n",
    "\n",
    "\n",
    "from langgraph.graph import StateGraph, END\n",
    "\n",
    "workflow = StateGraph(PlanSimulateState)\n",
    "# Add nodes\n",
    "workflow.add_node(\"planner\", plan_step)\n",
    "workflow.add_node(\"converter\", convert_step)\n",
    "workflow.add_node(\"simulator\", simulate_step)\n",
    "workflow.add_node(\"replanner\", replan_step)\n",
    "\n",
    "# Add edges\n",
    "workflow.set_entry_point(\"planner\")\n",
    "workflow.add_edge(\"planner\", \"converter\")\n",
    "workflow.add_edge(\"converter\", \"simulator\")\n",
    "workflow.add_edge(\"simulator\", \"replanner\")\n",
    "workflow.add_conditional_edges(\n",
    "    \"replanner\", should_continue, {\"continue\": \"converter\", \"end\": END}\n",
    ")\n",
    "# Create graph\n",
    "app = workflow.compile()\n",
    "\n",
    "display(Image(app.get_graph(xray=True).draw_mermaid_png()))"
   ]
  },
  {
   "cell_type": "code",
   "execution_count": null,
   "metadata": {},
   "outputs": [],
   "source": [
    "input = {\n",
    "    \"from_address\": \"0xd8da6bf26964af9d7eed9e03e53415d37aa96045\",\n",
    "    \"input\": \"Stake 0.03 ETH with Lido and deposit to Eigenpie\",\n",
    "}\n",
    "await app.ainvoke(input, {\"recursion_limit\": 100})"
   ]
  },
  {
   "cell_type": "code",
   "execution_count": 7,
   "metadata": {},
   "outputs": [
    {
     "name": "stdout",
     "output_type": "stream",
     "text": [
      "Fetching ABI from Etherscan for address: 0xae7ab96520de3a18e5e111b5eaab095312d7fe84\n",
      "Proxy contract detected at 0xae7ab96520de3a18e5e111b5eaab095312d7fe84\n",
      "Implementation address: 0x17144556fd3424EDC8Fc8A4C940B2D04936d17eb\n",
      "Fetching ABI from Etherscan for address: 0x17144556fd3424EDC8Fc8A4C940B2D04936d17eb\n",
      "Not a proxy contract, returning the ABI\n",
      "Simulating step: Stake 0.03 ETH to Lido to receive stETH.\n",
      "Proxy contract detected at 0xae7ab96520de3a18e5e111b5eaab095312d7fe84\n",
      "Implementation address: 0x17144556fd3424EDC8Fc8A4C940B2D04936d17eb\n",
      "Not a proxy contract, returning the ABI\n",
      "Simulating step: Approve 0.029999999999999999 stETH to be used by Eigenpie.\n",
      "Fetching ABI from Etherscan for address: 0x24db6717dB1C75B9Db6eA47164D8730B63875dB7\n",
      "Not a proxy contract, returning the ABI\n",
      "Simulating step: Stake 0.029999999999999999 stETH to Eigenpie.\n",
      "Simulating step: Approve 0.029999999999999999 stETH to be used by Eigenpie.\n",
      "Not a proxy contract, returning the ABI\n",
      "Simulating step: Stake 0.029999999999999999 stETH to Eigenpie.\n",
      "Simulating step: Approve 0.029999999999999999 stETH to be used by Eigenpie.\n"
     ]
    },
    {
     "ename": "CancelledError",
     "evalue": "",
     "output_type": "error",
     "traceback": [
      "\u001b[0;31m---------------------------------------------------------------------------\u001b[0m",
      "\u001b[0;31mCancelledError\u001b[0m                            Traceback (most recent call last)",
      "Cell \u001b[0;32mIn[7], line 5\u001b[0m\n\u001b[1;32m      1\u001b[0m \u001b[38;5;28minput\u001b[39m \u001b[38;5;241m=\u001b[39m {\n\u001b[1;32m      2\u001b[0m     \u001b[38;5;124m\"\u001b[39m\u001b[38;5;124mfrom_address\u001b[39m\u001b[38;5;124m\"\u001b[39m: \u001b[38;5;124m\"\u001b[39m\u001b[38;5;124m0xd8da6bf26964af9d7eed9e03e53415d37aa96045\u001b[39m\u001b[38;5;124m\"\u001b[39m,\n\u001b[1;32m      3\u001b[0m     \u001b[38;5;124m\"\u001b[39m\u001b[38;5;124minput\u001b[39m\u001b[38;5;124m\"\u001b[39m: \u001b[38;5;124m\"\u001b[39m\u001b[38;5;124mStake 0.03 ETH with Lido and deposit to Eigenpie\u001b[39m\u001b[38;5;124m\"\u001b[39m,\n\u001b[1;32m      4\u001b[0m }\n\u001b[0;32m----> 5\u001b[0m \u001b[38;5;28;01mawait\u001b[39;00m app\u001b[38;5;241m.\u001b[39mainvoke(\u001b[38;5;28minput\u001b[39m, {\u001b[38;5;124m\"\u001b[39m\u001b[38;5;124mrecursion_limit\u001b[39m\u001b[38;5;124m\"\u001b[39m: \u001b[38;5;241m100\u001b[39m})\n",
      "File \u001b[0;32m~/Developer/ai/tx-generator/.venv/lib/python3.11/site-packages/langgraph/pregel/__init__.py:1521\u001b[0m, in \u001b[0;36mPregel.ainvoke\u001b[0;34m(self, input, config, stream_mode, output_keys, interrupt_before, interrupt_after, debug, **kwargs)\u001b[0m\n\u001b[1;32m   1519\u001b[0m \u001b[38;5;28;01melse\u001b[39;00m:\n\u001b[1;32m   1520\u001b[0m     chunks \u001b[38;5;241m=\u001b[39m []\n\u001b[0;32m-> 1521\u001b[0m \u001b[38;5;28;01masync\u001b[39;00m \u001b[38;5;28;01mfor\u001b[39;00m chunk \u001b[38;5;129;01min\u001b[39;00m \u001b[38;5;28mself\u001b[39m\u001b[38;5;241m.\u001b[39mastream(\n\u001b[1;32m   1522\u001b[0m     \u001b[38;5;28minput\u001b[39m,\n\u001b[1;32m   1523\u001b[0m     config,\n\u001b[1;32m   1524\u001b[0m     stream_mode\u001b[38;5;241m=\u001b[39mstream_mode,\n\u001b[1;32m   1525\u001b[0m     output_keys\u001b[38;5;241m=\u001b[39moutput_keys,\n\u001b[1;32m   1526\u001b[0m     interrupt_before\u001b[38;5;241m=\u001b[39minterrupt_before,\n\u001b[1;32m   1527\u001b[0m     interrupt_after\u001b[38;5;241m=\u001b[39minterrupt_after,\n\u001b[1;32m   1528\u001b[0m     debug\u001b[38;5;241m=\u001b[39mdebug,\n\u001b[1;32m   1529\u001b[0m     \u001b[38;5;241m*\u001b[39m\u001b[38;5;241m*\u001b[39mkwargs,\n\u001b[1;32m   1530\u001b[0m ):\n\u001b[1;32m   1531\u001b[0m     \u001b[38;5;28;01mif\u001b[39;00m stream_mode \u001b[38;5;241m==\u001b[39m \u001b[38;5;124m\"\u001b[39m\u001b[38;5;124mvalues\u001b[39m\u001b[38;5;124m\"\u001b[39m:\n\u001b[1;32m   1532\u001b[0m         latest \u001b[38;5;241m=\u001b[39m chunk\n",
      "File \u001b[0;32m~/Developer/ai/tx-generator/.venv/lib/python3.11/site-packages/langgraph/pregel/__init__.py:1411\u001b[0m, in \u001b[0;36mPregel.astream\u001b[0;34m(self, input, config, stream_mode, output_keys, interrupt_before, interrupt_after, debug, subgraphs)\u001b[0m\n\u001b[1;32m   1400\u001b[0m \u001b[38;5;66;03m# Similarly to Bulk Synchronous Parallel / Pregel model\u001b[39;00m\n\u001b[1;32m   1401\u001b[0m \u001b[38;5;66;03m# computation proceeds in steps, while there are channel updates\u001b[39;00m\n\u001b[1;32m   1402\u001b[0m \u001b[38;5;66;03m# channel updates from step N are only visible in step N+1\u001b[39;00m\n\u001b[1;32m   1403\u001b[0m \u001b[38;5;66;03m# channels are guaranteed to be immutable for the duration of the step,\u001b[39;00m\n\u001b[1;32m   1404\u001b[0m \u001b[38;5;66;03m# with channel updates applied only at the transition between steps\u001b[39;00m\n\u001b[1;32m   1405\u001b[0m \u001b[38;5;28;01mwhile\u001b[39;00m loop\u001b[38;5;241m.\u001b[39mtick(\n\u001b[1;32m   1406\u001b[0m     input_keys\u001b[38;5;241m=\u001b[39m\u001b[38;5;28mself\u001b[39m\u001b[38;5;241m.\u001b[39minput_channels,\n\u001b[1;32m   1407\u001b[0m     interrupt_before\u001b[38;5;241m=\u001b[39minterrupt_before,\n\u001b[1;32m   1408\u001b[0m     interrupt_after\u001b[38;5;241m=\u001b[39minterrupt_after,\n\u001b[1;32m   1409\u001b[0m     manager\u001b[38;5;241m=\u001b[39mrun_manager,\n\u001b[1;32m   1410\u001b[0m ):\n\u001b[0;32m-> 1411\u001b[0m     \u001b[38;5;28;01masync\u001b[39;00m \u001b[38;5;28;01mfor\u001b[39;00m _ \u001b[38;5;129;01min\u001b[39;00m runner\u001b[38;5;241m.\u001b[39matick(\n\u001b[1;32m   1412\u001b[0m         loop\u001b[38;5;241m.\u001b[39mtasks\u001b[38;5;241m.\u001b[39mvalues(),\n\u001b[1;32m   1413\u001b[0m         timeout\u001b[38;5;241m=\u001b[39m\u001b[38;5;28mself\u001b[39m\u001b[38;5;241m.\u001b[39mstep_timeout,\n\u001b[1;32m   1414\u001b[0m         retry_policy\u001b[38;5;241m=\u001b[39m\u001b[38;5;28mself\u001b[39m\u001b[38;5;241m.\u001b[39mretry_policy,\n\u001b[1;32m   1415\u001b[0m     ):\n\u001b[1;32m   1416\u001b[0m         \u001b[38;5;66;03m# emit output\u001b[39;00m\n\u001b[1;32m   1417\u001b[0m         \u001b[38;5;28;01mfor\u001b[39;00m o \u001b[38;5;129;01min\u001b[39;00m output():\n\u001b[1;32m   1418\u001b[0m             \u001b[38;5;28;01myield\u001b[39;00m o\n",
      "File \u001b[0;32m~/Developer/ai/tx-generator/.venv/lib/python3.11/site-packages/langgraph/pregel/runner.py:126\u001b[0m, in \u001b[0;36mPregelRunner.atick\u001b[0;34m(self, tasks, reraise, timeout, retry_policy)\u001b[0m\n\u001b[1;32m    124\u001b[0m end_time \u001b[38;5;241m=\u001b[39m timeout \u001b[38;5;241m+\u001b[39m loop\u001b[38;5;241m.\u001b[39mtime() \u001b[38;5;28;01mif\u001b[39;00m timeout \u001b[38;5;28;01melse\u001b[39;00m \u001b[38;5;28;01mNone\u001b[39;00m\n\u001b[1;32m    125\u001b[0m \u001b[38;5;28;01mwhile\u001b[39;00m futures:\n\u001b[0;32m--> 126\u001b[0m     done, _ \u001b[38;5;241m=\u001b[39m \u001b[38;5;28;01mawait\u001b[39;00m asyncio\u001b[38;5;241m.\u001b[39mwait(\n\u001b[1;32m    127\u001b[0m         futures,\n\u001b[1;32m    128\u001b[0m         return_when\u001b[38;5;241m=\u001b[39masyncio\u001b[38;5;241m.\u001b[39mFIRST_COMPLETED,\n\u001b[1;32m    129\u001b[0m         timeout\u001b[38;5;241m=\u001b[39m(\u001b[38;5;28mmax\u001b[39m(\u001b[38;5;241m0\u001b[39m, end_time \u001b[38;5;241m-\u001b[39m loop\u001b[38;5;241m.\u001b[39mtime()) \u001b[38;5;28;01mif\u001b[39;00m end_time \u001b[38;5;28;01melse\u001b[39;00m \u001b[38;5;28;01mNone\u001b[39;00m),\n\u001b[1;32m    130\u001b[0m     )\n\u001b[1;32m    131\u001b[0m     \u001b[38;5;28;01mif\u001b[39;00m \u001b[38;5;129;01mnot\u001b[39;00m done:\n\u001b[1;32m    132\u001b[0m         \u001b[38;5;28;01mbreak\u001b[39;00m  \u001b[38;5;66;03m# timed out\u001b[39;00m\n",
      "File \u001b[0;32m/opt/homebrew/Cellar/python@3.11/3.11.9_1/Frameworks/Python.framework/Versions/3.11/lib/python3.11/asyncio/tasks.py:428\u001b[0m, in \u001b[0;36mwait\u001b[0;34m(fs, timeout, return_when)\u001b[0m\n\u001b[1;32m    425\u001b[0m     \u001b[38;5;28;01mraise\u001b[39;00m \u001b[38;5;167;01mTypeError\u001b[39;00m(\u001b[38;5;124m\"\u001b[39m\u001b[38;5;124mPassing coroutines is forbidden, use tasks explicitly.\u001b[39m\u001b[38;5;124m\"\u001b[39m)\n\u001b[1;32m    427\u001b[0m loop \u001b[38;5;241m=\u001b[39m events\u001b[38;5;241m.\u001b[39mget_running_loop()\n\u001b[0;32m--> 428\u001b[0m \u001b[38;5;28;01mreturn\u001b[39;00m \u001b[38;5;28;01mawait\u001b[39;00m _wait(fs, timeout, return_when, loop)\n",
      "File \u001b[0;32m/opt/homebrew/Cellar/python@3.11/3.11.9_1/Frameworks/Python.framework/Versions/3.11/lib/python3.11/asyncio/tasks.py:535\u001b[0m, in \u001b[0;36m_wait\u001b[0;34m(fs, timeout, return_when, loop)\u001b[0m\n\u001b[1;32m    532\u001b[0m     f\u001b[38;5;241m.\u001b[39madd_done_callback(_on_completion)\n\u001b[1;32m    534\u001b[0m \u001b[38;5;28;01mtry\u001b[39;00m:\n\u001b[0;32m--> 535\u001b[0m     \u001b[38;5;28;01mawait\u001b[39;00m waiter\n\u001b[1;32m    536\u001b[0m \u001b[38;5;28;01mfinally\u001b[39;00m:\n\u001b[1;32m    537\u001b[0m     \u001b[38;5;28;01mif\u001b[39;00m timeout_handle \u001b[38;5;129;01mis\u001b[39;00m \u001b[38;5;129;01mnot\u001b[39;00m \u001b[38;5;28;01mNone\u001b[39;00m:\n",
      "\u001b[0;31mCancelledError\u001b[0m: "
     ]
    }
   ],
   "source": [
    "input = {\n",
    "    \"from_address\": \"0xd8da6bf26964af9d7eed9e03e53415d37aa96045\",\n",
    "    \"input\": \"Stake 0.03 ETH with Lido and deposit to Eigenpie\",\n",
    "}\n",
    "await app.ainvoke(input, {\"recursion_limit\": 100})"
   ]
  }
 ],
 "metadata": {
  "kernelspec": {
   "display_name": ".venv",
   "language": "python",
   "name": "python3"
  },
  "language_info": {
   "codemirror_mode": {
    "name": "ipython",
    "version": 3
   },
   "file_extension": ".py",
   "mimetype": "text/x-python",
   "name": "python",
   "nbconvert_exporter": "python",
   "pygments_lexer": "ipython3",
   "version": "3.11.9"
  }
 },
 "nbformat": 4,
 "nbformat_minor": 2
}
