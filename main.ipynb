{
 "cells": [
  {
   "cell_type": "code",
   "execution_count": 1,
   "metadata": {},
   "outputs": [],
   "source": [
    "import os\n",
    "\n",
    "os.environ[\"LANGCHAIN_TRACING_V2\"] = \"true\""
   ]
  },
  {
   "cell_type": "code",
   "execution_count": 2,
   "metadata": {},
   "outputs": [
    {
     "ename": "ImportError",
     "evalue": "cannot import name 'case_transformer' from 'case.code_generator' (/Users/clement/Developer/ai/tx-generator/case/code_generator.py)",
     "output_type": "error",
     "traceback": [
      "\u001b[0;31m---------------------------------------------------------------------------\u001b[0m",
      "\u001b[0;31mImportError\u001b[0m                               Traceback (most recent call last)",
      "Cell \u001b[0;32mIn[2], line 1\u001b[0m\n\u001b[0;32m----> 1\u001b[0m \u001b[38;5;28;01mfrom\u001b[39;00m \u001b[38;5;21;01mcase\u001b[39;00m\u001b[38;5;21;01m.\u001b[39;00m\u001b[38;5;21;01mcode_generator\u001b[39;00m \u001b[38;5;28;01mimport\u001b[39;00m generate, case_transformer\n",
      "\u001b[0;31mImportError\u001b[0m: cannot import name 'case_transformer' from 'case.code_generator' (/Users/clement/Developer/ai/tx-generator/case/code_generator.py)"
     ]
    }
   ],
   "source": [
    "from case.code_generator import generate, case_transformer"
   ]
  },
  {
   "cell_type": "code",
   "execution_count": null,
   "metadata": {},
   "outputs": [],
   "source": [
    "generate().invoke(\"Send 10 USDC to Alice\")"
   ]
  },
  {
   "cell_type": "code",
   "execution_count": null,
   "metadata": {},
   "outputs": [],
   "source": [
    "generate().invoke(\"Supply 100 USDC to Compound\")"
   ]
  },
  {
   "cell_type": "code",
   "execution_count": null,
   "metadata": {},
   "outputs": [],
   "source": [
    "from utils.printer import print_markdown\n",
    "\n",
    "response = case_transformer().invoke(\n",
    "    \"How many steps for the tx: Swap 10 USDC to DAI on Uniswap\"\n",
    ")\n",
    "print_markdown(response.content)"
   ]
  },
  {
   "cell_type": "code",
   "execution_count": null,
   "metadata": {},
   "outputs": [],
   "source": [
    "response = case_transformer().invoke(\n",
    "    \"How many steps for the tx: Supply 100 USDC to Compound\"\n",
    ")\n",
    "print_markdown(response.content)"
   ]
  },
  {
   "cell_type": "code",
   "execution_count": null,
   "metadata": {},
   "outputs": [],
   "source": [
    "response = case_transformer().invoke(\"How many steps for the tx: Stake ETH to Lido.\")\n",
    "print_markdown(response.content)"
   ]
  },
  {
   "cell_type": "code",
   "execution_count": null,
   "metadata": {},
   "outputs": [],
   "source": [
    "response = case_transformer().invoke(\"How many steps for the tx: Unstake from Lido.\")\n",
    "print_markdown(response.content)"
   ]
  },
  {
   "cell_type": "code",
   "execution_count": null,
   "metadata": {},
   "outputs": [],
   "source": [
    "from utils.printer import print_markdown\n",
    "\n",
    "response = case_transformer().invoke(\"How many steps for the tx: Supply USDT to AAVE\")\n",
    "print_markdown(response.content)"
   ]
  },
  {
   "cell_type": "code",
   "execution_count": null,
   "metadata": {},
   "outputs": [],
   "source": [
    "from utils.printer import print_markdown\n",
    "\n",
    "response = case_transformer().invoke(\n",
    "    \"How many steps for the tx: Orbit lending protocol case\"\n",
    ")\n",
    "print_markdown(response.content)"
   ]
  },
  {
   "cell_type": "code",
   "execution_count": null,
   "metadata": {},
   "outputs": [],
   "source": [
    "from typing import Annotated\n",
    "from typing_extensions import TypedDict\n",
    "from langgraph.graph import StateGraph, MessageGraph\n",
    "from langgraph.graph.message import add_messages\n",
    "\n",
    "\n",
    "class CodeGenState(TypedDict):\n",
    "    messages: Annotated[list, add_messages]\n",
    "    has_error: bool\n",
    "\n",
    "\n",
    "def chatbot(state: CodeGenState):\n",
    "    return {\"messages\": generate(state[\"messages\"])}\n",
    "\n",
    "\n",
    "graph_builder = StateGraph(CodeGenState)\n",
    "graph_builder.add_node(\"chatbot\", chatbot)\n",
    "graph_builder.set_entry_point(\"chatbot\")\n",
    "graph_builder.set_finish_point(\"chatbot\")\n",
    "graph = graph_builder.compile()"
   ]
  }
 ],
 "metadata": {
  "kernelspec": {
   "display_name": ".venv",
   "language": "python",
   "name": "python3"
  },
  "language_info": {
   "codemirror_mode": {
    "name": "ipython",
    "version": 3
   },
   "file_extension": ".py",
   "mimetype": "text/x-python",
   "name": "python",
   "nbconvert_exporter": "python",
   "pygments_lexer": "ipython3",
   "version": "3.11.9"
  }
 },
 "nbformat": 4,
 "nbformat_minor": 2
}
