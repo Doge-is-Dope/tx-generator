{
 "cells": [
  {
   "cell_type": "code",
   "execution_count": 1,
   "metadata": {},
   "outputs": [],
   "source": [
    "import os\n",
    "\n",
    "os.environ[\"LANGCHAIN_TRACING_V2\"] = \"true\"\n",
    "os.environ[\"LANGCHAIN_PROJECT\"] = \"simulator\""
   ]
  },
  {
   "cell_type": "code",
   "execution_count": 2,
   "metadata": {},
   "outputs": [],
   "source": [
    "from graph.tools.simulation import TransactionParams\n",
    "\n",
    "# Step 1: Send 0.01 ETH to the address 0x8c575b178927fF9A70804B8b4F7622F7666bB360\n",
    "# Step 2: Transfer 100 USDT to Scott's Ethereum address.\n",
    "case1 = [\n",
    "    TransactionParams(\n",
    "        from_address=\"0xd8da6bf26964af9d7eed9e03e53415d37aa96045\",\n",
    "        to_address=\"0x8c575b178927fF9A70804B8b4F7622F7666bB360\",\n",
    "        data=\"0x\",\n",
    "        value=\"0x2386f26fc10000\",\n",
    "    ),\n",
    "    TransactionParams(\n",
    "        from_address=\"0xd8da6bf26964af9d7eed9e03e53415d37aa96045\",\n",
    "        to_address=\"0xdAC17F958D2ee523a2206206994597C13D831ec7\",\n",
    "        data=\"0xa9059cbb000000000000000000000000b859d7eb5e319e54dc23c83dfe93e649b88202b60000000000000000000000000000000000000000000000000000000005f5e100\",\n",
    "        value=\"0x0\",\n",
    "    ),\n",
    "]\n",
    "\n",
    "# Step 1: Approve 100 USDT for swapping on a decentralized exchange.\n",
    "# Step 2: Swap 100 USDT to USDC on the chosen decentralized exchange.\n",
    "case2 = [\n",
    "    TransactionParams(\n",
    "        from_address=\"0xd8da6bf26964af9d7eed9e03e53415d37aa96045\",\n",
    "        to_address=\"0xdAC17F958D2ee523a2206206994597C13D831ec7\",\n",
    "        data=\"0x095ea7b30000000000000000000000007a250d5630b4cf539739df2c5dacb4c659f2488d0000000000000000000000000000000000000000000000000000000005f5e100\",\n",
    "        value=\"0x0\",\n",
    "    ),\n",
    "    TransactionParams(\n",
    "        from_address=\"0xd8dA6BF26964aF9D7eEd9e03E53415D37aA96045\",\n",
    "        to_address=\"0x7a250d5630B4cF539739dF2C5dAcb4c659F2488D\",\n",
    "        data=\"0x38ed17390000000000000000000000000000000000000000000000000000000005f5e100000000000000000000000000000000000000000000000000000000000000000000000000000000000000000000000000000000000000000000000000000000a0000000000000000000000000d8da6bf26964af9d7eed9e03e53415d37aa960450000000000000000000000000000000000000000000000000000000066e46aad0000000000000000000000000000000000000000000000000000000000000002000000000000000000000000dac17f958d2ee523a2206206994597c13d831ec7000000000000000000000000a0b86991c6218b36c1d19d4a2e9eb0ce3606eb48\",\n",
    "        value=\"0x0\",\n",
    "    ),\n",
    "]\n",
    "# Step1: Stake 0.03 ETH to Lido to receive stETH.\n",
    "case3 = [\n",
    "    TransactionParams(\n",
    "        from_address=\"0xd8da6bf26964af9d7eed9e03e53415d37aa96045\",\n",
    "        to_address=\"0xae7ab96520DE3A18E5e111B5EaAb095312D7fE84\",\n",
    "        data=\"0xa1903eab0000000000000000000000000000000000000000000000000000000000000000\",\n",
    "        value=\"0x6a94d74f430000\",\n",
    "    )\n",
    "]"
   ]
  },
  {
   "cell_type": "code",
   "execution_count": 3,
   "metadata": {},
   "outputs": [],
   "source": [
    "import asyncio\n",
    "from graph.tools.simulation import simulate_transaction"
   ]
  },
  {
   "cell_type": "code",
   "execution_count": 4,
   "metadata": {},
   "outputs": [
    {
     "name": "stdout",
     "output_type": "stream",
     "text": [
      "{\"from_address\": \"0xd8da6bf26964af9d7eed9e03e53415d37aa96045\", \"tx_results\": [{\"from_address\": \"0xd8da6bf26964af9d7eed9e03e53415d37aa96045\", \"to_address\": \"0x8c575b178927ff9a70804b8b4f7622f7666bb360\", \"asset_changes\": [{\"type\": \"Transfer\", \"name\": \"Ethereum\", \"symbol\": \"eth\", \"decimals\": 18, \"raw_amount\": \"0x2386f26fc10000\", \"sender\": \"0xd8da6bf26964af9d7eed9e03e53415d37aa96045\", \"receiver\": \"0x8c575b178927ff9a70804b8b4f7622f7666bb360\", \"contract_address\": \"\"}], \"error\": \"\"}, {\"from_address\": \"0xd8da6bf26964af9d7eed9e03e53415d37aa96045\", \"to_address\": \"0xdac17f958d2ee523a2206206994597c13d831ec7\", \"asset_changes\": [{\"type\": \"Transfer\", \"name\": \"Tether\", \"symbol\": \"usdt\", \"decimals\": 6, \"raw_amount\": \"0x5f5e100\", \"sender\": \"0xd8da6bf26964af9d7eed9e03e53415d37aa96045\", \"receiver\": \"0xb859d7eb5e319e54dc23c83dfe93e649b88202b6\", \"contract_address\": \"0xdac17f958d2ee523a2206206994597c13d831ec7\"}], \"error\": \"\"}]}\n",
      "----------------------------------------\n",
      "#1: Successful\n",
      "Amount: -0.01 ETH \n",
      "- Hex: 0x2386f26fc10000\n",
      "- Decimal: 10_000_000_000_000_000\n",
      "----------------------------------------\n",
      "#2: Successful\n",
      "Amount: -1 USDT (0xdac17f958d2ee523a2206206994597c13d831ec7)\n",
      "- Hex: 0x5f5e100\n",
      "- Decimal: 100_000_000\n",
      "----------------------------------------\n"
     ]
    }
   ],
   "source": [
    "res = simulate_transaction.invoke({\"transactions\": case1})\n",
    "print(res.json())\n",
    "print(\"-\" * 40)\n",
    "res.pretty_print()"
   ]
  },
  {
   "cell_type": "code",
   "execution_count": 5,
   "metadata": {},
   "outputs": [],
   "source": [
    "await asyncio.sleep(1)"
   ]
  },
  {
   "cell_type": "code",
   "execution_count": 6,
   "metadata": {},
   "outputs": [
    {
     "name": "stdout",
     "output_type": "stream",
     "text": [
      "{\"from_address\": \"0xd8da6bf26964af9d7eed9e03e53415d37aa96045\", \"tx_results\": [{\"from_address\": \"0xd8da6bf26964af9d7eed9e03e53415d37aa96045\", \"to_address\": \"0xdac17f958d2ee523a2206206994597c13d831ec7\", \"asset_changes\": [], \"error\": \"\"}, {\"from_address\": \"0xd8da6bf26964af9d7eed9e03e53415d37aa96045\", \"to_address\": \"0x7a250d5630b4cf539739df2c5dacb4c659f2488d\", \"asset_changes\": [], \"error\": \"execution reverted: UniswapV2Router: EXPIRED\"}]}\n",
      "----------------------------------------\n",
      "#1: Successful\n",
      "----------------------------------------\n",
      "#2: Failed\n",
      "Error: execution reverted: UniswapV2Router: EXPIRED\n",
      "----------------------------------------\n"
     ]
    }
   ],
   "source": [
    "res = simulate_transaction.invoke({\"transactions\": case2})\n",
    "print(res.json())\n",
    "print(\"-\" * 40)\n",
    "res.pretty_print()"
   ]
  },
  {
   "cell_type": "code",
   "execution_count": 7,
   "metadata": {},
   "outputs": [],
   "source": [
    "await asyncio.sleep(1)"
   ]
  },
  {
   "cell_type": "code",
   "execution_count": 8,
   "metadata": {},
   "outputs": [
    {
     "name": "stdout",
     "output_type": "stream",
     "text": [
      "{\"from_address\": \"0xd8da6bf26964af9d7eed9e03e53415d37aa96045\", \"tx_results\": [{\"from_address\": \"0xd8da6bf26964af9d7eed9e03e53415d37aa96045\", \"to_address\": \"0xae7ab96520de3a18e5e111b5eaab095312d7fe84\", \"asset_changes\": [{\"type\": \"Mint\", \"name\": \"Lido Staked Ether\", \"symbol\": \"steth\", \"decimals\": 18, \"raw_amount\": \"0x6a94d74f42ffff\", \"sender\": \"\", \"receiver\": \"0xd8da6bf26964af9d7eed9e03e53415d37aa96045\", \"contract_address\": \"0xae7ab96520de3a18e5e111b5eaab095312d7fe84\"}, {\"type\": \"Transfer\", \"name\": \"Ethereum\", \"symbol\": \"eth\", \"decimals\": 18, \"raw_amount\": \"0x6a94d74f430000\", \"sender\": \"0xd8da6bf26964af9d7eed9e03e53415d37aa96045\", \"receiver\": \"0xae7ab96520de3a18e5e111b5eaab095312d7fe84\", \"contract_address\": \"\"}], \"error\": \"\"}]}\n",
      "----------------------------------------\n",
      "#1: Successful\n",
      "Amount: +0.029999999999999999 STETH (0xae7ab96520de3a18e5e111b5eaab095312d7fe84)\n",
      "- Hex: 0x6a94d74f42ffff\n",
      "- Decimal: 29_999_999_999_999_999\n",
      "Amount: -0.03 ETH \n",
      "- Hex: 0x6a94d74f430000\n",
      "- Decimal: 30_000_000_000_000_000\n",
      "----------------------------------------\n"
     ]
    }
   ],
   "source": [
    "res = simulate_transaction.invoke({\"transactions\": case3})\n",
    "print(res.json())\n",
    "print(\"-\" * 40)\n",
    "res.pretty_print()"
   ]
  }
 ],
 "metadata": {
  "kernelspec": {
   "display_name": ".venv",
   "language": "python",
   "name": "python3"
  },
  "language_info": {
   "codemirror_mode": {
    "name": "ipython",
    "version": 3
   },
   "file_extension": ".py",
   "mimetype": "text/x-python",
   "name": "python",
   "nbconvert_exporter": "python",
   "pygments_lexer": "ipython3",
   "version": "3.11.9"
  }
 },
 "nbformat": 4,
 "nbformat_minor": 2
}
