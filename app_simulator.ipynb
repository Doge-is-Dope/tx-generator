{
 "cells": [
  {
   "cell_type": "code",
   "execution_count": 1,
   "metadata": {},
   "outputs": [],
   "source": [
    "import os\n",
    "\n",
    "os.environ[\"LANGCHAIN_TRACING_V2\"] = \"true\"\n",
    "os.environ[\"LANGCHAIN_PROJECT\"] = \"simulation\""
   ]
  },
  {
   "cell_type": "markdown",
   "metadata": {},
   "source": [
    "## Prerequisites\n"
   ]
  },
  {
   "cell_type": "markdown",
   "metadata": {},
   "source": [
    "### Example batch case\n",
    "\n",
    "The following batch case is used as an example.\n"
   ]
  },
  {
   "cell_type": "code",
   "execution_count": 2,
   "metadata": {},
   "outputs": [],
   "source": [
    "from models.case import BatchCase, Transaction\n",
    "\n",
    "example_case = BatchCase(\n",
    "    id=\"swap_usdt_usdc\",\n",
    "    description=\"Swap 100 USDT for USDC on Uniswap and transfer to Alice\",\n",
    "    steps=[\n",
    "        Transaction(description=\"Approve USDT for Uniswap\"),\n",
    "        Transaction(description=\"Swap 100 USDT to USDC on Uniswap\"),\n",
    "        Transaction(description=\"Transfer USDC to Alice\"),\n",
    "    ],\n",
    ")"
   ]
  },
  {
   "cell_type": "markdown",
   "metadata": {},
   "source": [
    "### Contract addresses\n",
    "\n",
    "Assume the following contract addresses are known.\n"
   ]
  },
  {
   "cell_type": "code",
   "execution_count": 3,
   "metadata": {},
   "outputs": [],
   "source": [
    "# Contract addresses\n",
    "USDT_ADDR = \"0xdAC17F958D2ee523a2206206994597C13D831ec7\"\n",
    "USDC_ADDR = \"0xA0b86991c6218b36c1d19D4a2e9Eb0cE3606eB48\"\n",
    "UNISWAP_V2_ROUTER_ADDR = \"0x7a250d5630B4cF539739dF2C5dAcb4c659F2488D\"\n",
    "\n",
    "# Dummy EOA\n",
    "ALICE_ADDR = \"0x436f795B64E23E6cE7792af4923A68AFD3967952\"\n",
    "BOB_ADDR = \"0x8c575b178927fF9A70804B8b4F7622F7666bB360\""
   ]
  },
  {
   "cell_type": "markdown",
   "metadata": {},
   "source": [
    "### Tools\n",
    "\n",
    "We use web3.py to create the instances of the contracts.\n"
   ]
  },
  {
   "cell_type": "code",
   "execution_count": 4,
   "metadata": {},
   "outputs": [],
   "source": [
    "import os\n",
    "import json\n",
    "from web3 import Web3\n",
    "\n",
    "INFURA_API_KEY = os.getenv(\"INFURA_API_KEY\")\n",
    "web3 = Web3(Web3.HTTPProvider(f\"https://mainnet.infura.io/v3/{INFURA_API_KEY}\"))\n",
    "\n",
    "with open(\"abi/erc20.json\") as file:\n",
    "    erc20_contract_json = json.load(file)\n",
    "\n",
    "with open(\"abi/uniswap_v2_router.json\") as file:\n",
    "    uniswap_contract_json = json.load(file)\n",
    "\n",
    "# Contract instances\n",
    "usdc_contract = web3.eth.contract(abi=erc20_contract_json)\n",
    "usdt_contract = web3.eth.contract(abi=erc20_contract_json)\n",
    "uniswap_contract = web3.eth.contract(abi=uniswap_contract_json)"
   ]
  },
  {
   "cell_type": "markdown",
   "metadata": {},
   "source": [
    "Example usage of the contract instances.\n"
   ]
  },
  {
   "cell_type": "code",
   "execution_count": 5,
   "metadata": {},
   "outputs": [
    {
     "name": "stdout",
     "output_type": "stream",
     "text": [
      "Bob's USDT balance: 0.0\n",
      "Bob's USDC balance: 0.0\n",
      "Alice's USDT balance: 4.0\n",
      "Alice's USDC balance: 4.44435\n"
     ]
    }
   ],
   "source": [
    "def get_balance(token_address: str, address: str):\n",
    "    contract_instance = web3.eth.contract(\n",
    "        address=token_address, abi=erc20_contract_json\n",
    "    )\n",
    "    encoded = contract_instance.encode_abi(\"balanceOf\", args=[address])\n",
    "    tx = {\n",
    "        \"to\": token_address,\n",
    "        \"data\": encoded,\n",
    "    }\n",
    "\n",
    "    try:\n",
    "        # Perform the call\n",
    "        result = web3.eth.call(tx)\n",
    "        # Decode the result (balance) from bytes to integer\n",
    "        decoded_result = int.from_bytes(result)\n",
    "        # Convert to USDC (assuming 6 decimal places)\n",
    "        usdc_balance = decoded_result / 10**6\n",
    "        return usdc_balance\n",
    "    except Exception as e:\n",
    "        # Handle any errors that occur during the call\n",
    "        print(f\"An error occurred: {e}\")\n",
    "\n",
    "\n",
    "# Get balance of Bob\n",
    "print(\"Bob's USDT balance:\", get_balance(USDT_ADDR, BOB_ADDR))\n",
    "print(\"Bob's USDC balance:\", get_balance(USDC_ADDR, BOB_ADDR))\n",
    "\n",
    "# Get balance of Alice\n",
    "print(\"Alice's USDT balance:\", get_balance(USDT_ADDR, ALICE_ADDR))\n",
    "print(\"Alice's USDC balance:\", get_balance(USDC_ADDR, ALICE_ADDR))"
   ]
  },
  {
   "cell_type": "markdown",
   "metadata": {},
   "source": [
    "## Simulate the transaction\n",
    "\n",
    "Refer to the [Tenderly API documentation](https://docs.tenderly.co/node/rpc-reference/ethereum-mainnet/tenderly_simulateBundle) for more details.\n"
   ]
  },
  {
   "cell_type": "code",
   "execution_count": 6,
   "metadata": {},
   "outputs": [],
   "source": [
    "from graph.tools.simulation import (\n",
    "    simulate_transaction,\n",
    "    TransactionParams,\n",
    "    TransactionResult,\n",
    ")"
   ]
  },
  {
   "cell_type": "markdown",
   "metadata": {},
   "source": [
    "## Example - Successful\n"
   ]
  },
  {
   "cell_type": "code",
   "execution_count": 7,
   "metadata": {},
   "outputs": [
    {
     "name": "stdout",
     "output_type": "stream",
     "text": [
      "#1: Transaction was successful.\n",
      "-------------------------------------\n",
      "#2: Transaction was successful.\n",
      "💰 USDC (0xa0b86991c6218b36c1d19d4a2e9eb0ce3606eb48): -1,000,000 (0xf4240)\n",
      "💰 USDT (0xdac17f958d2ee523a2206206994597c13d831ec7): +998,696 (0xf3d28)\n",
      "-------------------------------------\n",
      "#3: Transaction was successful.\n",
      "💰 USDT (0xdac17f958d2ee523a2206206994597c13d831ec7): -4,000,001 (0x3d0901)\n",
      "-------------------------------------\n"
     ]
    }
   ],
   "source": [
    "import time\n",
    "\n",
    "example_tx = [\n",
    "    TransactionParams(\n",
    "        from_address=ALICE_ADDR,\n",
    "        to_address=USDC_ADDR,\n",
    "        data=usdc_contract.encode_abi(\n",
    "            \"approve\", args=[UNISWAP_V2_ROUTER_ADDR, 1_000_000]\n",
    "        ),\n",
    "        value=\"0x0\",\n",
    "    ),\n",
    "    TransactionParams(\n",
    "        from_address=ALICE_ADDR,\n",
    "        to_address=UNISWAP_V2_ROUTER_ADDR,\n",
    "        data=uniswap_contract.encode_abi(\n",
    "            \"swapExactTokensForTokens\",\n",
    "            args=[\n",
    "                1_000_000,\n",
    "                0,\n",
    "                [USDC_ADDR, USDT_ADDR],\n",
    "                ALICE_ADDR,\n",
    "                int(time.time()) + 500,\n",
    "            ],\n",
    "        ),\n",
    "        value=\"0x0\",\n",
    "    ),\n",
    "    TransactionParams(\n",
    "        from_address=ALICE_ADDR,\n",
    "        to_address=USDT_ADDR,\n",
    "        data=usdc_contract.encode_abi(\"transfer\", args=[BOB_ADDR, 4_000_001]),\n",
    "        value=\"0x0\",\n",
    "    ),\n",
    "]\n",
    "\n",
    "result = simulate_transaction(example_tx)\n",
    "result.pretty_print()"
   ]
  },
  {
   "cell_type": "markdown",
   "metadata": {},
   "source": [
    "## Example - Failed\n"
   ]
  },
  {
   "cell_type": "code",
   "execution_count": 8,
   "metadata": {},
   "outputs": [
    {
     "name": "stdout",
     "output_type": "stream",
     "text": [
      "#1: Transaction was failed.\n",
      "execution reverted: ERC20: transfer amount exceeds allowance\n",
      "-------------------------------------\n"
     ]
    }
   ],
   "source": [
    "import time\n",
    "\n",
    "example_tx = [\n",
    "    TransactionParams(\n",
    "        from_address=ALICE_ADDR,\n",
    "        to_address=UNISWAP_V2_ROUTER_ADDR,\n",
    "        data=uniswap_contract.encode_abi(\n",
    "            \"swapExactTokensForTokens\",\n",
    "            args=[\n",
    "                1_000_000,\n",
    "                0,\n",
    "                [USDC_ADDR, USDT_ADDR],\n",
    "                ALICE_ADDR,\n",
    "                int(time.time()) + 500,\n",
    "            ],\n",
    "        ),\n",
    "        value=\"0x0\",\n",
    "    ),\n",
    "]\n",
    "\n",
    "result = simulate_transaction(example_tx)\n",
    "result.pretty_print()"
   ]
  }
 ],
 "metadata": {
  "kernelspec": {
   "display_name": ".venv",
   "language": "python",
   "name": "python3"
  },
  "language_info": {
   "codemirror_mode": {
    "name": "ipython",
    "version": 3
   },
   "file_extension": ".py",
   "mimetype": "text/x-python",
   "name": "python",
   "nbconvert_exporter": "python",
   "pygments_lexer": "ipython3",
   "version": "3.11.9"
  }
 },
 "nbformat": 4,
 "nbformat_minor": 2
}
