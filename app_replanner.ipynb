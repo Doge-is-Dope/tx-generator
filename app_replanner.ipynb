{
 "cells": [
  {
   "cell_type": "code",
   "execution_count": 1,
   "metadata": {},
   "outputs": [],
   "source": [
    "from graph.replanner import replanner"
   ]
  },
  {
   "cell_type": "code",
   "execution_count": 2,
   "metadata": {},
   "outputs": [
    {
     "data": {
      "text/plain": [
       "Plan(steps=['Swap 0.05 USDC to USDT on Uniswap.'])"
      ]
     },
     "execution_count": 2,
     "metadata": {},
     "output_type": "execute_result"
    }
   ],
   "source": [
    "await replanner.ainvoke(\n",
    "    {\n",
    "        \"from_address\": \"0xd8dA6BF26964aF9D7eEd9e03E53415D37aA96045\",\n",
    "        \"simulated_txs\": \"1. Approve 0.05 USDC for Uniswap.\\n\",\n",
    "        \"remaining_steps\": [\n",
    "            \"Swap 0.05 USDC to USDT on Uniswap.\",\n",
    "        ],\n",
    "    }\n",
    ")"
   ]
  },
  {
   "cell_type": "code",
   "execution_count": 3,
   "metadata": {},
   "outputs": [
    {
     "data": {
      "text/plain": [
       "Plan(steps=['Stake 0.03 ETH to Lido to receive stETH.', 'Approve stETH to be used by Eigenpie.', 'Stake stETH to Eigenpie.'])"
      ]
     },
     "execution_count": 3,
     "metadata": {},
     "output_type": "execute_result"
    }
   ],
   "source": [
    "await replanner.ainvoke(\n",
    "    {\n",
    "        \"from_address\": \"0xd8dA6BF26964aF9D7eEd9e03E53415D37aA96045\",\n",
    "        \"simulated_txs\": [],\n",
    "        \"remaining_steps\": [\n",
    "            \"Stake 0.03 ETH to Lido to receive stETH.\",\n",
    "            \"Approve stETH to be used by Eigenpie.\",\n",
    "            \"Stake stETH to Eigenpie.\",\n",
    "        ],\n",
    "    }\n",
    ")"
   ]
  },
  {
   "cell_type": "code",
   "execution_count": 4,
   "metadata": {},
   "outputs": [
    {
     "data": {
      "text/plain": [
       "Plan(steps=['Approve 0.0299999999 stETH to be used by Eigenpie.', 'Stake 0.0299999999 stETH to Eigenpie.'])"
      ]
     },
     "execution_count": 4,
     "metadata": {},
     "output_type": "execute_result"
    }
   ],
   "source": [
    "await replanner.ainvoke(\n",
    "    {\n",
    "        \"from_address\": \"0xd8dA6BF26964aF9D7eEd9e03E53415D37aA96045\",\n",
    "        \"simulated_txs\": [\n",
    "            (\n",
    "                \"Stake 0.03 ETH to Lido to receive stETH.\",\n",
    "                \"Sent 0.03 ETH\\nReceived 0.0299999999 stETH\",\n",
    "            )\n",
    "        ],\n",
    "        \"remaining_steps\": [\n",
    "            \"Approve stETH to be used by Eigenpie.\",\n",
    "            \"Stake stETH to Eigenpie.\",\n",
    "        ],\n",
    "    }\n",
    ")"
   ]
  },
  {
   "cell_type": "code",
   "execution_count": 5,
   "metadata": {},
   "outputs": [
    {
     "name": "stdout",
     "output_type": "stream",
     "text": [
      "asset changes: []\n",
      "simulated_txs: ['1. Approve 0.05 USDC for Uniswap.']\n"
     ]
    },
    {
     "data": {
      "text/plain": [
       "{'steps': ['Swap 0.05 USDC to USDT on Uniswap.']}"
      ]
     },
     "execution_count": 5,
     "metadata": {},
     "output_type": "execute_result"
    }
   ],
   "source": [
    "from graph.replanner import replan_step\n",
    "from graph.tools.simulation import AssetChange\n",
    "\n",
    "await replan_step(\n",
    "    {\n",
    "        \"from_address\": \"0xd8dA6BF26964aF9D7eEd9e03E53415D37aA96045\",\n",
    "        \"input\": \"Swap 0.05 USDC to USDT\",\n",
    "        \"steps\": [\"Swap 0.05 USDC to USDT on Uniswap.\"],\n",
    "        \"current_step\": [\n",
    "            \"Approve 0.05 USDC for Uniswap.\",\n",
    "            {\n",
    "                \"from_address\": \"0xd8dA6BF26964aF9D7eEd9e03E53415D37aA96045\",\n",
    "                \"to_address\": \"0xa0b86991c6218b36c1d19d4a2e9eb0ce3606eb48\",\n",
    "                \"data\": \"0x095ea7b30000000000000000000000007a250d5630b4cf539739df2c5dacb4c659f2488d000000000000000000000000000000000000000000000000000000000000c350\",\n",
    "                \"value\": \"0x0\",\n",
    "            },\n",
    "        ],\n",
    "        \"simulated_txs\": [\n",
    "            [\n",
    "                \"Approve 0.05 USDC for Uniswap.\",\n",
    "                {\n",
    "                    \"from_address\": \"0xd8dA6BF26964aF9D7eEd9e03E53415D37aA96045\",\n",
    "                    \"to_address\": \"0xa0b86991c6218b36c1d19d4a2e9eb0ce3606eb48\",\n",
    "                    \"data\": \"0x095ea7b30000000000000000000000007a250d5630b4cf539739df2c5dacb4c659f2488d000000000000000000000000000000000000000000000000000000000000c350\",\n",
    "                    \"value\": \"0x0\",\n",
    "                },\n",
    "                [],\n",
    "            ]\n",
    "        ],\n",
    "    }\n",
    ")"
   ]
  },
  {
   "cell_type": "code",
   "execution_count": 6,
   "metadata": {},
   "outputs": [
    {
     "name": "stdout",
     "output_type": "stream",
     "text": [
      "asset changes: ['Received 0.299999999999999999 steth', 'Sent 0.3 eth']\n",
      "simulated_txs: ['1. Stake 0.3 ETH to Lido. (Received 0.299999999999999999 steth, Sent 0.3 eth)']\n"
     ]
    },
    {
     "data": {
      "text/plain": [
       "{'steps': ['Approve 0.299999999999999999 stETH to Eigenpie.',\n",
       "  'Stake 0.299999999999999999 stETH to Eigenpie.']}"
      ]
     },
     "execution_count": 6,
     "metadata": {},
     "output_type": "execute_result"
    }
   ],
   "source": [
    "from graph.replanner import replan_step\n",
    "from graph.tools.simulation import AssetChange\n",
    "\n",
    "await replan_step(\n",
    "    {\n",
    "        \"from_address\": \"0xd8dA6BF26964aF9D7eEd9e03E53415D37aA96045\",\n",
    "        \"input\": \"Stake 0.3 ETH with Lido and restake on Eigenpie\",\n",
    "        \"steps\": [\"Approve stETH to Eigenpie.\", \"Stake stETH to Eigenpie.\"],\n",
    "        \"current_step\": [\n",
    "            \"Stake 0.3 ETH to Lido.\",\n",
    "            {\n",
    "                \"from_address\": \"0xd8dA6BF26964aF9D7eEd9e03E53415D37aA96045\",\n",
    "                \"to_address\": \"0xae7ab96520de3a18e5e111b5eaab095312d7fe84\",\n",
    "                \"data\": \"0xa1903eab0000000000000000000000000000000000000000000000000000000000000000\",\n",
    "                \"value\": \"0x429d069189e0000\",\n",
    "            },\n",
    "        ],\n",
    "        \"simulated_txs\": [\n",
    "            (\n",
    "                \"Stake 0.3 ETH to Lido.\",\n",
    "                {\n",
    "                    \"from_address\": \"0xd8dA6BF26964aF9D7eEd9e03E53415D37aA96045\",\n",
    "                    \"to_address\": \"0xae7ab96520de3a18e5e111b5eaab095312d7fe84\",\n",
    "                    \"data\": \"0xa1903eab0000000000000000000000000000000000000000000000000000000000000000\",\n",
    "                    \"value\": \"0x429d069189e0000\",\n",
    "                },\n",
    "                [\n",
    "                    AssetChange(\n",
    "                        type=\"Mint\",\n",
    "                        name=\"Lido Staked Ether\",\n",
    "                        symbol=\"steth\",\n",
    "                        decimals=18,\n",
    "                        raw_amount=\"0x429d069189dffff\",\n",
    "                        sender=\"\",\n",
    "                        receiver=\"0xd8da6bf26964af9d7eed9e03e53415d37aa96045\",\n",
    "                        contract_address=\"0xae7ab96520de3a18e5e111b5eaab095312d7fe84\",\n",
    "                    ),\n",
    "                    AssetChange(\n",
    "                        type=\"Transfer\",\n",
    "                        name=\"Ethereum\",\n",
    "                        symbol=\"eth\",\n",
    "                        decimals=18,\n",
    "                        raw_amount=\"0x429d069189e0000\",\n",
    "                        sender=\"0xd8da6bf26964af9d7eed9e03e53415d37aa96045\",\n",
    "                        receiver=\"0xae7ab96520de3a18e5e111b5eaab095312d7fe84\",\n",
    "                        contract_address=\"\",\n",
    "                    ),\n",
    "                ],\n",
    "            )\n",
    "        ],\n",
    "    }\n",
    ")"
   ]
  }
 ],
 "metadata": {
  "kernelspec": {
   "display_name": ".venv",
   "language": "python",
   "name": "python3"
  },
  "language_info": {
   "codemirror_mode": {
    "name": "ipython",
    "version": 3
   },
   "file_extension": ".py",
   "mimetype": "text/x-python",
   "name": "python",
   "nbconvert_exporter": "python",
   "pygments_lexer": "ipython3",
   "version": "3.11.9"
  }
 },
 "nbformat": 4,
 "nbformat_minor": 2
}
