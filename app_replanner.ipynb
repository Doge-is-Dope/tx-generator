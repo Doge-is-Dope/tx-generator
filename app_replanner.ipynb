{
 "cells": [
  {
   "cell_type": "code",
   "execution_count": 1,
   "metadata": {},
   "outputs": [],
   "source": [
    "from graph.replanner import replanner"
   ]
  },
  {
   "cell_type": "code",
   "execution_count": 2,
   "metadata": {},
   "outputs": [
    {
     "data": {
      "text/plain": [
       "Plan(steps=['Stake 0.03 ETH to Lido to receive stETH.', 'Approve stETH to be used by Eigenpie.', 'Stake stETH to Eigenpie.'])"
      ]
     },
     "execution_count": 2,
     "metadata": {},
     "output_type": "execute_result"
    }
   ],
   "source": [
    "await replanner.ainvoke(\n",
    "    {\n",
    "        \"from_address\": \"0xd8da6bf26964af9d7eed9e03e53415d37aa96045\",\n",
    "        \"simulated_txs\": [],\n",
    "        \"remaining_steps\": [\n",
    "            \"Stake 0.03 ETH to Lido to receive stETH.\",\n",
    "            \"Approve stETH to be used by Eigenpie.\",\n",
    "            \"Stake stETH to Eigenpie.\",\n",
    "        ],\n",
    "    }\n",
    ")"
   ]
  },
  {
   "cell_type": "code",
   "execution_count": 4,
   "metadata": {},
   "outputs": [
    {
     "data": {
      "text/plain": [
       "Plan(steps=['Approve stETH to be used by Eigenpie.', 'Stake stETH to Eigenpie.'])"
      ]
     },
     "execution_count": 4,
     "metadata": {},
     "output_type": "execute_result"
    }
   ],
   "source": [
    "await replanner.ainvoke(\n",
    "    {\n",
    "        \"from_address\": \"0xd8da6bf26964af9d7eed9e03e53415d37aa96045\",\n",
    "        \"simulated_txs\": [\n",
    "            (\n",
    "                \"Stake 0.03 ETH to Lido to receive stETH.\",\n",
    "                \"Sent 0.03 ETH\\nReceived 0.0299999999 stETH\",\n",
    "            )\n",
    "        ],\n",
    "        \"remaining_steps\": [\n",
    "            \"Approve stETH to be used by Eigenpie.\",\n",
    "            \"Stake stETH to Eigenpie.\",\n",
    "        ],\n",
    "    }\n",
    ")"
   ]
  }
 ],
 "metadata": {
  "kernelspec": {
   "display_name": ".venv",
   "language": "python",
   "name": "python3"
  },
  "language_info": {
   "codemirror_mode": {
    "name": "ipython",
    "version": 3
   },
   "file_extension": ".py",
   "mimetype": "text/x-python",
   "name": "python",
   "nbconvert_exporter": "python",
   "pygments_lexer": "ipython3",
   "version": "3.11.9"
  }
 },
 "nbformat": 4,
 "nbformat_minor": 2
}
