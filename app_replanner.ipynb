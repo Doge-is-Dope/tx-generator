{
 "cells": [
  {
   "cell_type": "code",
   "execution_count": 1,
   "metadata": {},
   "outputs": [],
   "source": [
    "from models.tx_params import TransactionParams\n",
    "from graph.state import PlanSimulateState\n",
    "from graph.tools.simulation import AssetChange\n",
    "from graph.replanner import replan_step\n",
    "\n",
    "state = PlanSimulateState(\n",
    "    from_address=\"0xd8da6bf26964af9d7eed9e03e53415d37aa96045\",\n",
    "    input=\"Stake 0.03 ETH with Lido and deposit to Eigenpie\",\n",
    "    steps=[\"Approve stETH to be used by Eigenpie.\", \"Stake stETH to Eigenpie.\"],\n",
    "    current_step=\"Approve stETH to be used by Eigenpie.\",\n",
    "    simulated_txs=[\n",
    "        (\n",
    "            \"Stake 0.03 ETH to Lido to receive stETH.\",\n",
    "            TransactionParams(\n",
    "                from_address=\"0xd8da6bf26964af9d7eed9e03e53415d37aa96045\",\n",
    "                to_address=\"0xae7ab96520de3a18e5e111b5eaab095312d7fe84\",\n",
    "                data=\"0xa1903eab0000000000000000000000000000000000000000000000000000000000000000\",\n",
    "                value=\"0x6a94d74f430000\",\n",
    "            ),\n",
    "            [\n",
    "                AssetChange(\n",
    "                    type=\"Mint\",\n",
    "                    name=\"Lido Staked Ether\",\n",
    "                    symbol=\"steth\",\n",
    "                    decimals=18,\n",
    "                    raw_amount=\"0x6a94d74f42ffff\",\n",
    "                    sender=\"\",\n",
    "                    receiver=\"0xd8da6bf26964af9d7eed9e03e53415d37aa96045\",\n",
    "                    contract_address=\"0xae7ab96520de3a18e5e111b5eaab095312d7fe84\",\n",
    "                ),\n",
    "                AssetChange(\n",
    "                    type=\"Transfer\",\n",
    "                    name=\"Ethereum\",\n",
    "                    symbol=\"eth\",\n",
    "                    decimals=18,\n",
    "                    raw_amount=\"0x6a94d74f430000\",\n",
    "                    sender=\"0xd8da6bf26964af9d7eed9e03e53415d37aa96045\",\n",
    "                    receiver=\"0xae7ab96520de3a18e5e111b5eaab095312d7fe84\",\n",
    "                    contract_address=\"\",\n",
    "                ),\n",
    "            ],\n",
    "        )\n",
    "    ],\n",
    ")"
   ]
  },
  {
   "cell_type": "code",
   "execution_count": 2,
   "metadata": {},
   "outputs": [
    {
     "data": {
      "text/plain": [
       "{'steps': ['Approve 0.029999999999999999 stETH to be used by Eigenpie.',\n",
       "  'Stake 0.029999999999999999 stETH to Eigenpie.']}"
      ]
     },
     "execution_count": 2,
     "metadata": {},
     "output_type": "execute_result"
    }
   ],
   "source": [
    "await replan_step(state)"
   ]
  }
 ],
 "metadata": {
  "kernelspec": {
   "display_name": ".venv",
   "language": "python",
   "name": "python3"
  },
  "language_info": {
   "codemirror_mode": {
    "name": "ipython",
    "version": 3
   },
   "file_extension": ".py",
   "mimetype": "text/x-python",
   "name": "python",
   "nbconvert_exporter": "python",
   "pygments_lexer": "ipython3",
   "version": "3.11.9"
  }
 },
 "nbformat": 4,
 "nbformat_minor": 2
}
