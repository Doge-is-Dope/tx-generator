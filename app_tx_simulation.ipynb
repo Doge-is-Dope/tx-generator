{
 "cells": [
  {
   "cell_type": "code",
   "execution_count": 1,
   "metadata": {},
   "outputs": [],
   "source": [
    "import os\n",
    "\n",
    "os.environ[\"LANGCHAIN_TRACING_V2\"] = \"true\"\n",
    "os.environ[\"LANGCHAIN_PROJECT\"] = \"simulation\""
   ]
  },
  {
   "cell_type": "markdown",
   "metadata": {},
   "source": [
    "## Prerequisites\n"
   ]
  },
  {
   "cell_type": "markdown",
   "metadata": {},
   "source": [
    "### Example batch case\n",
    "\n",
    "The following batch case is used as an example.\n"
   ]
  },
  {
   "cell_type": "code",
   "execution_count": 2,
   "metadata": {},
   "outputs": [],
   "source": [
    "from models.case import BatchCase, Transaction\n",
    "\n",
    "example_case = BatchCase(\n",
    "    id=\"swap_usdt_usdc\",\n",
    "    description=\"Swap 100 USDT for USDC on Uniswap and transfer to Alice\",\n",
    "    steps=[\n",
    "        Transaction(description=\"Approve USDT for Uniswap\"),\n",
    "        Transaction(description=\"Swap 100 USDT to USDC on Uniswap\"),\n",
    "        Transaction(description=\"Transfer USDC to Alice\"),\n",
    "    ],\n",
    ")"
   ]
  },
  {
   "cell_type": "markdown",
   "metadata": {},
   "source": [
    "### Contract addresses\n",
    "\n",
    "Assume the following contract addresses are known.\n"
   ]
  },
  {
   "cell_type": "code",
   "execution_count": 3,
   "metadata": {},
   "outputs": [],
   "source": [
    "# Contract addresses\n",
    "USDT_ADDR = \"0xdAC17F958D2ee523a2206206994597C13D831ec7\"\n",
    "USDC_ADDR = \"0xA0b86991c6218b36c1d19D4a2e9Eb0cE3606eB48\"\n",
    "UNISWAP_V2_ROUTER_ADDR = \"0x7a250d5630B4cF539739dF2C5dAcb4c659F2488D\"\n",
    "\n",
    "# Dummy EOA\n",
    "ALICE_ADDR = \"0x436f795B64E23E6cE7792af4923A68AFD3967952\"\n",
    "BOB_ADDR = \"0x8c575b178927fF9A70804B8b4F7622F7666bB360\""
   ]
  },
  {
   "cell_type": "markdown",
   "metadata": {},
   "source": [
    "### Tools\n",
    "\n",
    "We use web3.py to create the instances of the contracts.\n"
   ]
  },
  {
   "cell_type": "code",
   "execution_count": 4,
   "metadata": {},
   "outputs": [],
   "source": [
    "import os\n",
    "import json\n",
    "from web3 import Web3\n",
    "\n",
    "INFURA_API_KEY = os.getenv(\"INFURA_API_KEY\")\n",
    "web3 = Web3(Web3.HTTPProvider(f\"https://mainnet.infura.io/v3/{INFURA_API_KEY}\"))\n",
    "\n",
    "with open(\"abi/erc20.json\") as file:\n",
    "    erc20_contract_json = json.load(file)\n",
    "\n",
    "with open(\"abi/uniswap_v2_router.json\") as file:\n",
    "    uniswap_contract_json = json.load(file)\n",
    "\n",
    "# Contract instances\n",
    "usdc_contract = web3.eth.contract(abi=erc20_contract_json)\n",
    "usdt_contract = web3.eth.contract(abi=erc20_contract_json)\n",
    "uniswap_contract = web3.eth.contract(abi=uniswap_contract_json)"
   ]
  },
  {
   "cell_type": "markdown",
   "metadata": {},
   "source": [
    "Example usage of the contract instances.\n"
   ]
  },
  {
   "cell_type": "code",
   "execution_count": 5,
   "metadata": {},
   "outputs": [
    {
     "name": "stdout",
     "output_type": "stream",
     "text": [
      "Bob's USDT balance: 0.0\n",
      "Bob's USDC balance: 0.0\n",
      "Alice's USDT balance: 4.0\n",
      "Alice's USDC balance: 4.44435\n"
     ]
    }
   ],
   "source": [
    "def get_balance(token_address: str, address: str):\n",
    "    contract_instance = web3.eth.contract(\n",
    "        address=token_address, abi=erc20_contract_json\n",
    "    )\n",
    "    encoded = contract_instance.encode_abi(\"balanceOf\", args=[address])\n",
    "    tx = {\n",
    "        \"to\": token_address,\n",
    "        \"data\": encoded,\n",
    "    }\n",
    "\n",
    "    try:\n",
    "        # Perform the call\n",
    "        result = web3.eth.call(tx)\n",
    "        # Decode the result (balance) from bytes to integer\n",
    "        decoded_result = int.from_bytes(result)\n",
    "        # Convert to USDC (assuming 6 decimal places)\n",
    "        usdc_balance = decoded_result / 10**6\n",
    "        return usdc_balance\n",
    "    except Exception as e:\n",
    "        # Handle any errors that occur during the call\n",
    "        print(f\"An error occurred: {e}\")\n",
    "\n",
    "\n",
    "# Get balance of Bob\n",
    "print(\"Bob's USDT balance:\", get_balance(USDT_ADDR, BOB_ADDR))\n",
    "print(\"Bob's USDC balance:\", get_balance(USDC_ADDR, BOB_ADDR))\n",
    "\n",
    "# Get balance of Alice\n",
    "print(\"Alice's USDT balance:\", get_balance(USDT_ADDR, ALICE_ADDR))\n",
    "print(\"Alice's USDC balance:\", get_balance(USDC_ADDR, ALICE_ADDR))"
   ]
  },
  {
   "cell_type": "markdown",
   "metadata": {},
   "source": [
    "## Simulate the transaction\n",
    "\n",
    "Refer to the [Tenderly API documentation](https://docs.tenderly.co/node/rpc-reference/ethereum-mainnet/tenderly_simulateBundle) for more details.\n"
   ]
  },
  {
   "cell_type": "code",
   "execution_count": 6,
   "metadata": {},
   "outputs": [],
   "source": [
    "import os\n",
    "import requests\n",
    "from typing import List\n",
    "\n",
    "from langchain_core.pydantic_v1 import BaseModel, Field, validator\n",
    "\n",
    "\n",
    "class TransactionParams(BaseModel):\n",
    "    from_address: str = Field(description=\"The sender address\")\n",
    "    to_address: str = Field(description=\"The receiver address\")\n",
    "    data: str = Field(description=\"The data of the transaction\")\n",
    "    value: str = Field(description=\"The value of native token to send\")\n",
    "\n",
    "    @validator(\"from_address\", \"to_address\")\n",
    "    def check_address_format(cls, v):\n",
    "        if not v.startswith(\"0x\"):\n",
    "            raise ValueError(\"Address must start with '0x'\")\n",
    "        if len(v) != 42:\n",
    "            raise ValueError(\"Address must be 42 characters long\")\n",
    "        return v\n",
    "\n",
    "    @validator(\"value\")\n",
    "    def check_value_format(cls, v):\n",
    "        if not v.startswith(\"0x\"):\n",
    "            raise ValueError(\"Value must start with '0x'\")\n",
    "        return v\n",
    "\n",
    "    @validator(\"data\")\n",
    "    def check_data_format(cls, v):\n",
    "        if not v.startswith(\"0x\"):\n",
    "            raise ValueError(\"Data must start with '0x'\")\n",
    "        return v"
   ]
  },
  {
   "cell_type": "code",
   "execution_count": 7,
   "metadata": {},
   "outputs": [],
   "source": [
    "def simulate_transaction(transactions: List[TransactionParams]) -> dict:\n",
    "    \"\"\"\n",
    "    Simulate a transaction on Tenderly.\n",
    "\n",
    "    Args:\n",
    "        transactions (List[TransactionParams]): List of transactions to simulate.\n",
    "\n",
    "    Returns:\n",
    "        dict: The result of the simulation.\n",
    "    \"\"\"\n",
    "    TENDERLY_API_KEY = os.getenv(\"TENDERLY_API_KEY\")\n",
    "    url = f\"https://mainnet.gateway.tenderly.co/{TENDERLY_API_KEY}\"\n",
    "    data = {\n",
    "        \"id\": 0,\n",
    "        \"jsonrpc\": \"2.0\",\n",
    "        \"method\": \"tenderly_simulateBundle\",\n",
    "        \"params\": [\n",
    "            [\n",
    "                {\n",
    "                    \"from\": tx.from_address,\n",
    "                    \"to\": tx.to_address,\n",
    "                    \"data\": tx.data,\n",
    "                    \"value\": tx.value,\n",
    "                }\n",
    "                for tx in transactions\n",
    "            ],\n",
    "            \"latest\",\n",
    "        ],\n",
    "    }\n",
    "    response = requests.post(url, json=data).json()\n",
    "    if \"error\" in response:\n",
    "        raise Exception(f\"Simulation API error: {response['error']['message']}\")\n",
    "    if \"result\" in response:\n",
    "        return response[\"result\"]\n",
    "    raise Exception(f\"Unexpected response: {response}\")"
   ]
  },
  {
   "cell_type": "code",
   "execution_count": 8,
   "metadata": {},
   "outputs": [],
   "source": [
    "class AssetChange(BaseModel):\n",
    "    contract_address: str = Field(description=\"The contract address of the asset\")\n",
    "    type: str = Field(description=\"The type of the asset change\")\n",
    "    name: str = Field(description=\"The name of the asset\")\n",
    "    symbol: str = Field(description=\"The symbol of the asset\")\n",
    "    decimals: int = Field(description=\"The decimals of the asset\")\n",
    "    raw_amount: str = Field(description=\"The raw amount in hex. Field 'rawAmount'\")\n",
    "    sender: str = Field(description=\"The sender of the transaction. Field 'from'\")\n",
    "    receiver: str = Field(description=\"The receiver of the transaction. Field 'to'\")\n",
    "\n",
    "\n",
    "class SimulationResult(BaseModel):\n",
    "    asset_changes: List[AssetChange] = Field(\n",
    "        description=\"List of assets changed during the transaction.\"\n",
    "    )\n",
    "    error: str = Field(\n",
    "        description=\"Error message explaining why the transaction failed.\"\n",
    "    )\n",
    "\n",
    "\n",
    "def format_simulation_results(results: list[dict]) -> SimulationResult:\n",
    "    \"\"\"\n",
    "    Processes a list of simulation results, extracting asset changes and any errors.\n",
    "\n",
    "    Args:\n",
    "        results (list[dict]): A list of dictionaries representing simulation results.\n",
    "\n",
    "    Returns:\n",
    "        SimulationResult: An object containing consolidated asset changes and any error messages encountered during the processing offailed results.\n",
    "\n",
    "    Raises:\n",
    "        Exception: If no results are provided, or if any result fails but no error message is found.\n",
    "    \"\"\"\n",
    "    if not results:\n",
    "        raise Exception(\"No results\")\n",
    "\n",
    "    all_asset_changes = []\n",
    "    error = \"\"\n",
    "\n",
    "    for result in results:\n",
    "        # If a failed status is detected, attempt to extract the error immediately\n",
    "        if not result[\"status\"]:\n",
    "            error = extract_error_from_trace(result.get(\"trace\", []))\n",
    "            if error:  # Break early if an error is found\n",
    "                break\n",
    "\n",
    "        # Only process asset changes if the result is successful\n",
    "        asset_changes = [\n",
    "            AssetChange(\n",
    "                contract_address=change[\"assetInfo\"][\"contractAddress\"],\n",
    "                name=change[\"assetInfo\"][\"name\"],\n",
    "                symbol=change[\"assetInfo\"][\"symbol\"],\n",
    "                decimals=change[\"assetInfo\"][\"decimals\"],\n",
    "                type=change[\"type\"],\n",
    "                sender=change[\"from\"],\n",
    "                receiver=change[\"to\"],\n",
    "                raw_amount=change[\"rawAmount\"],\n",
    "            )\n",
    "            for change in result.get(\"assetChanges\", [])\n",
    "        ]\n",
    "        all_asset_changes.extend(asset_changes)\n",
    "\n",
    "    # Check for any failure after all results are processed\n",
    "    if any(result[\"status\"] is False for result in results) and not error:\n",
    "        raise Exception(\"No error message\")\n",
    "\n",
    "    return SimulationResult(asset_changes=all_asset_changes, error=error)\n",
    "\n",
    "\n",
    "def extract_error_from_trace(trace_list: list[dict]) -> str:\n",
    "    \"\"\"Extract error and error reason from trace list if applicable.\"\"\"\n",
    "    for trace in reversed(trace_list):\n",
    "        error = trace.get(\"error\", \"\")\n",
    "        error_reason = trace.get(\"errorReason\", \"\")\n",
    "        if error:\n",
    "            return f\"{error}: {error_reason}\" if error_reason else error\n",
    "    return \"\""
   ]
  },
  {
   "cell_type": "code",
   "execution_count": 9,
   "metadata": {},
   "outputs": [],
   "source": [
    "def pretty_print(result: SimulationResult):\n",
    "    \"\"\"\n",
    "    Print the result of the simulation in a readable format.\n",
    "    \"\"\"\n",
    "    print(f\"The transaction was {'failed. 😕' if result.error else 'successful! 🎉'}\")\n",
    "\n",
    "    if result.error:\n",
    "        print(\"-------------\")\n",
    "        print(result.error)\n",
    "\n",
    "    alice_address = ALICE_ADDR.lower()\n",
    "    for asset_change in result.asset_changes:\n",
    "        outgoing_sign = \"-\" if asset_change.sender.lower() == alice_address else \"+\"\n",
    "        amount = int(asset_change.raw_amount, 16)\n",
    "        symbol = asset_change.symbol.upper()\n",
    "\n",
    "        print(\n",
    "            f\"-------------\\n\"\n",
    "            f\"{symbol} ({asset_change.contract_address})\\n\"\n",
    "            f\"Change: {outgoing_sign}{amount:,} ({asset_change.raw_amount})\"\n",
    "        )"
   ]
  },
  {
   "cell_type": "markdown",
   "metadata": {},
   "source": [
    "## Example - Successful\n"
   ]
  },
  {
   "cell_type": "code",
   "execution_count": 10,
   "metadata": {},
   "outputs": [
    {
     "name": "stdout",
     "output_type": "stream",
     "text": [
      "asset_changes=[AssetChange(contract_address='0xa0b86991c6218b36c1d19d4a2e9eb0ce3606eb48', type='Transfer', name='USDC', symbol='usdc', decimals=6, raw_amount='0xf4240', sender='0x436f795b64e23e6ce7792af4923a68afd3967952', receiver='0x3041cbd36888becc7bbcbc0045e3b1f144466f5f'), AssetChange(contract_address='0xdac17f958d2ee523a2206206994597c13d831ec7', type='Transfer', name='Tether', symbol='usdt', decimals=6, raw_amount='0xf41f2', sender='0x3041cbd36888becc7bbcbc0045e3b1f144466f5f', receiver='0x436f795b64e23e6ce7792af4923a68afd3967952'), AssetChange(contract_address='0xdac17f958d2ee523a2206206994597c13d831ec7', type='Transfer', name='Tether', symbol='usdt', decimals=6, raw_amount='0x3d0901', sender='0x436f795b64e23e6ce7792af4923a68afd3967952', receiver='0x8c575b178927ff9a70804b8b4f7622f7666bb360')] error=''\n"
     ]
    }
   ],
   "source": [
    "import time\n",
    "\n",
    "example_tx = [\n",
    "    TransactionParams(\n",
    "        from_address=ALICE_ADDR,\n",
    "        to_address=USDC_ADDR,\n",
    "        data=usdc_contract.encode_abi(\n",
    "            \"approve\", args=[UNISWAP_V2_ROUTER_ADDR, 1_000_000]\n",
    "        ),\n",
    "        value=\"0x0\",\n",
    "    ),\n",
    "    TransactionParams(\n",
    "        from_address=ALICE_ADDR,\n",
    "        to_address=UNISWAP_V2_ROUTER_ADDR,\n",
    "        data=uniswap_contract.encode_abi(\n",
    "            \"swapExactTokensForTokens\",\n",
    "            args=[\n",
    "                1_000_000,\n",
    "                0,\n",
    "                [USDC_ADDR, USDT_ADDR],\n",
    "                ALICE_ADDR,\n",
    "                int(time.time()) + 500,\n",
    "            ],\n",
    "        ),\n",
    "        value=\"0x0\",\n",
    "    ),\n",
    "    TransactionParams(\n",
    "        from_address=ALICE_ADDR,\n",
    "        to_address=USDT_ADDR,\n",
    "        data=usdc_contract.encode_abi(\"transfer\", args=[BOB_ADDR, 4_000_001]),\n",
    "        value=\"0x0\",\n",
    "    ),\n",
    "]\n",
    "\n",
    "tx_results = format_simulation_results(simulate_transaction(example_tx))\n",
    "print(tx_results)"
   ]
  },
  {
   "cell_type": "code",
   "execution_count": 11,
   "metadata": {},
   "outputs": [
    {
     "name": "stdout",
     "output_type": "stream",
     "text": [
      "The transaction was successful! 🎉\n",
      "-------------\n",
      "USDC (0xa0b86991c6218b36c1d19d4a2e9eb0ce3606eb48)\n",
      "Change: -1,000,000 (0xf4240)\n",
      "-------------\n",
      "USDT (0xdac17f958d2ee523a2206206994597c13d831ec7)\n",
      "Change: +999,922 (0xf41f2)\n",
      "-------------\n",
      "USDT (0xdac17f958d2ee523a2206206994597c13d831ec7)\n",
      "Change: -4,000,001 (0x3d0901)\n"
     ]
    }
   ],
   "source": [
    "pretty_print(tx_results)"
   ]
  },
  {
   "cell_type": "markdown",
   "metadata": {},
   "source": [
    "## Example - Failed\n"
   ]
  },
  {
   "cell_type": "code",
   "execution_count": 12,
   "metadata": {},
   "outputs": [
    {
     "name": "stdout",
     "output_type": "stream",
     "text": [
      "asset_changes=[] error='execution reverted: ERC20: transfer amount exceeds allowance'\n"
     ]
    }
   ],
   "source": [
    "import time\n",
    "\n",
    "example_tx = [\n",
    "    TransactionParams(\n",
    "        from_address=ALICE_ADDR,\n",
    "        to_address=UNISWAP_V2_ROUTER_ADDR,\n",
    "        data=uniswap_contract.encode_abi(\n",
    "            \"swapExactTokensForTokens\",\n",
    "            args=[\n",
    "                1_000_000,\n",
    "                0,\n",
    "                [USDC_ADDR, USDT_ADDR],\n",
    "                ALICE_ADDR,\n",
    "                int(time.time()) + 500,\n",
    "            ],\n",
    "        ),\n",
    "        value=\"0x0\",\n",
    "    ),\n",
    "]\n",
    "\n",
    "tx_results = format_simulation_results(simulate_transaction(example_tx))\n",
    "print(tx_results)"
   ]
  },
  {
   "cell_type": "code",
   "execution_count": 13,
   "metadata": {},
   "outputs": [
    {
     "name": "stdout",
     "output_type": "stream",
     "text": [
      "The transaction was failed. 😕\n",
      "-------------\n",
      "execution reverted: ERC20: transfer amount exceeds allowance\n"
     ]
    }
   ],
   "source": [
    "pretty_print(tx_results)"
   ]
  },
  {
   "cell_type": "code",
   "execution_count": 14,
   "metadata": {},
   "outputs": [
    {
     "name": "stdout",
     "output_type": "stream",
     "text": [
      "The transaction failed due to an error indicating that the transfer amount exceeded the allowed limit. No changes were made to the assets as a result of this failed transaction.\n"
     ]
    }
   ],
   "source": [
    "from langchain_openai import ChatOpenAI\n",
    "\n",
    "llm = ChatOpenAI(model=\"gpt-4o-2024-08-06\", temperature=0)\n",
    "response = llm.invoke(f\"Summarize the following transaction: {tx_results}\")\n",
    "print(response.content)"
   ]
  }
 ],
 "metadata": {
  "kernelspec": {
   "display_name": ".venv",
   "language": "python",
   "name": "python3"
  },
  "language_info": {
   "codemirror_mode": {
    "name": "ipython",
    "version": 3
   },
   "file_extension": ".py",
   "mimetype": "text/x-python",
   "name": "python",
   "nbconvert_exporter": "python",
   "pygments_lexer": "ipython3",
   "version": "3.11.9"
  }
 },
 "nbformat": 4,
 "nbformat_minor": 2
}
