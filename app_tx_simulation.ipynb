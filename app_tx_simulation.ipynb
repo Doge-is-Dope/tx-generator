{
 "cells": [
  {
   "cell_type": "code",
   "execution_count": 1,
   "metadata": {},
   "outputs": [],
   "source": [
    "import os\n",
    "\n",
    "os.environ[\"LANGCHAIN_TRACING_V2\"] = \"true\"\n",
    "os.environ[\"LANGCHAIN_PROJECT\"] = \"simulation\""
   ]
  },
  {
   "cell_type": "markdown",
   "metadata": {},
   "source": [
    "## Prerequisites\n"
   ]
  },
  {
   "cell_type": "markdown",
   "metadata": {},
   "source": [
    "### Example batch case\n",
    "\n",
    "The following batch case is used as an example.\n"
   ]
  },
  {
   "cell_type": "code",
   "execution_count": 2,
   "metadata": {},
   "outputs": [],
   "source": [
    "from models.case import BatchCase, Transaction\n",
    "\n",
    "example_case = BatchCase(\n",
    "    id=\"swap_usdt_usdc\",\n",
    "    description=\"Swap 100 USDT for USDC on Uniswap and transfer to Alice\",\n",
    "    steps=[\n",
    "        Transaction(description=\"Approve USDT for Uniswap\"),\n",
    "        Transaction(description=\"Swap 100 USDT to USDC on Uniswap\"),\n",
    "        Transaction(description=\"Transfer USDC to Alice\"),\n",
    "    ],\n",
    ")"
   ]
  },
  {
   "cell_type": "markdown",
   "metadata": {},
   "source": [
    "### Contract addresses\n",
    "\n",
    "Assume the following contract addresses are known.\n"
   ]
  },
  {
   "cell_type": "code",
   "execution_count": 3,
   "metadata": {},
   "outputs": [],
   "source": [
    "# Contract addresses\n",
    "USDT_ADDR = \"0xdAC17F958D2ee523a2206206994597C13D831ec7\"\n",
    "USDC_ADDR = \"0xA0b86991c6218b36c1d19D4a2e9Eb0cE3606eB48\"\n",
    "UNISWAP_V2_ROUTER_ADDR = \"0x7a250d5630B4cF539739dF2C5dAcb4c659F2488D\"\n",
    "\n",
    "# Dummy EOA\n",
    "ALICE_ADDR = \"0x436f795B64E23E6cE7792af4923A68AFD3967952\"\n",
    "BOB_ADDR = \"0x8c575b178927fF9A70804B8b4F7622F7666bB360\""
   ]
  },
  {
   "cell_type": "markdown",
   "metadata": {},
   "source": [
    "### Tools\n",
    "\n",
    "We use web3.py to create the instances of the contracts.\n"
   ]
  },
  {
   "cell_type": "code",
   "execution_count": 4,
   "metadata": {},
   "outputs": [],
   "source": [
    "import os\n",
    "import json\n",
    "from web3 import Web3\n",
    "\n",
    "INFURA_API_KEY = os.getenv(\"INFURA_API_KEY\")\n",
    "web3 = Web3(Web3.HTTPProvider(f\"https://mainnet.infura.io/v3/{INFURA_API_KEY}\"))\n",
    "\n",
    "with open(\"abi/erc20.json\") as file:\n",
    "    erc20_contract_json = json.load(file)\n",
    "\n",
    "with open(\"abi/uniswap_v2_router.json\") as file:\n",
    "    uniswap_contract_json = json.load(file)\n",
    "\n",
    "# Contract instances\n",
    "usdc_contract = web3.eth.contract(address=USDC_ADDR, abi=erc20_contract_json)\n",
    "usdt_contract = web3.eth.contract(address=USDT_ADDR, abi=erc20_contract_json)\n",
    "uniswap_contract = web3.eth.contract(\n",
    "    address=UNISWAP_V2_ROUTER_ADDR, abi=uniswap_contract_json\n",
    ")"
   ]
  },
  {
   "cell_type": "markdown",
   "metadata": {},
   "source": [
    "Example usage of the contract instances.\n"
   ]
  },
  {
   "cell_type": "code",
   "execution_count": 5,
   "metadata": {},
   "outputs": [
    {
     "name": "stdout",
     "output_type": "stream",
     "text": [
      "Bob's USDT balance: 0.0\n",
      "Bob's USDC balance: 0.0\n",
      "Alice's USDT balance: 4.0\n",
      "Alice's USDC balance: 4.44435\n"
     ]
    }
   ],
   "source": [
    "def get_balance(token_address: str, address: str):\n",
    "    contract_instance = web3.eth.contract(\n",
    "        address=token_address, abi=erc20_contract_json\n",
    "    )\n",
    "    encoded = contract_instance.encode_abi(\"balanceOf\", args=[address])\n",
    "    tx = {\n",
    "        \"to\": token_address,\n",
    "        \"data\": encoded,\n",
    "    }\n",
    "\n",
    "    try:\n",
    "        # Perform the call\n",
    "        result = web3.eth.call(tx)\n",
    "        # Decode the result (balance) from bytes to integer\n",
    "        decoded_result = int.from_bytes(result)\n",
    "        # Convert to USDC (assuming 6 decimal places)\n",
    "        usdc_balance = decoded_result / 10**6\n",
    "        return usdc_balance\n",
    "    except Exception as e:\n",
    "        # Handle any errors that occur during the call\n",
    "        print(f\"An error occurred: {e}\")\n",
    "\n",
    "\n",
    "# Get balance of Bob\n",
    "print(\"Bob's USDT balance:\", get_balance(USDT_ADDR, BOB_ADDR))\n",
    "print(\"Bob's USDC balance:\", get_balance(USDC_ADDR, BOB_ADDR))\n",
    "\n",
    "# Get balance of Alice\n",
    "print(\"Alice's USDT balance:\", get_balance(USDT_ADDR, ALICE_ADDR))\n",
    "print(\"Alice's USDC balance:\", get_balance(USDC_ADDR, ALICE_ADDR))"
   ]
  },
  {
   "cell_type": "markdown",
   "metadata": {},
   "source": [
    "## Simulate the transaction\n",
    "\n",
    "Refer to the [Tenderly API documentation](https://docs.tenderly.co/node/rpc-reference/ethereum-mainnet/tenderly_simulateBundle) for more details.\n"
   ]
  },
  {
   "cell_type": "code",
   "execution_count": 6,
   "metadata": {},
   "outputs": [
    {
     "name": "stdout",
     "output_type": "stream",
     "text": [
      "Status: True\n",
      "- Asset changes: False\n",
      "- Assets: []\n",
      "Status: True\n",
      "- Asset changes: True\n",
      "- Assets: ['usdc', 'usdt']\n",
      "Status: True\n",
      "- Asset changes: True\n",
      "- Assets: ['usdt']\n",
      "[{'status': True, 'logs': [{'name': 'Approval', 'inputs': [{'value': '0x436f795b64e23e6ce7792af4923a68afd3967952', 'type': 'address', 'name': 'owner', 'indexed': True}, {'value': '0x7a250d5630b4cf539739df2c5dacb4c659f2488d', 'type': 'address', 'name': 'spender', 'indexed': True}, {'value': '1000000', 'type': 'uint256', 'name': 'value', 'indexed': False}]}]}, {'status': True, 'assetChanges': [{'assetInfo': {'standard': 'ERC20', 'type': 'Fungible', 'contractAddress': '0xa0b86991c6218b36c1d19d4a2e9eb0ce3606eb48', 'symbol': 'usdc', 'name': 'USDC', 'logo': 'https://coin-images.coingecko.com/coins/images/6319/large/usdc.png?1696506694', 'decimals': 6, 'dollarValue': '0.9997310042381287'}, 'type': 'Transfer', 'from': '0x436f795b64e23e6ce7792af4923a68afd3967952', 'to': '0x3041cbd36888becc7bbcbc0045e3b1f144466f5f', 'rawAmount': '0xf4240', 'amount': '1', 'dollarValue': '0.9997310042381286621'}, {'assetInfo': {'standard': 'ERC20', 'type': 'Fungible', 'contractAddress': '0xdac17f958d2ee523a2206206994597c13d831ec7', 'symbol': 'usdt', 'name': 'Tether', 'logo': 'https://coin-images.coingecko.com/coins/images/325/large/Tether.png?1696501661', 'decimals': 6, 'dollarValue': '0.999796986579895'}, 'type': 'Transfer', 'from': '0x3041cbd36888becc7bbcbc0045e3b1f144466f5f', 'to': '0x436f795b64e23e6ce7792af4923a68afd3967952', 'rawAmount': '0xf4224', 'amount': '0.999972', 'dollarValue': '0.9997689922642707825'}], 'logs': [{'name': 'Transfer', 'inputs': [{'value': '0x436f795b64e23e6ce7792af4923a68afd3967952', 'type': 'address', 'name': 'from', 'indexed': True}, {'value': '0x3041cbd36888becc7bbcbc0045e3b1f144466f5f', 'type': 'address', 'name': 'to', 'indexed': True}, {'value': '1000000', 'type': 'uint256', 'name': 'value', 'indexed': False}]}, {'name': 'Transfer', 'inputs': [{'value': '0x3041cbd36888becc7bbcbc0045e3b1f144466f5f', 'type': 'address', 'name': 'from', 'indexed': True}, {'value': '0x436f795b64e23e6ce7792af4923a68afd3967952', 'type': 'address', 'name': 'to', 'indexed': True}, {'value': '999972', 'type': 'uint256', 'name': 'value', 'indexed': False}]}, {'name': 'Sync', 'inputs': [{'value': '2443655040195', 'type': 'uint112', 'name': 'reserve0', 'indexed': False}, {'value': '2450940272511', 'type': 'uint112', 'name': 'reserve1', 'indexed': False}]}, {'name': 'Swap', 'inputs': [{'value': '0x7a250d5630b4cf539739df2c5dacb4c659f2488d', 'type': 'address', 'name': 'sender', 'indexed': True}, {'value': '1000000', 'type': 'uint256', 'name': 'amount0In', 'indexed': False}, {'value': '0', 'type': 'uint256', 'name': 'amount1In', 'indexed': False}, {'value': '0', 'type': 'uint256', 'name': 'amount0Out', 'indexed': False}, {'value': '999972', 'type': 'uint256', 'name': 'amount1Out', 'indexed': False}, {'value': '0x436f795b64e23e6ce7792af4923a68afd3967952', 'type': 'address', 'name': 'to', 'indexed': True}]}]}, {'status': True, 'assetChanges': [{'assetInfo': {'standard': 'ERC20', 'type': 'Fungible', 'contractAddress': '0xdac17f958d2ee523a2206206994597c13d831ec7', 'symbol': 'usdt', 'name': 'Tether', 'logo': 'https://coin-images.coingecko.com/coins/images/325/large/Tether.png?1696501661', 'decimals': 6, 'dollarValue': '0.999796986579895'}, 'type': 'Transfer', 'from': '0x436f795b64e23e6ce7792af4923a68afd3967952', 'to': '0x8c575b178927ff9a70804b8b4f7622f7666bb360', 'rawAmount': '0x3d0901', 'amount': '4.000001', 'dollarValue': '3.9991889461165666582'}], 'logs': [{'name': 'Transfer', 'inputs': [{'value': '0x436f795b64e23e6ce7792af4923a68afd3967952', 'type': 'address', 'name': 'from', 'indexed': True}, {'value': '0x8c575b178927ff9a70804b8b4f7622f7666bb360', 'type': 'address', 'name': 'to', 'indexed': True}, {'value': '4000001', 'type': 'uint256', 'name': 'value', 'indexed': False}]}]}]\n"
     ]
    }
   ],
   "source": [
    "import os\n",
    "import requests\n",
    "import time\n",
    "\n",
    "TENDERLY_API_KEY = os.getenv(\"TENDERLY_API_KEY\")\n",
    "url = f\"https://mainnet.gateway.tenderly.co/{TENDERLY_API_KEY}\"\n",
    "data = {\n",
    "    \"id\": 0,\n",
    "    \"jsonrpc\": \"2.0\",\n",
    "    \"method\": \"tenderly_simulateBundle\",\n",
    "    \"params\": [\n",
    "        [\n",
    "            {\n",
    "                \"from\": ALICE_ADDR,\n",
    "                \"to\": USDC_ADDR,\n",
    "                \"data\": usdc_contract.encode_abi(\n",
    "                    \"approve\", args=[UNISWAP_V2_ROUTER_ADDR, 1_000_000]\n",
    "                ),\n",
    "                \"value\": \"0x0\",\n",
    "            },\n",
    "            {\n",
    "                \"from\": ALICE_ADDR,\n",
    "                \"to\": UNISWAP_V2_ROUTER_ADDR,\n",
    "                \"data\": uniswap_contract.encode_abi(\n",
    "                    \"swapExactTokensForTokens\",\n",
    "                    args=[\n",
    "                        1_000_000,\n",
    "                        0,\n",
    "                        [USDC_ADDR, USDT_ADDR],\n",
    "                        ALICE_ADDR,\n",
    "                        int(time.time()) + 500,\n",
    "                    ],\n",
    "                ),\n",
    "                \"value\": \"0x0\",\n",
    "            },\n",
    "            {\n",
    "                \"from\": ALICE_ADDR,\n",
    "                \"to\": USDT_ADDR,\n",
    "                \"data\": usdc_contract.encode_abi(\n",
    "                    \"transfer\", args=[BOB_ADDR, 4_000_001]\n",
    "                ),\n",
    "                \"value\": \"0x0\",\n",
    "            },\n",
    "        ],\n",
    "        \"latest\",\n",
    "    ],\n",
    "}\n",
    "response = requests.post(url, json=data)\n",
    "tx_results = response.json()[\"result\"]\n",
    "for tx in tx_results:\n",
    "    status = tx.get(\"status\", \"N/A\")\n",
    "    asset_changes = \"assetChanges\" in tx\n",
    "    assets = []\n",
    "    if asset_changes:\n",
    "        for asset in tx[\"assetChanges\"]:\n",
    "            assets.append(asset[\"assetInfo\"][\"symbol\"])\n",
    "    print(f\"Status: {status}\\n- Asset changes: {asset_changes}\\n- Assets: {assets}\")\n",
    "\n",
    "\n",
    "def filter_json_data(json_data):\n",
    "    # Fields to retain\n",
    "    fields_to_keep = set([\"status\", \"logs\", \"assetChanges\"])\n",
    "\n",
    "    # Iterate over each item in the list and filter the fields\n",
    "    filtered_data = []\n",
    "    for item in json_data:\n",
    "        filtered_item = {key: item[key] for key in fields_to_keep if key in item}\n",
    "        # Modify logs if they exist\n",
    "        if \"logs\" in filtered_item:\n",
    "            for log in filtered_item[\"logs\"]:\n",
    "                # Remove 'anonymous' field if it exists\n",
    "                if \"anonymous\" in log:\n",
    "                    del log[\"anonymous\"]\n",
    "\n",
    "                # Remove 'raw' field if it exists\n",
    "                if \"raw\" in log:\n",
    "                    del log[\"raw\"]\n",
    "        filtered_data.append(filtered_item)\n",
    "\n",
    "    return filtered_data\n",
    "\n",
    "\n",
    "tx_results = filter_json_data(tx_results)\n",
    "print(tx_results)"
   ]
  },
  {
   "cell_type": "code",
   "execution_count": 7,
   "metadata": {},
   "outputs": [
    {
     "name": "stdout",
     "output_type": "stream",
     "text": [
      "USDC (0xa0b86991c6218b36c1d19d4a2e9eb0ce3606eb48)\n",
      "Change: -1,000,000 (0xf4240)\n",
      "-------------\n",
      "USDT (0xdac17f958d2ee523a2206206994597c13d831ec7)\n",
      "Change: +999,972 (0xf4224)\n",
      "-------------\n",
      "USDT (0xdac17f958d2ee523a2206206994597c13d831ec7)\n",
      "Change: -4,000,001 (0x3d0901)\n",
      "-------------\n"
     ]
    }
   ],
   "source": [
    "from utils.model_selector import get_chat_model\n",
    "from langchain_core.prompts import ChatPromptTemplate\n",
    "from langchain_core.pydantic_v1 import BaseModel, Field, validator\n",
    "\n",
    "llm = get_chat_model(temperature=0).model\n",
    "\n",
    "system_prompt = \"\"\"You will be provided with the results of a transaction simulation.\n",
    "Extract the asset changes from the transaction. Do NOT modify the data.\"\"\"\n",
    "\n",
    "prompt = ChatPromptTemplate.from_messages(\n",
    "    [(\"system\", system_prompt), (\"user\", \"{input}\")]\n",
    ")\n",
    "\n",
    "\n",
    "class AssetChange(BaseModel):\n",
    "    contract_address: str = Field(description=\"The contract address of the asset\")\n",
    "    name: str = Field(description=\"The name of the asset\")\n",
    "    symbol: str = Field(description=\"The symbol of the asset\")\n",
    "    token_decimals: int = Field(description=\"The decimals of the token if applicable\")\n",
    "    raw_amount: str = Field(description=\"The raw amount (hex format) of the asset\")\n",
    "    sender: str = Field(description=\"The sender of the transaction\")\n",
    "    receiver: str = Field(description=\"The receiver of the transaction\")\n",
    "\n",
    "    # @validator(\"contract_address\")\n",
    "    # def check_token_address_format(cls, v):\n",
    "    #     if not v.startswith(\"0x\"):\n",
    "    #         raise ValueError(\"Token address must start with '0x'\")\n",
    "    #     if len(v) != 42:\n",
    "    #         raise ValueError(\"Token address must be 42 characters long\")\n",
    "    #     return v\n",
    "\n",
    "\n",
    "class SimulatedTransaction(BaseModel):\n",
    "    # summary: str = Field(description=\"A summary of the transaction\")\n",
    "    is_success: bool = Field(\n",
    "        description=\"Whether the transaction was successful. Check if the 'status' field.\"\n",
    "    )\n",
    "    asset_changes: list[AssetChange] = Field(\n",
    "        description=\"The list of assets that changed during the transaction\"\n",
    "    )\n",
    "\n",
    "\n",
    "chain = prompt | llm.with_structured_output(SimulatedTransaction)\n",
    "\n",
    "result = chain.invoke({\"input\": tx_results})\n",
    "\n",
    "# Todo: a tools are needed to convert the raw_amount to a readable format\n",
    "for asset in result.asset_changes:\n",
    "    outgoing_sign = \"-\" if asset.sender.lower() == ALICE_ADDR.lower() else \"+\"\n",
    "    amount = int(asset.raw_amount, 16)\n",
    "    print(f\"{asset.symbol.upper()} ({asset.contract_address})\")\n",
    "    print(f\"Change: {outgoing_sign}{amount:,} ({asset.raw_amount})\")\n",
    "    print(\"-------------\")"
   ]
  }
 ],
 "metadata": {
  "kernelspec": {
   "display_name": ".venv",
   "language": "python",
   "name": "python3"
  },
  "language_info": {
   "codemirror_mode": {
    "name": "ipython",
    "version": 3
   },
   "file_extension": ".py",
   "mimetype": "text/x-python",
   "name": "python",
   "nbconvert_exporter": "python",
   "pygments_lexer": "ipython3",
   "version": "3.11.9"
  }
 },
 "nbformat": 4,
 "nbformat_minor": 2
}
