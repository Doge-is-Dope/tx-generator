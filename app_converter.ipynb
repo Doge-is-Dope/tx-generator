{
 "cells": [
  {
   "cell_type": "code",
   "execution_count": 1,
   "metadata": {},
   "outputs": [],
   "source": [
    "import os\n",
    "\n",
    "os.environ[\"LANGCHAIN_TRACING_V2\"] = \"true\"\n",
    "os.environ[\"LANGCHAIN_PROJECT\"] = \"converter\""
   ]
  },
  {
   "cell_type": "code",
   "execution_count": 2,
   "metadata": {},
   "outputs": [],
   "source": [
    "from web3 import Web3\n",
    "\n",
    "INFURA_API_KEY = os.getenv(\"INFURA_API_KEY\")\n",
    "w3 = Web3(Web3.HTTPProvider(f\"https://mainnet.infura.io/v3/{INFURA_API_KEY}\"))"
   ]
  },
  {
   "cell_type": "code",
   "execution_count": 3,
   "metadata": {},
   "outputs": [],
   "source": [
    "import time\n",
    "from langchain_core.tools import tool\n",
    "\n",
    "from graph.tools.abi import fetch_contract_abi\n",
    "from graph.tools.address import (\n",
    "    resolve_ens,\n",
    "    get_contract_address_by_name,\n",
    "    convert_to_checksum_address,\n",
    ")\n",
    "\n",
    "\n",
    "@tool\n",
    "def get_token_info(token_address: str) -> dict:\n",
    "    \"\"\"\n",
    "    Retrieve the token information (symbol, name, decimals) from an ERC-20 token contract.\n",
    "\n",
    "    Args:\n",
    "        token_address (str): The Ethereum address of the token contract.\n",
    "\n",
    "    Returns:\n",
    "        dict: A dictionary containing the token's symbol, name, and decimals.\n",
    "\n",
    "    Example:\n",
    "        token_info = get_token_info('0xae7ab96520de3a18e5e111b5eaab095312d7fe84')\n",
    "        print(token_info)  # Outputs: {'decimals': 18, 'symbol': 'stETH', 'name': 'Lido Staked Ether'}\n",
    "    \"\"\"\n",
    "    # Create the contract object\n",
    "    contract = w3.eth.contract(\n",
    "        address=token_address,\n",
    "        abi=fetch_contract_abi.invoke(\n",
    "            {\"contract_address\": token_address, \"contract_type\": \"erc20\"}\n",
    "        ),\n",
    "    )\n",
    "\n",
    "    with w3.batch_requests() as batch:\n",
    "        batch.add(contract.functions.symbol())\n",
    "        batch.add(contract.functions.name())\n",
    "        batch.add(contract.functions.decimals())\n",
    "        responses = batch.execute()\n",
    "\n",
    "    return {\n",
    "        \"symbol\": responses[0],\n",
    "        \"name\": responses[1],\n",
    "        \"decimals\": responses[2],\n",
    "    }\n",
    "\n",
    "\n",
    "@tool\n",
    "def convert_to_token_amount(amount: float, decimals: int) -> int:\n",
    "    \"\"\"\n",
    "    Convert a human-readable token amount to its smallest unit (wei-like amount).\n",
    "\n",
    "    Args:\n",
    "        amount (float): The human-readable token amount (e.g., 400 for 400 stETH).\n",
    "        decimals (int): The number of decimals the token uses (e.g., 18 for stETH).\n",
    "\n",
    "    Returns:\n",
    "        int: The token amount in the smallest unit (e.g., wei for stETH).\n",
    "\n",
    "    Example:\n",
    "        token_amount = convert_to_token_amount(400, 18)\n",
    "        print(token_amount)  # Outputs: 400 * (10 ** 18)\n",
    "    \"\"\"\n",
    "    return int(amount * (10**decimals))\n",
    "\n",
    "\n",
    "@tool\n",
    "def encode_function_call(abi: list, function_name: str, args: list) -> str:\n",
    "    \"\"\"\n",
    "    Encode a smart contract function call into ABI-encoded data.\n",
    "\n",
    "    This function takes the relevant function's ABI, the name of the function to call, and its arguments,\n",
    "    and then returns the ABI-encoded data that can be included in the transaction's data field.\n",
    "\n",
    "    Args:\n",
    "        abi (str): The ABI of the contract in JSON format.\n",
    "        function_name (str): The name of the contract function to call (e.g., 'approve').\n",
    "        args (list): The arguments to the function as a list (e.g., [spender_address, amount]).\n",
    "\n",
    "    Returns:\n",
    "        str: The ABI-encoded data for the function call that can be used in a transaction.\n",
    "\n",
    "    Example:\n",
    "        data = encode_function_call(abi, 'approve', ['0xUniswapContractAddress', 400])\n",
    "    \"\"\"\n",
    "    contract = w3.eth.contract(abi=abi)\n",
    "    return contract.encode_abi(function_name, args)\n",
    "\n",
    "\n",
    "@tool\n",
    "def convert_dec_to_hex(integer: int) -> str:\n",
    "    \"\"\"\n",
    "    Convert an decimal integer to a hexadecimal string.\n",
    "\n",
    "    Args:\n",
    "        integer (int): The integer to be converted.\n",
    "\n",
    "    Returns:\n",
    "        str: The hexadecimal representation of the input integer, prefixed with '0x'.\n",
    "\n",
    "    Example:\n",
    "        hex_value = convert_int_to_hex(255)\n",
    "        print(hex_value)  # Outputs: '0xff'\n",
    "    \"\"\"\n",
    "    return w3.to_hex(integer)\n",
    "\n",
    "\n",
    "@tool\n",
    "def get_current_timestamp() -> int:\n",
    "    \"\"\"\n",
    "    Get the current Unix timestamp.\n",
    "\n",
    "    Returns:\n",
    "        int: The current Unix timestamp.\n",
    "    \"\"\"\n",
    "    return int(time.time())"
   ]
  },
  {
   "cell_type": "markdown",
   "metadata": {},
   "source": [
    "### Custom Agent to Output Tx Params using Tool\n"
   ]
  },
  {
   "cell_type": "code",
   "execution_count": 4,
   "metadata": {},
   "outputs": [],
   "source": [
    "from typing import Literal\n",
    "\n",
    "from langchain_core.pydantic_v1 import BaseModel, Field, validator\n",
    "from langchain_openai import ChatOpenAI\n",
    "from langgraph.graph import StateGraph, MessagesState\n",
    "from langgraph.prebuilt import ToolNode\n",
    "\n",
    "\n",
    "class TransactionParams(BaseModel):\n",
    "    \"\"\"\n",
    "    Convert the final result into transaction parameters.\n",
    "    \"\"\"\n",
    "\n",
    "    from_address: str = Field(description=\"The address of the sender (from)\")\n",
    "    to_address: str = Field(description=\"The address being interacted with (to)\")\n",
    "    data: str = Field(\"0x\", description=\"Transaction data in hex, start with '0x'\")\n",
    "    value: str = Field(\"0x0\", description=\"Amount of native token to send, in hex\")\n",
    "\n",
    "    @validator(\"from_address\", \"to_address\")\n",
    "    def check_address_format(cls, v):\n",
    "        if not v.startswith(\"0x\"):\n",
    "            raise ValueError(\"Address must start with '0x'\")\n",
    "        if len(v) != 42:\n",
    "            raise ValueError(\"Address must be 42 characters long\")\n",
    "        return v\n",
    "\n",
    "    @validator(\"value\")\n",
    "    def check_value_format(cls, v):\n",
    "        if not v.startswith(\"0x\"):\n",
    "            raise ValueError(\"Value must start with '0x'\")\n",
    "        return v\n",
    "\n",
    "    @validator(\"data\")\n",
    "    def check_data_format(cls, v):\n",
    "        if not v.startswith(\"0x\"):\n",
    "            raise ValueError(\"Data must start with '0x'\")\n",
    "        return v\n",
    "\n",
    "    def __str__(self):\n",
    "        return f\"From: {self.from_address}\\nTo: {self.to_address}\\nData: {self.data}\\nValue: {self.value}\"\n",
    "\n",
    "\n",
    "tools = [\n",
    "    fetch_contract_abi,\n",
    "    get_contract_address_by_name,\n",
    "    resolve_ens,\n",
    "    convert_to_checksum_address,\n",
    "    encode_function_call,\n",
    "    get_token_info,\n",
    "    convert_to_token_amount,\n",
    "    convert_dec_to_hex,\n",
    "    TransactionParams,\n",
    "]\n",
    "\n",
    "model = ChatOpenAI(model=\"gpt-4o-2024-08-06\", temperature=0)\n",
    "model_with_tools = model.bind_tools(tools)\n",
    "\n",
    "\n",
    "class AgentInput(MessagesState):\n",
    "    pass\n",
    "\n",
    "\n",
    "class AgentOutput(MessagesState):\n",
    "    response: TransactionParams\n",
    "\n",
    "\n",
    "class AgentState(MessagesState):\n",
    "    response: TransactionParams\n",
    "\n",
    "\n",
    "def call_model(state: AgentState):\n",
    "    response = model_with_tools.invoke(state[\"messages\"])\n",
    "    return {\"messages\": [response]}\n",
    "\n",
    "\n",
    "def convert(state: AgentState):\n",
    "    messages = state[\"messages\"]\n",
    "    # Construct tx params from the arguments of the last tool call\n",
    "    tx_params = TransactionParams(**messages[-1].tool_calls[0][\"args\"])\n",
    "    return {\"response\": tx_params}\n",
    "\n",
    "\n",
    "def should_continue(state: AgentState) -> Literal[\"convert\", \"continue\"]:\n",
    "    messages = state[\"messages\"]\n",
    "    last_message = messages[-1]\n",
    "    if (\n",
    "        len(last_message.tool_calls) == 1\n",
    "        and last_message.tool_calls[0][\"name\"] == \"TransactionParams\"\n",
    "    ):\n",
    "        return \"convert\"\n",
    "\n",
    "    return \"continue\"\n",
    "\n",
    "\n",
    "workflow = StateGraph(AgentState)\n",
    "\n",
    "# Define the two nodes we will cycle between\n",
    "workflow.add_node(\"agent\", call_model)\n",
    "workflow.add_node(\"converter\", convert)\n",
    "workflow.add_node(\"tools\", ToolNode(tools))\n",
    "\n",
    "workflow.set_entry_point(\"agent\")\n",
    "workflow.add_conditional_edges(\n",
    "    \"agent\", should_continue, {\"convert\": \"converter\", \"continue\": \"tools\"}\n",
    ")\n",
    "workflow.add_edge(\"tools\", \"agent\")\n",
    "workflow.set_finish_point(\"converter\")\n",
    "\n",
    "app = workflow.compile()"
   ]
  },
  {
   "cell_type": "code",
   "execution_count": 5,
   "metadata": {},
   "outputs": [
    {
     "data": {
      "image/jpeg": "[encoded data removed]",
      "text/plain": [
       "<IPython.core.display.Image object>"
      ]
     },
     "metadata": {},
     "output_type": "display_data"
    }
   ],
   "source": [
    "from utils.printer import print_graph\n",
    "\n",
    "print_graph(app)"
   ]
  },
  {
   "cell_type": "code",
   "execution_count": 6,
   "metadata": {},
   "outputs": [],
   "source": [
    "from langchain_core.messages import HumanMessage, SystemMessage\n",
    "\n",
    "\n",
    "system_prompt = \"\"\"Interpret the provided description to generate Ethereum transaction parameters using the following tools:\n",
    "-------------\n",
    "- fetch_contract_abi: Retrieve the ABI for a contract by address or function name.\n",
    "- get_contract_address_by_name: Get a contract address using a protocol or token name.\n",
    "- resolve_ens: Convert an ENS domain to an Ethereum address.\n",
    "- convert_to_checksum_address: Format an Ethereum address to checksum format.\n",
    "- encode_function_call: Encode a function call and its arguments using the ABI.\n",
    "- get_token_info: Retrieve token details (name, symbol, decimals) by address.\n",
    "- convert_to_token_amount: Convert a token amount to its smallest unit (e.g., wei) based on decimals.\n",
    "- convert_dec_to_hex: Convert a decimal integer to a hexadecimal string.\n",
    "-------------\n",
    "Once you have the transaction encoded data (using tool 'encode_function_call'), finalize by using `convert_to_tx_params` to create a TransactionParams object and return it.\n",
    "Sender address: {from_address}\n",
    "Current time: {current_time}\"\"\""
   ]
  },
  {
   "cell_type": "code",
   "execution_count": 7,
   "metadata": {},
   "outputs": [],
   "source": [
    "from datetime import datetime\n",
    "\n",
    "\n",
    "async def generate_tx_params(description: str, from_address: str) -> TransactionParams:\n",
    "    system_message = SystemMessage(\n",
    "        system_prompt.format(from_address=from_address, current_time=datetime.now())\n",
    "    )\n",
    "    input = {\"messages\": [system_message, HumanMessage(description)]}\n",
    "    result = await app.ainvoke(input)\n",
    "    return result[\"response\"]"
   ]
  },
  {
   "cell_type": "code",
   "execution_count": 8,
   "metadata": {},
   "outputs": [],
   "source": [
    "from_address = \"0xd8da6bf26964af9d7eed9e03e53415d37aa96045\""
   ]
  },
  {
   "cell_type": "code",
   "execution_count": 9,
   "metadata": {},
   "outputs": [
    {
     "name": "stdout",
     "output_type": "stream",
     "text": [
      "From: 0xd8da6bf26964af9d7eed9e03e53415d37aa96045\n",
      "To: 0x8c575b178927fF9A70804B8b4F7622F7666bB360\n",
      "Data: 0x\n",
      "Value: 0x2386f26fc10000\n"
     ]
    }
   ],
   "source": [
    "description = \"Send 0.01 ETH to the address 0x8c575b178927fF9A70804B8b4F7622F7666bB360.\"\n",
    "res = await generate_tx_params(description, from_address)\n",
    "print(res)\n",
    "\n",
    "assert res.from_address.lower() == \"0xd8da6bf26964af9d7eed9e03e53415d37aa96045\".lower()\n",
    "assert res.to_address.lower() == \"0x8c575b178927fF9A70804B8b4F7622F7666bB360\".lower()\n",
    "assert res.data == \"0x\"\n",
    "assert res.value == \"0x2386f26fc10000\""
   ]
  },
  {
   "cell_type": "code",
   "execution_count": 10,
   "metadata": {},
   "outputs": [
    {
     "name": "stdout",
     "output_type": "stream",
     "text": [
      "Fetching ABI from Etherscan for address: 0xdac17f958d2ee523a2206206994597c13d831ec7\n",
      "Not a proxy contract, returning the ABI\n",
      "From: 0xd8dA6BF26964aF9D7eEd9e03E53415D37aA96045\n",
      "To: 0xdAC17F958D2ee523a2206206994597C13D831ec7\n",
      "Data: 0xa9059cbb000000000000000000000000b859d7eb5e319e54dc23c83dfe93e649b88202b60000000000000000000000000000000000000000000000000000000005f5e100\n",
      "Value: 0x0\n"
     ]
    }
   ],
   "source": [
    "description = \"Transfer 100 USDT to Scott's Ethereum address.\"\n",
    "res = await generate_tx_params(description, from_address)\n",
    "print(res)\n",
    "\n",
    "assert res.from_address.lower() == \"0xd8da6bf26964af9d7eed9e03e53415d37aa96045\".lower()\n",
    "assert res.to_address.lower() == \"0xdAC17F958D2ee523a2206206994597C13D831ec7\".lower()\n",
    "data = \"0xa9059cbb000000000000000000000000b859d7eb5e319e54dc23c83dfe93e649b88202b60000000000000000000000000000000000000000000000000000000005f5e100\"\n",
    "assert res.data == data\n",
    "assert res.value == \"0x0\""
   ]
  },
  {
   "cell_type": "code",
   "execution_count": 11,
   "metadata": {},
   "outputs": [
    {
     "name": "stdout",
     "output_type": "stream",
     "text": [
      "Not a proxy contract, returning the ABI\n",
      "From: 0xd8da6bf26964af9d7eed9e03e53415d37aa96045\n",
      "To: 0xdAC17F958D2ee523a2206206994597C13D831ec7\n",
      "Data: 0x095ea7b30000000000000000000000007a250d5630b4cf539739df2c5dacb4c659f2488d0000000000000000000000000000000000000000000000000000000005f5e100\n",
      "Value: 0x0\n"
     ]
    }
   ],
   "source": [
    "description = \"Approve 100 USDT for swapping on a decentralized exchange.\"\n",
    "res = await generate_tx_params(description, from_address)\n",
    "print(res)\n",
    "\n",
    "assert res.from_address.lower() == \"0xd8da6bf26964af9d7eed9e03e53415d37aa96045\".lower()\n",
    "assert res.to_address.lower() == \"0xdAC17F958D2ee523a2206206994597C13D831ec7\".lower()\n",
    "data = \"0x095ea7b30000000000000000000000007a250d5630b4cf539739df2c5dacb4c659f2488d0000000000000000000000000000000000000000000000000000000005f5e100\"\n",
    "assert res.data == data\n",
    "assert res.value == \"0x0\""
   ]
  },
  {
   "cell_type": "code",
   "execution_count": 12,
   "metadata": {},
   "outputs": [
    {
     "name": "stdout",
     "output_type": "stream",
     "text": [
      "Fetching ABI from Etherscan for address: 0x7a250d5630B4cF539739dF2C5dAcb4c659F2488D\n",
      "Not a proxy contract, returning the ABI\n",
      "From: 0xd8dA6BF26964aF9D7eEd9e03E53415D37aA96045\n",
      "To: 0x7a250d5630B4cF539739dF2C5dAcb4c659F2488D\n",
      "Data: 0x38ed17390000000000000000000000000000000000000000000000000000000005f5e100000000000000000000000000000000000000000000000000000000000000000000000000000000000000000000000000000000000000000000000000000000a0000000000000000000000000d8da6bf26964af9d7eed9e03e53415d37aa960450000000000000000000000000000000000000000000000000000000066e43fe50000000000000000000000000000000000000000000000000000000000000002000000000000000000000000dac17f958d2ee523a2206206994597c13d831ec7000000000000000000000000a0b86991c6218b36c1d19d4a2e9eb0ce3606eb48\n",
      "Value: 0x0\n"
     ]
    }
   ],
   "source": [
    "description = \"Swap 100 USDT to USDC on the chosen decentralized exchange.\"\n",
    "res = await generate_tx_params(description, from_address)\n",
    "print(res)\n",
    "\n",
    "assert res.from_address.lower() == \"0xd8da6bf26964af9d7eed9e03e53415d37aa96045\".lower()\n",
    "assert res.to_address.lower() == \"0x7a250d5630B4cF539739dF2C5dAcb4c659F2488D\".lower()\n",
    "# Data is omitted since deadline is not deterministic\n",
    "assert res.value == \"0x0\""
   ]
  },
  {
   "cell_type": "code",
   "execution_count": 13,
   "metadata": {},
   "outputs": [
    {
     "name": "stdout",
     "output_type": "stream",
     "text": [
      "Fetching ABI from Etherscan for address: 0xae7ab96520de3a18e5e111b5eaab095312d7fe84\n",
      "Proxy contract detected at 0xae7ab96520de3a18e5e111b5eaab095312d7fe84\n",
      "Implementation address: 0x17144556fd3424EDC8Fc8A4C940B2D04936d17eb\n",
      "Fetching ABI from Etherscan for address: 0x17144556fd3424EDC8Fc8A4C940B2D04936d17eb\n",
      "Not a proxy contract, returning the ABI\n",
      "From: 0xd8da6bf26964af9d7eed9e03e53415d37aa96045\n",
      "To: 0xae7ab96520de3a18e5e111b5eaab095312d7fe84\n",
      "Data: 0xa1903eab0000000000000000000000000000000000000000000000000000000000000000\n",
      "Value: 0x6a94d74f430000\n"
     ]
    }
   ],
   "source": [
    "description = \"Stake 0.03 ETH to Lido to receive stETH.\"\n",
    "res = await generate_tx_params(description, from_address)\n",
    "print(res)\n",
    "\n",
    "assert res.from_address.lower() == \"0xd8da6bf26964af9d7eed9e03e53415d37aa96045\".lower()\n",
    "assert res.to_address.lower() == \"0xae7ab96520DE3A18E5e111B5EaAb095312D7fE84\".lower()\n",
    "data = \"0xa1903eab0000000000000000000000000000000000000000000000000000000000000000\"\n",
    "assert res.data == data\n",
    "assert res.value == \"0x6a94d74f430000\""
   ]
  },
  {
   "cell_type": "markdown",
   "metadata": {},
   "source": [
    "### Custom Agent to Output Tx Params using LLM\n"
   ]
  },
  {
   "cell_type": "code",
   "execution_count": 14,
   "metadata": {},
   "outputs": [],
   "source": [
    "from typing import Literal\n",
    "\n",
    "from langchain_core.pydantic_v1 import BaseModel, Field, validator\n",
    "from langchain_openai import ChatOpenAI\n",
    "from langgraph.graph import StateGraph, MessagesState\n",
    "from langgraph.prebuilt import ToolNode\n",
    "\n",
    "from graph.tools.simulation import TransactionParams\n",
    "\n",
    "\n",
    "tools = [\n",
    "    fetch_contract_abi,\n",
    "    get_contract_address_by_name,\n",
    "    resolve_ens,\n",
    "    convert_to_checksum_address,\n",
    "    encode_function_call,\n",
    "    get_token_info,\n",
    "    convert_to_token_amount,\n",
    "    convert_dec_to_hex,\n",
    "]\n",
    "\n",
    "model = ChatOpenAI(model=\"gpt-4o-2024-08-06\", temperature=0)\n",
    "model_with_tools = model.bind_tools(tools)\n",
    "model_with_structured_output = model.with_structured_output(TransactionParams)\n",
    "\n",
    "\n",
    "class AgentInput(MessagesState):\n",
    "    pass\n",
    "\n",
    "\n",
    "class AgentOutput(MessagesState):\n",
    "    response: TransactionParams\n",
    "\n",
    "\n",
    "class AgentState(MessagesState):\n",
    "    response: TransactionParams\n",
    "\n",
    "\n",
    "def call_model(state: AgentState):\n",
    "    response = model_with_tools.invoke(state[\"messages\"])\n",
    "    return {\"messages\": [response]}\n",
    "\n",
    "\n",
    "def convert(state: AgentState):\n",
    "    messages = state[\"messages\"]\n",
    "    # Construct tx params from the arguments of the last tool call\n",
    "    tx_params = model_with_structured_output.invoke(messages)\n",
    "    return {\"response\": tx_params}\n",
    "\n",
    "\n",
    "def should_continue(state: AgentState) -> Literal[\"convert\", \"continue\"]:\n",
    "    messages = state[\"messages\"]\n",
    "    last_message = messages[-1]\n",
    "    if not last_message.tool_calls:\n",
    "        return \"convert\"\n",
    "\n",
    "    return \"continue\"\n",
    "\n",
    "\n",
    "workflow = StateGraph(AgentState)\n",
    "\n",
    "# Define the two nodes we will cycle between\n",
    "workflow.add_node(\"agent\", call_model)\n",
    "workflow.add_node(\"converter\", convert)\n",
    "workflow.add_node(\"tools\", ToolNode(tools))\n",
    "\n",
    "workflow.set_entry_point(\"agent\")\n",
    "workflow.add_conditional_edges(\n",
    "    \"agent\", should_continue, {\"convert\": \"converter\", \"continue\": \"tools\"}\n",
    ")\n",
    "workflow.add_edge(\"tools\", \"agent\")\n",
    "workflow.set_finish_point(\"converter\")\n",
    "\n",
    "app = workflow.compile()"
   ]
  },
  {
   "cell_type": "code",
   "execution_count": 15,
   "metadata": {},
   "outputs": [],
   "source": [
    "from langchain_core.messages import HumanMessage, SystemMessage\n",
    "\n",
    "\n",
    "system_prompt = \"\"\"Interpret the provided description to generate Ethereum transaction parameters using the following tools:\n",
    "-------------\n",
    "- fetch_contract_abi: Retrieve the ABI for a contract by address or function name.\n",
    "- get_contract_address_by_name: Get a contract address using a protocol or token name.\n",
    "- resolve_ens: Convert an ENS domain to an Ethereum address.\n",
    "- convert_to_checksum_address: Format an Ethereum address to checksum format.\n",
    "- encode_function_call: Encode a function call and its arguments using the ABI.\n",
    "- get_token_info: Retrieve token details (name, symbol, decimals) by address.\n",
    "- convert_to_token_amount: Convert a token amount to its smallest unit (e.g., wei) based on decimals.\n",
    "- convert_dec_to_hex: Convert a decimal integer to a hexadecimal string.\n",
    "-------------\n",
    "Once you have the transaction encoded data, return the transaction parameters (from, to, data, value).\n",
    "Sender address: {from_address}\n",
    "Current time: {current_time}\"\"\"\n",
    "\n",
    "\n",
    "from datetime import datetime\n",
    "\n",
    "\n",
    "async def generate_tx_params(description: str, from_address: str) -> TransactionParams:\n",
    "    system_message = SystemMessage(\n",
    "        system_prompt.format(from_address=from_address, current_time=datetime.now())\n",
    "    )\n",
    "    input = {\"messages\": [system_message, HumanMessage(description)]}\n",
    "    result = await app.ainvoke(input)\n",
    "    return result[\"response\"]\n",
    "\n",
    "\n",
    "from_address = \"0xd8da6bf26964af9d7eed9e03e53415d37aa96045\""
   ]
  },
  {
   "cell_type": "code",
   "execution_count": 16,
   "metadata": {},
   "outputs": [
    {
     "name": "stdout",
     "output_type": "stream",
     "text": [
      "{\"from_address\": \"0xd8da6bf26964af9d7eed9e03e53415d37aa96045\", \"to_address\": \"0x8c575b178927fF9A70804B8b4F7622F7666bB360\", \"data\": \"0x\", \"value\": \"0x2386f26fc10000\"}\n"
     ]
    }
   ],
   "source": [
    "description = \"Send 0.01 ETH to the address 0x8c575b178927fF9A70804B8b4F7622F7666bB360.\"\n",
    "res = await generate_tx_params(description, from_address)\n",
    "print(res.json())\n",
    "\n",
    "assert res.from_address.lower() == \"0xd8da6bf26964af9d7eed9e03e53415d37aa96045\".lower()\n",
    "assert res.to_address.lower() == \"0x8c575b178927fF9A70804B8b4F7622F7666bB360\".lower()\n",
    "assert res.data == \"0x\"\n",
    "assert res.value == \"0x2386f26fc10000\""
   ]
  },
  {
   "cell_type": "code",
   "execution_count": 17,
   "metadata": {},
   "outputs": [
    {
     "name": "stdout",
     "output_type": "stream",
     "text": [
      "{\"from_address\": \"0xd8da6bf26964af9d7eed9e03e53415d37aa96045\", \"to_address\": \"0xdAC17F958D2ee523a2206206994597C13D831ec7\", \"data\": \"0xa9059cbb000000000000000000000000b859d7eb5e319e54dc23c83dfe93e649b88202b60000000000000000000000000000000000000000000000000000000005f5e100\", \"value\": \"0x0\"}\n"
     ]
    }
   ],
   "source": [
    "description = \"Transfer 100 USDT to Scott's Ethereum address.\"\n",
    "res = await generate_tx_params(description, from_address)\n",
    "print(res.json())\n",
    "\n",
    "assert res.from_address.lower() == \"0xd8da6bf26964af9d7eed9e03e53415d37aa96045\".lower()\n",
    "assert res.to_address.lower() == \"0xdAC17F958D2ee523a2206206994597C13D831ec7\".lower()\n",
    "data = \"0xa9059cbb000000000000000000000000b859d7eb5e319e54dc23c83dfe93e649b88202b60000000000000000000000000000000000000000000000000000000005f5e100\"\n",
    "assert res.data == data\n",
    "assert res.value == \"0x0\""
   ]
  },
  {
   "cell_type": "code",
   "execution_count": 18,
   "metadata": {},
   "outputs": [
    {
     "name": "stdout",
     "output_type": "stream",
     "text": [
      "Fetching ABI from Etherscan for address: 0xdAC17F958D2ee523a2206206994597C13D831ec7\n",
      "Not a proxy contract, returning the ABI\n",
      "{\"from_address\": \"0xd8da6bf26964af9d7eed9e03e53415d37aa96045\", \"to_address\": \"0xdAC17F958D2ee523a2206206994597C13D831ec7\", \"data\": \"0x095ea7b30000000000000000000000007a250d5630b4cf539739df2c5dacb4c659f2488d0000000000000000000000000000000000000000000000000000000005f5e100\", \"value\": \"0x0\"}\n"
     ]
    }
   ],
   "source": [
    "description = \"Approve 100 USDT for swapping on a decentralized exchange.\"\n",
    "res = await generate_tx_params(description, from_address)\n",
    "print(res.json())\n",
    "\n",
    "assert res.from_address.lower() == \"0xd8da6bf26964af9d7eed9e03e53415d37aa96045\".lower()\n",
    "assert res.to_address.lower() == \"0xdAC17F958D2ee523a2206206994597C13D831ec7\".lower()\n",
    "data = \"0x095ea7b30000000000000000000000007a250d5630b4cf539739df2c5dacb4c659f2488d0000000000000000000000000000000000000000000000000000000005f5e100\"\n",
    "assert res.data == data\n",
    "assert res.value == \"0x0\""
   ]
  },
  {
   "cell_type": "code",
   "execution_count": 19,
   "metadata": {},
   "outputs": [
    {
     "name": "stdout",
     "output_type": "stream",
     "text": [
      "{\"from_address\": \"0xd8dA6BF26964aF9D7eEd9e03E53415D37aA96045\", \"to_address\": \"0x7a250d5630B4cF539739dF2C5dAcb4c659F2488D\", \"data\": \"0x38ed17390000000000000000000000000000000000000000000000000000000005f5e100000000000000000000000000000000000000000000000000000000000000000000000000000000000000000000000000000000000000000000000000000000a0000000000000000000000000d8da6bf26964af9d7eed9e03e53415d37aa960450000000000000000000000000000000000000000000000000000000066e46aad0000000000000000000000000000000000000000000000000000000000000002000000000000000000000000dac17f958d2ee523a2206206994597c13d831ec7000000000000000000000000a0b86991c6218b36c1d19d4a2e9eb0ce3606eb48\", \"value\": \"0x0\"}\n"
     ]
    }
   ],
   "source": [
    "description = \"Swap 100 USDT to USDC on the chosen decentralized exchange.\"\n",
    "res = await generate_tx_params(description, from_address)\n",
    "print(res.json())\n",
    "\n",
    "assert res.from_address.lower() == \"0xd8da6bf26964af9d7eed9e03e53415d37aa96045\".lower()\n",
    "assert res.to_address.lower() == \"0x7a250d5630B4cF539739dF2C5dAcb4c659F2488D\".lower()\n",
    "# Data is omitted since deadline is not deterministic\n",
    "assert res.value == \"0x0\""
   ]
  },
  {
   "cell_type": "code",
   "execution_count": 20,
   "metadata": {},
   "outputs": [
    {
     "name": "stdout",
     "output_type": "stream",
     "text": [
      "Proxy contract detected at 0xae7ab96520de3a18e5e111b5eaab095312d7fe84\n",
      "Implementation address: 0x17144556fd3424EDC8Fc8A4C940B2D04936d17eb\n",
      "Not a proxy contract, returning the ABI\n",
      "{\"from_address\": \"0xd8da6bf26964af9d7eed9e03e53415d37aa96045\", \"to_address\": \"0xae7ab96520DE3A18E5e111B5EaAb095312D7fE84\", \"data\": \"0xa1903eab0000000000000000000000000000000000000000000000000000000000000000\", \"value\": \"0x6a94d74f430000\"}\n"
     ]
    }
   ],
   "source": [
    "description = \"Stake 0.03 ETH to Lido to receive stETH.\"\n",
    "res = await generate_tx_params(description, from_address)\n",
    "print(res.json())\n",
    "\n",
    "assert res.from_address.lower() == \"0xd8da6bf26964af9d7eed9e03e53415d37aa96045\".lower()\n",
    "assert res.to_address.lower() == \"0xae7ab96520DE3A18E5e111B5EaAb095312D7fE84\".lower()\n",
    "data = \"0xa1903eab0000000000000000000000000000000000000000000000000000000000000000\"\n",
    "assert res.data == data\n",
    "assert res.value == \"0x6a94d74f430000\""
   ]
  }
 ],
 "metadata": {
  "kernelspec": {
   "display_name": ".venv",
   "language": "python",
   "name": "python3"
  },
  "language_info": {
   "codemirror_mode": {
    "name": "ipython",
    "version": 3
   },
   "file_extension": ".py",
   "mimetype": "text/x-python",
   "name": "python",
   "nbconvert_exporter": "python",
   "pygments_lexer": "ipython3",
   "version": "3.11.9"
  }
 },
 "nbformat": 4,
 "nbformat_minor": 2
}
