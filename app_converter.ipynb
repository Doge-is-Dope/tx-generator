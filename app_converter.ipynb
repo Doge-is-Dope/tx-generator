{
 "cells": [
  {
   "cell_type": "markdown",
   "metadata": {},
   "source": [
    "## Custom Agent to Output Tx Params using Tool\n"
   ]
  },
  {
   "cell_type": "code",
   "execution_count": 1,
   "metadata": {},
   "outputs": [],
   "source": [
    "from graph.converter_tool import generate_tx_params\n",
    "\n",
    "from_address = \"0xd8da6bf26964af9d7eed9e03e53415d37aa96045\""
   ]
  },
  {
   "cell_type": "code",
   "execution_count": 2,
   "metadata": {},
   "outputs": [
    {
     "name": "stdout",
     "output_type": "stream",
     "text": [
      "From: 0xd8da6bf26964af9d7eed9e03e53415d37aa96045\n",
      "To: 0x8c575b178927fF9A70804B8b4F7622F7666bB360\n",
      "Data: 0x\n",
      "Value: 0x2386f26fc10000\n"
     ]
    }
   ],
   "source": [
    "description = \"Send 0.01 ETH to the address 0x8c575b178927fF9A70804B8b4F7622F7666bB360.\"\n",
    "res = await generate_tx_params(description, from_address)\n",
    "print(res)\n",
    "\n",
    "assert res.from_address.lower() == \"0xd8da6bf26964af9d7eed9e03e53415d37aa96045\".lower()\n",
    "assert res.to_address.lower() == \"0x8c575b178927fF9A70804B8b4F7622F7666bB360\".lower()\n",
    "assert res.data == \"0x\"\n",
    "assert res.value == \"0x2386f26fc10000\""
   ]
  },
  {
   "cell_type": "code",
   "execution_count": 3,
   "metadata": {},
   "outputs": [
    {
     "name": "stdout",
     "output_type": "stream",
     "text": [
      "From: 0xd8da6bf26964af9d7eed9e03e53415d37aa96045\n",
      "To: 0xdac17f958d2ee523a2206206994597c13d831ec7\n",
      "Data: 0xa9059cbb000000000000000000000000b859d7eb5e319e54dc23c83dfe93e649b88202b60000000000000000000000000000000000000000000000000000000005f5e100\n",
      "Value: 0x0\n"
     ]
    }
   ],
   "source": [
    "description = \"Transfer 100 USDT to Scott's Ethereum address.\"\n",
    "res = await generate_tx_params(description, from_address)\n",
    "print(res)\n",
    "\n",
    "assert res.from_address.lower() == \"0xd8da6bf26964af9d7eed9e03e53415d37aa96045\".lower()\n",
    "assert res.to_address.lower() == \"0xdAC17F958D2ee523a2206206994597C13D831ec7\".lower()\n",
    "data = \"0xa9059cbb000000000000000000000000b859d7eb5e319e54dc23c83dfe93e649b88202b60000000000000000000000000000000000000000000000000000000005f5e100\"\n",
    "assert res.data == data\n",
    "assert res.value == \"0x0\""
   ]
  },
  {
   "cell_type": "code",
   "execution_count": 4,
   "metadata": {},
   "outputs": [
    {
     "name": "stdout",
     "output_type": "stream",
     "text": [
      "From: 0xd8da6bf26964af9d7eed9e03e53415d37aa96045\n",
      "To: 0xdac17f958d2ee523a2206206994597c13d831ec7\n",
      "Data: 0x095ea7b30000000000000000000000007a250d5630b4cf539739df2c5dacb4c659f2488d0000000000000000000000000000000000000000000000000000000005f5e100\n",
      "Value: 0x0\n"
     ]
    }
   ],
   "source": [
    "description = \"Approve 100 USDT for swapping on a decentralized exchange.\"\n",
    "res = await generate_tx_params(description, from_address)\n",
    "print(res)\n",
    "\n",
    "assert res.from_address.lower() == \"0xd8da6bf26964af9d7eed9e03e53415d37aa96045\".lower()\n",
    "assert res.to_address.lower() == \"0xdAC17F958D2ee523a2206206994597C13D831ec7\".lower()\n",
    "data = \"0x095ea7b30000000000000000000000007a250d5630b4cf539739df2c5dacb4c659f2488d0000000000000000000000000000000000000000000000000000000005f5e100\"\n",
    "assert res.data == data\n",
    "assert res.value == \"0x0\""
   ]
  },
  {
   "cell_type": "code",
   "execution_count": 5,
   "metadata": {},
   "outputs": [
    {
     "name": "stdout",
     "output_type": "stream",
     "text": [
      "From: 0xd8dA6BF26964aF9D7eEd9e03E53415D37aA96045\n",
      "To: 0x7a250d5630B4cF539739dF2C5dAcb4c659F2488D\n",
      "Data: 0x38ed17390000000000000000000000000000000000000000000000000000000005f5e100000000000000000000000000000000000000000000000000000000000000000000000000000000000000000000000000000000000000000000000000000000a0000000000000000000000000d8da6bf26964af9d7eed9e03e53415d37aa960450000000000000000000000000000000000000000000000000000000067027ff40000000000000000000000000000000000000000000000000000000000000002000000000000000000000000dac17f958d2ee523a2206206994597c13d831ec7000000000000000000000000a0b86991c6218b36c1d19d4a2e9eb0ce3606eb48\n",
      "Value: 0x0\n",
      "Seconds from now: 3583\n"
     ]
    }
   ],
   "source": [
    "description = \"Swap 100 USDT to USDC on a decentralized exchange.\"\n",
    "res = await generate_tx_params(description, from_address)\n",
    "print(res)\n",
    "\n",
    "assert res.from_address.lower() == \"0xd8da6bf26964af9d7eed9e03e53415d37aa96045\".lower()\n",
    "assert res.to_address.lower() == \"0x7a250d5630B4cF539739dF2C5dAcb4c659F2488D\".lower()\n",
    "\n",
    "# Function selector (UniswapV2 Router: swapExactTokensForTokens)\n",
    "assert res.data[:10] == \"0x38ed1739\"\n",
    "# Amount of input tokens to send\n",
    "amount_input = \"0000000000000000000000000000000000000000000000000000000005f5e100\"\n",
    "assert res.data[10:74] == amount_input\n",
    "# Amount of output tokens to receive\n",
    "amount_output = \"0000000000000000000000000000000000000000000000000000000000000000\"\n",
    "assert res.data[74:138] == amount_output\n",
    "# Address of the recipient\n",
    "recipient = \"d8da6bf26964af9d7eed9e03e53415d37aa96045\"\n",
    "assert res.data[226:266] == recipient\n",
    "\n",
    "import time\n",
    "\n",
    "# Deadline for the transaction\n",
    "deadline_hex = res.data[266:330]\n",
    "deadline = int(deadline_hex, 16)\n",
    "assert deadline > int(time.time()) + 30  # 30 seconds from now\n",
    "print(f\"Seconds from now: {deadline - int(time.time())}\")\n",
    "\n",
    "# First address in the path (USDT)\n",
    "token1_address = \"dac17f958d2ee523a2206206994597c13d831ec7\"\n",
    "assert res.data[418:458] == token1_address\n",
    "# Second address in the path (USDC)\n",
    "token2_address = \"a0b86991c6218b36c1d19d4a2e9eb0ce3606eb48\"\n",
    "assert res.data[482:522] == token2_address\n",
    "\n",
    "assert res.value == \"0x0\""
   ]
  },
  {
   "cell_type": "code",
   "execution_count": 6,
   "metadata": {},
   "outputs": [
    {
     "name": "stdout",
     "output_type": "stream",
     "text": [
      "From: 0xd8da6bf26964af9d7eed9e03e53415d37aa96045\n",
      "To: 0xae7ab96520de3a18e5e111b5eaab095312d7fe84\n",
      "Data: 0xa1903eab0000000000000000000000000000000000000000000000000000000000000000\n",
      "Value: 0x6a94d74f430000\n"
     ]
    }
   ],
   "source": [
    "description = \"Stake 0.03 ETH to Lido to receive stETH.\"\n",
    "res = await generate_tx_params(description, from_address)\n",
    "print(res)\n",
    "\n",
    "assert res.from_address.lower() == \"0xd8da6bf26964af9d7eed9e03e53415d37aa96045\".lower()\n",
    "assert res.to_address.lower() == \"0xae7ab96520DE3A18E5e111B5EaAb095312D7fE84\".lower()\n",
    "data = \"0xa1903eab0000000000000000000000000000000000000000000000000000000000000000\"\n",
    "assert res.data == data\n",
    "assert res.value == \"0x6a94d74f430000\""
   ]
  },
  {
   "cell_type": "code",
   "execution_count": 7,
   "metadata": {},
   "outputs": [
    {
     "name": "stdout",
     "output_type": "stream",
     "text": [
      "From: 0xd8da6bf26964af9d7eed9e03e53415d37aa96045\n",
      "To: 0x24db6717dB1C75B9Db6eA47164D8730B63875dB7\n",
      "Data: 0x2ebe07c8000000000000000000000000ae7ab96520de3a18e5e111b5eaab095312d7fe840000000000000000000000000000000000000000000000000429d069189dfffd00000000000000000000000000000000000000000000000000000000000000000000000000000000000000000000000000000000000000000000000000000000\n",
      "Value: 0x0\n"
     ]
    }
   ],
   "source": [
    "description = \"Stake 0.299999999999999997 stETH to Eigenpie.\"\n",
    "res = await generate_tx_params(description, from_address)\n",
    "print(res)"
   ]
  },
  {
   "cell_type": "markdown",
   "metadata": {},
   "source": [
    "## Custom Agent to Output Tx Params using LLM\n"
   ]
  },
  {
   "cell_type": "code",
   "execution_count": 8,
   "metadata": {},
   "outputs": [],
   "source": [
    "from graph.converter_llm import generate_tx_params\n",
    "\n",
    "from_address = \"0xd8da6bf26964af9d7eed9e03e53415d37aa96045\""
   ]
  },
  {
   "cell_type": "code",
   "execution_count": 9,
   "metadata": {},
   "outputs": [
    {
     "name": "stdout",
     "output_type": "stream",
     "text": [
      "{\"from_address\":\"0xd8da6bf26964af9d7eed9e03e53415d37aa96045\",\"to_address\":\"0x8c575b178927fF9A70804B8b4F7622F7666bB360\",\"data\":\"0x\",\"value\":\"0x2386f26fc10000\"}\n"
     ]
    }
   ],
   "source": [
    "description = \"Send 0.01 ETH to the address 0x8c575b178927fF9A70804B8b4F7622F7666bB360.\"\n",
    "res = await generate_tx_params(description, from_address)\n",
    "print(res.model_dump_json())\n",
    "\n",
    "assert res.from_address.lower() == \"0xd8da6bf26964af9d7eed9e03e53415d37aa96045\".lower()\n",
    "assert res.to_address.lower() == \"0x8c575b178927fF9A70804B8b4F7622F7666bB360\".lower()\n",
    "assert res.data == \"0x\"\n",
    "assert res.value == \"0x2386f26fc10000\""
   ]
  },
  {
   "cell_type": "code",
   "execution_count": 10,
   "metadata": {},
   "outputs": [
    {
     "name": "stdout",
     "output_type": "stream",
     "text": [
      "{\"from_address\":\"0xd8da6bf26964af9d7eed9e03e53415d37aa96045\",\"to_address\":\"0xdAC17F958D2ee523a2206206994597C13D831ec7\",\"data\":\"0xa9059cbb000000000000000000000000b859d7eb5e319e54dc23c83dfe93e649b88202b60000000000000000000000000000000000000000000000000000000005f5e100\",\"value\":\"0x0\"}\n"
     ]
    }
   ],
   "source": [
    "description = \"Transfer 100 USDT to Scott's Ethereum address.\"\n",
    "res = await generate_tx_params(description, from_address)\n",
    "print(res.model_dump_json())\n",
    "\n",
    "assert res.from_address.lower() == \"0xd8da6bf26964af9d7eed9e03e53415d37aa96045\".lower()\n",
    "assert res.to_address.lower() == \"0xdAC17F958D2ee523a2206206994597C13D831ec7\".lower()\n",
    "data = \"0xa9059cbb000000000000000000000000b859d7eb5e319e54dc23c83dfe93e649b88202b60000000000000000000000000000000000000000000000000000000005f5e100\"\n",
    "assert res.data == data\n",
    "assert res.value == \"0x0\""
   ]
  },
  {
   "cell_type": "code",
   "execution_count": 11,
   "metadata": {},
   "outputs": [
    {
     "name": "stdout",
     "output_type": "stream",
     "text": [
      "{\"from_address\":\"0xd8da6bf26964af9d7eed9e03e53415d37aa96045\",\"to_address\":\"0xdac17f958d2ee523a2206206994597c13d831ec7\",\"data\":\"0x095ea7b30000000000000000000000007a250d5630b4cf539739df2c5dacb4c659f2488d0000000000000000000000000000000000000000000000000000000005f5e100\",\"value\":\"0x0\"}\n"
     ]
    }
   ],
   "source": [
    "description = \"Approve 100 USDT for swapping on a decentralized exchange.\"\n",
    "res = await generate_tx_params(description, from_address)\n",
    "print(res.model_dump_json())\n",
    "\n",
    "assert res.from_address.lower() == \"0xd8da6bf26964af9d7eed9e03e53415d37aa96045\".lower()\n",
    "assert res.to_address.lower() == \"0xdAC17F958D2ee523a2206206994597C13D831ec7\".lower()\n",
    "data = \"0x095ea7b30000000000000000000000007a250d5630b4cf539739df2c5dacb4c659f2488d0000000000000000000000000000000000000000000000000000000005f5e100\"\n",
    "assert res.data == data\n",
    "assert res.value == \"0x0\""
   ]
  },
  {
   "cell_type": "code",
   "execution_count": 12,
   "metadata": {},
   "outputs": [
    {
     "name": "stdout",
     "output_type": "stream",
     "text": [
      "{\"from_address\":\"0xd8da6bf26964af9d7eed9e03e53415d37aa96045\",\"to_address\":\"0x7a250d5630B4cF539739dF2C5dAcb4c659F2488D\",\"data\":\"0x38ed17390000000000000000000000000000000000000000000000000000000005f5e100000000000000000000000000000000000000000000000000000000000000000000000000000000000000000000000000000000000000000000000000000000a0000000000000000000000000d8da6bf26964af9d7eed9e03e53415d37aa96045000000000000000000000000000000000000000000000000000000006702803d0000000000000000000000000000000000000000000000000000000000000002000000000000000000000000dac17f958d2ee523a2206206994597c13d831ec7000000000000000000000000a0b86991c6218b36c1d19d4a2e9eb0ce3606eb48\",\"value\":\"0x0\"}\n"
     ]
    }
   ],
   "source": [
    "description = \"Swap 100 USDT to USDC on a decentralized exchange.\"\n",
    "res = await generate_tx_params(description, from_address)\n",
    "print(res.model_dump_json())\n",
    "\n",
    "assert res.from_address.lower() == \"0xd8da6bf26964af9d7eed9e03e53415d37aa96045\".lower()\n",
    "assert res.to_address.lower() == \"0x7a250d5630B4cF539739dF2C5dAcb4c659F2488D\".lower()\n",
    "# Data is omitted since deadline is not deterministic\n",
    "assert res.value == \"0x0\""
   ]
  },
  {
   "cell_type": "code",
   "execution_count": 13,
   "metadata": {},
   "outputs": [
    {
     "name": "stdout",
     "output_type": "stream",
     "text": [
      "{\"from_address\":\"0xd8da6bf26964af9d7eed9e03e53415d37aa96045\",\"to_address\":\"0xae7ab96520de3a18e5e111b5eaab095312d7fe84\",\"data\":\"0xa1903eab0000000000000000000000000000000000000000000000000000000000000000\",\"value\":\"0x6a94d74f430000\"}\n"
     ]
    }
   ],
   "source": [
    "description = \"Stake 0.03 ETH to Lido to receive stETH.\"\n",
    "res = await generate_tx_params(description, from_address)\n",
    "print(res.model_dump_json())\n",
    "\n",
    "assert res.from_address.lower() == \"0xd8da6bf26964af9d7eed9e03e53415d37aa96045\".lower()\n",
    "assert res.to_address.lower() == \"0xae7ab96520DE3A18E5e111B5EaAb095312D7fE84\".lower()\n",
    "data = \"0xa1903eab0000000000000000000000000000000000000000000000000000000000000000\"\n",
    "assert res.data == data\n",
    "assert res.value == \"0x6a94d74f430000\""
   ]
  }
 ],
 "metadata": {
  "kernelspec": {
   "display_name": ".venv",
   "language": "python",
   "name": "python3"
  },
  "language_info": {
   "codemirror_mode": {
    "name": "ipython",
    "version": 3
   },
   "file_extension": ".py",
   "mimetype": "text/x-python",
   "name": "python",
   "nbconvert_exporter": "python",
   "pygments_lexer": "ipython3",
   "version": "3.11.9"
  }
 },
 "nbformat": 4,
 "nbformat_minor": 2
}
