{
 "cells": [
  {
   "cell_type": "markdown",
   "metadata": {},
   "source": [
    "## Custom Agent to Output Tx Params using Tool\n"
   ]
  },
  {
   "cell_type": "code",
   "execution_count": 1,
   "metadata": {},
   "outputs": [],
   "source": [
    "from graph.converter_tool import generate_tx_params\n",
    "\n",
    "from_address = \"0xd8da6bf26964af9d7eed9e03e53415d37aa96045\""
   ]
  },
  {
   "cell_type": "code",
   "execution_count": 2,
   "metadata": {},
   "outputs": [
    {
     "name": "stdout",
     "output_type": "stream",
     "text": [
      "From: 0xd8da6bf26964af9d7eed9e03e53415d37aa96045\n",
      "To: 0x8c575b178927fF9A70804B8b4F7622F7666bB360\n",
      "Data: 0x\n",
      "Value: 0x2386f26fc10000\n"
     ]
    }
   ],
   "source": [
    "description = \"Send 0.01 ETH to the address 0x8c575b178927fF9A70804B8b4F7622F7666bB360.\"\n",
    "res = await generate_tx_params(description, from_address)\n",
    "print(res)\n",
    "\n",
    "assert res.from_address.lower() == \"0xd8da6bf26964af9d7eed9e03e53415d37aa96045\".lower()\n",
    "assert res.to_address.lower() == \"0x8c575b178927fF9A70804B8b4F7622F7666bB360\".lower()\n",
    "assert res.data == \"0x\"\n",
    "assert res.value == \"0x2386f26fc10000\""
   ]
  },
  {
   "cell_type": "code",
   "execution_count": 3,
   "metadata": {},
   "outputs": [
    {
     "name": "stdout",
     "output_type": "stream",
     "text": [
      "From: 0xd8da6bf26964af9d7eed9e03e53415d37aa96045\n",
      "To: 0xdAC17F958D2ee523a2206206994597C13D831ec7\n",
      "Data: 0xa9059cbb000000000000000000000000b859d7eb5e319e54dc23c83dfe93e649b88202b60000000000000000000000000000000000000000000000000000000005f5e100\n",
      "Value: 0x0\n"
     ]
    }
   ],
   "source": [
    "description = \"Transfer 100 USDT to Scott's Ethereum address.\"\n",
    "res = await generate_tx_params(description, from_address)\n",
    "print(res)\n",
    "\n",
    "assert res.from_address.lower() == \"0xd8da6bf26964af9d7eed9e03e53415d37aa96045\".lower()\n",
    "assert res.to_address.lower() == \"0xdAC17F958D2ee523a2206206994597C13D831ec7\".lower()\n",
    "data = \"0xa9059cbb000000000000000000000000b859d7eb5e319e54dc23c83dfe93e649b88202b60000000000000000000000000000000000000000000000000000000005f5e100\"\n",
    "assert res.data == data\n",
    "assert res.value == \"0x0\""
   ]
  },
  {
   "cell_type": "code",
   "execution_count": 4,
   "metadata": {},
   "outputs": [
    {
     "name": "stdout",
     "output_type": "stream",
     "text": [
      "From: 0xd8da6bf26964af9d7eed9e03e53415d37aa96045\n",
      "To: 0xdac17f958d2ee523a2206206994597c13d831ec7\n",
      "Data: 0x095ea7b30000000000000000000000007a250d5630b4cf539739df2c5dacb4c659f2488d0000000000000000000000000000000000000000000000000000000005f5e100\n",
      "Value: 0x0\n"
     ]
    }
   ],
   "source": [
    "description = \"Approve 100 USDT for swapping on a decentralized exchange.\"\n",
    "res = await generate_tx_params(description, from_address)\n",
    "print(res)\n",
    "\n",
    "assert res.from_address.lower() == \"0xd8da6bf26964af9d7eed9e03e53415d37aa96045\".lower()\n",
    "assert res.to_address.lower() == \"0xdAC17F958D2ee523a2206206994597C13D831ec7\".lower()\n",
    "data = \"0x095ea7b30000000000000000000000007a250d5630b4cf539739df2c5dacb4c659f2488d0000000000000000000000000000000000000000000000000000000005f5e100\"\n",
    "assert res.data == data\n",
    "assert res.value == \"0x0\""
   ]
  },
  {
   "cell_type": "code",
   "execution_count": 5,
   "metadata": {},
   "outputs": [
    {
     "name": "stdout",
     "output_type": "stream",
     "text": [
      "From: 0xd8dA6BF26964aF9D7eEd9e03E53415D37aA96045\n",
      "To: 0x7a250d5630B4cF539739dF2C5dAcb4c659F2488D\n",
      "Data: 0x38ed17390000000000000000000000000000000000000000000000000000000005f5e100000000000000000000000000000000000000000000000000000000000000000000000000000000000000000000000000000000000000000000000000000000a0000000000000000000000000d8da6bf26964af9d7eed9e03e53415d37aa960450000000000000000000000000000000000000000000000000000000066fbec260000000000000000000000000000000000000000000000000000000000000002000000000000000000000000dac17f958d2ee523a2206206994597c13d831ec7000000000000000000000000a0b86991c6218b36c1d19d4a2e9eb0ce3606eb48\n",
      "Value: 0x0\n"
     ]
    }
   ],
   "source": [
    "description = \"Swap 100 USDT to USDC on the chosen decentralized exchange.\"\n",
    "res = await generate_tx_params(description, from_address)\n",
    "print(res)\n",
    "\n",
    "assert res.from_address.lower() == \"0xd8da6bf26964af9d7eed9e03e53415d37aa96045\".lower()\n",
    "assert res.to_address.lower() == \"0x7a250d5630B4cF539739dF2C5dAcb4c659F2488D\".lower()\n",
    "# Data is omitted since deadline is not deterministic\n",
    "assert res.value == \"0x0\""
   ]
  },
  {
   "cell_type": "code",
   "execution_count": 6,
   "metadata": {},
   "outputs": [
    {
     "name": "stdout",
     "output_type": "stream",
     "text": [
      "Checking for proxy at 0xae7ab96520de3a18e5e111b5eaab095312d7fe84\n",
      "Proxy found, redirecting to 0x17144556fd3424EDC8Fc8A4C940B2D04936d17eb\n",
      "Checking for proxy at 0x17144556fd3424EDC8Fc8A4C940B2D04936d17eb\n",
      "No proxy found, fetching ABI for 0x17144556fd3424EDC8Fc8A4C940B2D04936d17eb\n",
      "From: 0xd8da6bf26964af9d7eed9e03e53415d37aa96045\n",
      "To: 0xae7ab96520de3a18e5e111b5eaab095312d7fe84\n",
      "Data: 0xa1903eab0000000000000000000000000000000000000000000000000000000000000000\n",
      "Value: 0x6a94d74f430000\n"
     ]
    }
   ],
   "source": [
    "description = \"Stake 0.03 ETH to Lido to receive stETH.\"\n",
    "res = await generate_tx_params(description, from_address)\n",
    "print(res)\n",
    "\n",
    "assert res.from_address.lower() == \"0xd8da6bf26964af9d7eed9e03e53415d37aa96045\".lower()\n",
    "assert res.to_address.lower() == \"0xae7ab96520DE3A18E5e111B5EaAb095312D7fE84\".lower()\n",
    "data = \"0xa1903eab0000000000000000000000000000000000000000000000000000000000000000\"\n",
    "assert res.data == data\n",
    "assert res.value == \"0x6a94d74f430000\""
   ]
  },
  {
   "cell_type": "code",
   "execution_count": 7,
   "metadata": {},
   "outputs": [
    {
     "name": "stdout",
     "output_type": "stream",
     "text": [
      "Checking for proxy at 0x24db6717dB1C75B9Db6eA47164D8730B63875dB7\n",
      "Proxy found, redirecting to 0x67362196Cc6557Eb5646dD407c1D88BCFdBCBf7B\n",
      "Checking for proxy at 0x67362196Cc6557Eb5646dD407c1D88BCFdBCBf7B\n",
      "No proxy found, fetching ABI for 0x67362196Cc6557Eb5646dD407c1D88BCFdBCBf7B\n",
      "From: 0xd8da6bf26964af9d7eed9e03e53415d37aa96045\n",
      "To: 0x24db6717dB1C75B9Db6eA47164D8730B63875dB7\n",
      "Data: 0x2ebe07c8000000000000000000000000ae7ab96520de3a18e5e111b5eaab095312d7fe840000000000000000000000000000000000000000000000000429d069189dffc000000000000000000000000000000000000000000000000000000000000000000000000000000000000000000000000000000000000000000000000000000000\n",
      "Value: 0x0\n"
     ]
    }
   ],
   "source": [
    "description = \"Stake 0.299999999999999997 stETH to Eigenpie.\"\n",
    "res = await generate_tx_params(description, from_address)\n",
    "print(res)"
   ]
  },
  {
   "cell_type": "markdown",
   "metadata": {},
   "source": [
    "## Custom Agent to Output Tx Params using LLM\n"
   ]
  },
  {
   "cell_type": "code",
   "execution_count": 8,
   "metadata": {},
   "outputs": [],
   "source": [
    "from graph.converter_llm import generate_tx_params\n",
    "\n",
    "from_address = \"0xd8da6bf26964af9d7eed9e03e53415d37aa96045\""
   ]
  },
  {
   "cell_type": "code",
   "execution_count": 9,
   "metadata": {},
   "outputs": [
    {
     "name": "stdout",
     "output_type": "stream",
     "text": [
      "{\"from_address\":\"0xd8da6bf26964af9d7eed9e03e53415d37aa96045\",\"to_address\":\"0x8c575b178927fF9A70804B8b4F7622F7666bB360\",\"data\":\"0x\",\"value\":\"0x2386f26fc10000\"}\n"
     ]
    }
   ],
   "source": [
    "description = \"Send 0.01 ETH to the address 0x8c575b178927fF9A70804B8b4F7622F7666bB360.\"\n",
    "res = await generate_tx_params(description, from_address)\n",
    "print(res.model_dump_json())\n",
    "\n",
    "assert res.from_address.lower() == \"0xd8da6bf26964af9d7eed9e03e53415d37aa96045\".lower()\n",
    "assert res.to_address.lower() == \"0x8c575b178927fF9A70804B8b4F7622F7666bB360\".lower()\n",
    "assert res.data == \"0x\"\n",
    "assert res.value == \"0x2386f26fc10000\""
   ]
  },
  {
   "cell_type": "code",
   "execution_count": 10,
   "metadata": {},
   "outputs": [
    {
     "name": "stdout",
     "output_type": "stream",
     "text": [
      "{\"from_address\":\"0xd8da6bf26964af9d7eed9e03e53415d37aa96045\",\"to_address\":\"0xdAC17F958D2ee523a2206206994597C13D831ec7\",\"data\":\"0xa9059cbb000000000000000000000000b859d7eb5e319e54dc23c83dfe93e649b88202b60000000000000000000000000000000000000000000000000000000005f5e100\",\"value\":\"0x0\"}\n"
     ]
    }
   ],
   "source": [
    "description = \"Transfer 100 USDT to Scott's Ethereum address.\"\n",
    "res = await generate_tx_params(description, from_address)\n",
    "print(res.model_dump_json())\n",
    "\n",
    "assert res.from_address.lower() == \"0xd8da6bf26964af9d7eed9e03e53415d37aa96045\".lower()\n",
    "assert res.to_address.lower() == \"0xdAC17F958D2ee523a2206206994597C13D831ec7\".lower()\n",
    "data = \"0xa9059cbb000000000000000000000000b859d7eb5e319e54dc23c83dfe93e649b88202b60000000000000000000000000000000000000000000000000000000005f5e100\"\n",
    "assert res.data == data\n",
    "assert res.value == \"0x0\""
   ]
  },
  {
   "cell_type": "code",
   "execution_count": 11,
   "metadata": {},
   "outputs": [
    {
     "name": "stdout",
     "output_type": "stream",
     "text": [
      "{\"from_address\":\"0xd8da6bf26964af9d7eed9e03e53415d37aa96045\",\"to_address\":\"0xdac17f958d2ee523a2206206994597c13d831ec7\",\"data\":\"0x095ea7b30000000000000000000000007a250d5630b4cf539739df2c5dacb4c659f2488d0000000000000000000000000000000000000000000000000000000005f5e100\",\"value\":\"0x0\"}\n"
     ]
    }
   ],
   "source": [
    "description = \"Approve 100 USDT for swapping on a decentralized exchange.\"\n",
    "res = await generate_tx_params(description, from_address)\n",
    "print(res.model_dump_json())\n",
    "\n",
    "assert res.from_address.lower() == \"0xd8da6bf26964af9d7eed9e03e53415d37aa96045\".lower()\n",
    "assert res.to_address.lower() == \"0xdAC17F958D2ee523a2206206994597C13D831ec7\".lower()\n",
    "data = \"0x095ea7b30000000000000000000000007a250d5630b4cf539739df2c5dacb4c659f2488d0000000000000000000000000000000000000000000000000000000005f5e100\"\n",
    "assert res.data == data\n",
    "assert res.value == \"0x0\""
   ]
  },
  {
   "cell_type": "code",
   "execution_count": 12,
   "metadata": {},
   "outputs": [
    {
     "ename": "GraphRecursionError",
     "evalue": "Recursion limit of 25 reached without hitting a stop condition. You can increase the limit by setting the `recursion_limit` config key.",
     "output_type": "error",
     "traceback": [
      "\u001b[0;31m---------------------------------------------------------------------------\u001b[0m",
      "\u001b[0;31mGraphRecursionError\u001b[0m                       Traceback (most recent call last)",
      "Cell \u001b[0;32mIn[12], line 2\u001b[0m\n\u001b[1;32m      1\u001b[0m description \u001b[38;5;241m=\u001b[39m \u001b[38;5;124m\"\u001b[39m\u001b[38;5;124mSwap 100 USDT to USDC on the chosen decentralized exchange.\u001b[39m\u001b[38;5;124m\"\u001b[39m\n\u001b[0;32m----> 2\u001b[0m res \u001b[38;5;241m=\u001b[39m \u001b[38;5;28;01mawait\u001b[39;00m generate_tx_params(description, from_address)\n\u001b[1;32m      3\u001b[0m \u001b[38;5;28mprint\u001b[39m(res\u001b[38;5;241m.\u001b[39mmodel_dump_json())\n\u001b[1;32m      5\u001b[0m \u001b[38;5;28;01massert\u001b[39;00m res\u001b[38;5;241m.\u001b[39mfrom_address\u001b[38;5;241m.\u001b[39mlower() \u001b[38;5;241m==\u001b[39m \u001b[38;5;124m\"\u001b[39m\u001b[38;5;124m0xd8da6bf26964af9d7eed9e03e53415d37aa96045\u001b[39m\u001b[38;5;124m\"\u001b[39m\u001b[38;5;241m.\u001b[39mlower()\n",
      "File \u001b[0;32m~/Developer/ai/tx-generator/graph/converter_llm.py:96\u001b[0m, in \u001b[0;36mgenerate_tx_params\u001b[0;34m(description, from_address)\u001b[0m\n\u001b[1;32m     92\u001b[0m system_message \u001b[38;5;241m=\u001b[39m SystemMessage(\n\u001b[1;32m     93\u001b[0m     system_prompt\u001b[38;5;241m.\u001b[39mformat(from_address\u001b[38;5;241m=\u001b[39mfrom_address, current_time\u001b[38;5;241m=\u001b[39mdatetime\u001b[38;5;241m.\u001b[39mnow())\n\u001b[1;32m     94\u001b[0m )\n\u001b[1;32m     95\u001b[0m \u001b[38;5;28minput\u001b[39m \u001b[38;5;241m=\u001b[39m {\u001b[38;5;124m\"\u001b[39m\u001b[38;5;124mmessages\u001b[39m\u001b[38;5;124m\"\u001b[39m: [system_message, HumanMessage(description)]}\n\u001b[0;32m---> 96\u001b[0m result \u001b[38;5;241m=\u001b[39m \u001b[38;5;28;01mawait\u001b[39;00m converter\u001b[38;5;241m.\u001b[39mainvoke(\u001b[38;5;28minput\u001b[39m)\n\u001b[1;32m     97\u001b[0m \u001b[38;5;66;03m# print(f\"generate_tx_params result: {result}\")\u001b[39;00m\n\u001b[1;32m     98\u001b[0m \u001b[38;5;28;01mreturn\u001b[39;00m result[\u001b[38;5;124m\"\u001b[39m\u001b[38;5;124mresponse\u001b[39m\u001b[38;5;124m\"\u001b[39m]\n",
      "File \u001b[0;32m~/Developer/ai/tx-generator/.venv/lib/python3.11/site-packages/langgraph/pregel/__init__.py:1523\u001b[0m, in \u001b[0;36mPregel.ainvoke\u001b[0;34m(self, input, config, stream_mode, output_keys, interrupt_before, interrupt_after, debug, **kwargs)\u001b[0m\n\u001b[1;32m   1521\u001b[0m \u001b[38;5;28;01melse\u001b[39;00m:\n\u001b[1;32m   1522\u001b[0m     chunks \u001b[38;5;241m=\u001b[39m []\n\u001b[0;32m-> 1523\u001b[0m \u001b[38;5;28;01masync\u001b[39;00m \u001b[38;5;28;01mfor\u001b[39;00m chunk \u001b[38;5;129;01min\u001b[39;00m \u001b[38;5;28mself\u001b[39m\u001b[38;5;241m.\u001b[39mastream(\n\u001b[1;32m   1524\u001b[0m     \u001b[38;5;28minput\u001b[39m,\n\u001b[1;32m   1525\u001b[0m     config,\n\u001b[1;32m   1526\u001b[0m     stream_mode\u001b[38;5;241m=\u001b[39mstream_mode,\n\u001b[1;32m   1527\u001b[0m     output_keys\u001b[38;5;241m=\u001b[39moutput_keys,\n\u001b[1;32m   1528\u001b[0m     interrupt_before\u001b[38;5;241m=\u001b[39minterrupt_before,\n\u001b[1;32m   1529\u001b[0m     interrupt_after\u001b[38;5;241m=\u001b[39minterrupt_after,\n\u001b[1;32m   1530\u001b[0m     debug\u001b[38;5;241m=\u001b[39mdebug,\n\u001b[1;32m   1531\u001b[0m     \u001b[38;5;241m*\u001b[39m\u001b[38;5;241m*\u001b[39mkwargs,\n\u001b[1;32m   1532\u001b[0m ):\n\u001b[1;32m   1533\u001b[0m     \u001b[38;5;28;01mif\u001b[39;00m stream_mode \u001b[38;5;241m==\u001b[39m \u001b[38;5;124m\"\u001b[39m\u001b[38;5;124mvalues\u001b[39m\u001b[38;5;124m\"\u001b[39m:\n\u001b[1;32m   1534\u001b[0m         latest \u001b[38;5;241m=\u001b[39m chunk\n",
      "File \u001b[0;32m~/Developer/ai/tx-generator/.venv/lib/python3.11/site-packages/langgraph/pregel/__init__.py:1426\u001b[0m, in \u001b[0;36mPregel.astream\u001b[0;34m(self, input, config, stream_mode, output_keys, interrupt_before, interrupt_after, debug, subgraphs)\u001b[0m\n\u001b[1;32m   1424\u001b[0m \u001b[38;5;66;03m# handle exit\u001b[39;00m\n\u001b[1;32m   1425\u001b[0m \u001b[38;5;28;01mif\u001b[39;00m loop\u001b[38;5;241m.\u001b[39mstatus \u001b[38;5;241m==\u001b[39m \u001b[38;5;124m\"\u001b[39m\u001b[38;5;124mout_of_steps\u001b[39m\u001b[38;5;124m\"\u001b[39m:\n\u001b[0;32m-> 1426\u001b[0m     \u001b[38;5;28;01mraise\u001b[39;00m GraphRecursionError(\n\u001b[1;32m   1427\u001b[0m         \u001b[38;5;124mf\u001b[39m\u001b[38;5;124m\"\u001b[39m\u001b[38;5;124mRecursion limit of \u001b[39m\u001b[38;5;132;01m{\u001b[39;00mconfig[\u001b[38;5;124m'\u001b[39m\u001b[38;5;124mrecursion_limit\u001b[39m\u001b[38;5;124m'\u001b[39m]\u001b[38;5;132;01m}\u001b[39;00m\u001b[38;5;124m reached \u001b[39m\u001b[38;5;124m\"\u001b[39m\n\u001b[1;32m   1428\u001b[0m         \u001b[38;5;124m\"\u001b[39m\u001b[38;5;124mwithout hitting a stop condition. You can increase the \u001b[39m\u001b[38;5;124m\"\u001b[39m\n\u001b[1;32m   1429\u001b[0m         \u001b[38;5;124m\"\u001b[39m\u001b[38;5;124mlimit by setting the `recursion_limit` config key.\u001b[39m\u001b[38;5;124m\"\u001b[39m\n\u001b[1;32m   1430\u001b[0m     )\n\u001b[1;32m   1431\u001b[0m \u001b[38;5;66;03m# set final channel values as run output\u001b[39;00m\n\u001b[1;32m   1432\u001b[0m \u001b[38;5;28;01mawait\u001b[39;00m run_manager\u001b[38;5;241m.\u001b[39mon_chain_end(loop\u001b[38;5;241m.\u001b[39moutput)\n",
      "\u001b[0;31mGraphRecursionError\u001b[0m: Recursion limit of 25 reached without hitting a stop condition. You can increase the limit by setting the `recursion_limit` config key."
     ]
    }
   ],
   "source": [
    "description = \"Swap 100 USDT to USDC on the chosen decentralized exchange.\"\n",
    "res = await generate_tx_params(description, from_address)\n",
    "print(res.model_dump_json())\n",
    "\n",
    "assert res.from_address.lower() == \"0xd8da6bf26964af9d7eed9e03e53415d37aa96045\".lower()\n",
    "assert res.to_address.lower() == \"0x7a250d5630B4cF539739dF2C5dAcb4c659F2488D\".lower()\n",
    "# Data is omitted since deadline is not deterministic\n",
    "assert res.value == \"0x0\""
   ]
  },
  {
   "cell_type": "code",
   "execution_count": null,
   "metadata": {},
   "outputs": [],
   "source": [
    "description = \"Stake 0.03 ETH to Lido to receive stETH.\"\n",
    "res = await generate_tx_params(description, from_address)\n",
    "print(res.model_dump_json())\n",
    "\n",
    "assert res.from_address.lower() == \"0xd8da6bf26964af9d7eed9e03e53415d37aa96045\".lower()\n",
    "assert res.to_address.lower() == \"0xae7ab96520DE3A18E5e111B5EaAb095312D7fE84\".lower()\n",
    "data = \"0xa1903eab0000000000000000000000000000000000000000000000000000000000000000\"\n",
    "assert res.data == data\n",
    "assert res.value == \"0x6a94d74f430000\""
   ]
  }
 ],
 "metadata": {
  "kernelspec": {
   "display_name": ".venv",
   "language": "python",
   "name": "python3"
  },
  "language_info": {
   "codemirror_mode": {
    "name": "ipython",
    "version": 3
   },
   "file_extension": ".py",
   "mimetype": "text/x-python",
   "name": "python",
   "nbconvert_exporter": "python",
   "pygments_lexer": "ipython3",
   "version": "3.11.9"
  }
 },
 "nbformat": 4,
 "nbformat_minor": 2
}
