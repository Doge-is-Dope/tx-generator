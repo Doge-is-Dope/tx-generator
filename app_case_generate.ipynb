{
 "cells": [
  {
   "cell_type": "code",
   "execution_count": 1,
   "metadata": {},
   "outputs": [],
   "source": [
    "import os\n",
    "\n",
    "os.environ[\"LANGCHAIN_TRACING_V2\"] = \"true\"\n",
    "os.environ[\"LANGCHAIN_PROJECT\"] = \"generator\""
   ]
  },
  {
   "cell_type": "code",
   "execution_count": 2,
   "metadata": {},
   "outputs": [],
   "source": [
    "from case.case_retriever import get_retriever\n",
    "\n",
    "retriever = get_retriever()"
   ]
  },
  {
   "cell_type": "code",
   "execution_count": 3,
   "metadata": {},
   "outputs": [
    {
     "data": {
      "text/plain": [
       "[Document(metadata={'case_id': 'eigenpie_steth', 'seq_num': 55, 'source': 'eigenpie/index.ts', 'steps': \"[{'description': 'Stake ETH to Lido'}, {'description': 'Approve stETH to Eigenpie'}, {'description': 'Stake stETH to Eigenpie'}]\", 'total_steps': 3}, page_content='A batch case for staking ETH to Lido and then restaking stETH to Eigenpie.'),\n",
       " Document(metadata={'case_id': 'stake_eth', 'seq_num': 95, 'source': 'stake-eth/stake.ts', 'steps': \"[{'description': 'Stake into Lido'}, {'description': 'Stake into RocketPool'}, {'description': 'Swap ETH for staked token using 1inch'}, {'description': 'Stake into StakeWise'}, {'description': 'Stake into Stader'}, {'description': 'Stake into EtherFi'}, {'description': 'Stake into Renzo'}, {'description': 'Stake into Frax Finance'}, {'description': 'Stake into Swell'}, {'description': 'Stake into Redacted Finance'}, {'description': 'Stake into another protocol'}, {'description': 'Stake into another protocol'}, {'description': 'Stake into another protocol'}, {'description': 'Stake into another protocol'}, {'description': 'Stake into another protocol'}]\", 'total_steps': 14}, page_content='Stake ETH into various protocols including Lido, RocketPool, and others.'),\n",
       " Document(metadata={'case_id': 'zircuit_eigenpie_swell', 'seq_num': 103, 'source': 'zircuit-eigenpie-swell/index.ts', 'steps': \"[{'description': 'Stake ETH with Swell and receive swETH.'}, {'description': 'Approve swETH to be restaked to Eigenlayer on Eigenpie to earn Pearls.'}, {'description': 'Restake swETH for mswETH on Eigenpie.'}, {'description': 'Approve mswETH to be restaked on Zircuit to earn Zircuit Points.'}, {'description': 'Restake mswETH with Zircuit to earn Zircuit Points.'}]\", 'total_steps': 5}, page_content='A batch case for staking ETH, approving swETH for restaking, and earning points through Eigenpie and Zircuit.'),\n",
       " Document(metadata={'case_id': 'lido_multiplier', 'seq_num': 68, 'source': 'lido-multiplier/index.ts', 'steps': \"[{'description': 'Enable E-Mode for the user.'}, {'description': 'Delegate the transaction for the user.'}, {'description': 'Approve stETH to be wrapped into wstETH.'}, {'description': 'Approve wstETH to be supplied to AAVE.'}, {'description': 'Stake ETH to Lido.'}, {'description': 'Wrap stETH to wstETH.'}, {'description': 'Supply wstETH to AAVE.'}, {'description': 'Borrow ETH against the supplied wstETH.'}]\", 'total_steps': 8}, page_content='This case involves staking ETH to Lido, wrapping stETH to wstETH, and supplying wstETH to AAVE while enabling E-Mode and delegating the transaction. It allows users to leverage their assets by borrowing against their staked ETH.')]"
      ]
     },
     "execution_count": 3,
     "metadata": {},
     "output_type": "execute_result"
    }
   ],
   "source": [
    "retriever.invoke(\"Stake ETH with Lido and deposit to Eigenpie\")"
   ]
  },
  {
   "cell_type": "code",
   "execution_count": 4,
   "metadata": {},
   "outputs": [
    {
     "data": {
      "text/plain": [
       "[Document(metadata={'case_id': 'etf_base_meme_top10', 'seq_num': 56, 'source': 'etf-basememe-top10/index.ts', 'steps': \"[{'description': 'Approve USDC for 1inch.'}, {'description': 'Swap USDC to Top1 token.'}, {'description': 'Swap USDC to Top2 token.'}, {'description': 'Swap USDC to Top3 token.'}, {'description': 'Swap USDC to Top4 token.'}, {'description': 'Swap USDC to Top5 token.'}, {'description': 'Swap USDC to Top6 token.'}, {'description': 'Swap USDC to Top7 token.'}, {'description': 'Swap USDC to Top8 token.'}, {'description': 'Swap USDC to Top9 token.'}, {'description': 'Swap USDC to Top10 token.'}]\", 'total_steps': 11}, page_content='A batch case for swapping USDC to the top 10 tokens based on market cap using 1inch.'),\n",
       " Document(metadata={'case_id': 'etf_ethereum_top10', 'seq_num': 57, 'source': 'etf-ethereum-top10/index.ts', 'steps': \"[{'description': 'Approve USDT for 1inch.'}, {'description': 'Swap USDT to Top1 token.'}, {'description': 'Swap USDT to Top2 token.'}, {'description': 'Swap USDT to Top3 token.'}, {'description': 'Swap USDT to Top4 token.'}, {'description': 'Swap USDT to Top5 token.'}, {'description': 'Swap USDT to Top6 token.'}, {'description': 'Swap USDT to Top7 token.'}, {'description': 'Swap USDT to Top8 token.'}, {'description': 'Swap USDT to Top9 token.'}, {'description': 'Swap USDT to Top10 token.'}]\", 'total_steps': 11}, page_content='A batch case for swapping USDT to the top 10 tokens on Ethereum using 1inch.'),\n",
       " Document(metadata={'case_id': 'zircuit_ethena_usdt', 'seq_num': 105, 'source': 'zircuit-ethena/usdt-case.ts', 'steps': \"[{'description': 'Approve USDT for Uniswap'}, {'description': 'Swap USDT to USDe'}, {'description': 'Approve USDe for Zircuit'}, {'description': 'Stake USDe to Zircuit'}]\", 'total_steps': 4}, page_content='A batch case for swapping USDT to USDe and staking in Zircuit.'),\n",
       " Document(metadata={'case_id': 'ethena_usdt', 'seq_num': 58, 'source': 'ethena/index.ts', 'steps': \"[{'description': 'Approve USDT to Uniswap'}, {'description': 'Swap USDT to USDe'}, {'description': 'Approve USDe to lock on Ethena'}, {'description': 'Stake USDe on Ethena'}]\", 'total_steps': 4}, page_content='A batch case for swapping USDT to USDe and staking on Ethena.')]"
      ]
     },
     "execution_count": 4,
     "metadata": {},
     "output_type": "execute_result"
    }
   ],
   "source": [
    "retriever.invoke(\"Swap 10 USDC to USDT\")"
   ]
  },
  {
   "cell_type": "code",
   "execution_count": 5,
   "metadata": {},
   "outputs": [],
   "source": [
    "from langchain_core.runnables import RunnablePassthrough\n",
    "from langchain.prompts import ChatPromptTemplate\n",
    "from utils.model_selector import get_chat_model\n",
    "from models.case import BatchCase\n",
    "\n",
    "\n",
    "system_prompt = \"\"\"\n",
    "You are an expert case generator specializing in EVM blockchain transactions. \n",
    "Your task is to convert a description into a set of actionable steps.\n",
    "\n",
    "Rules:\n",
    "------------\n",
    "1. Ensure the output is clear, concise, and logically ordered.\n",
    "2. If the user's intent is unclear, refine it as needed to generate a coherent set of steps.\n",
    "3. Do not include any steps that require user interaction (e.g., asking the user to confirm the transaction on the blockchain etc.).\n",
    "4. Only generate steps directly relevant to EVM blockchain transactions.\n",
    "5. Reference the provided context when necessary.\n",
    "\n",
    "Context:\n",
    "------------\n",
    "{context}\n",
    "------------\"\"\"\n",
    "\n",
    "user_intent = \"Description: {description}\"\n",
    "\n",
    "prompt = ChatPromptTemplate.from_messages([system_prompt, user_intent])\n",
    "\n",
    "retriever = get_retriever()\n",
    "\n",
    "model = get_chat_model().model\n",
    "\n",
    "\n",
    "def format_docs(docs):\n",
    "    return \"\\n\\n\".join(str(doc.metadata) for doc in docs)\n",
    "\n",
    "\n",
    "rag_chain = (\n",
    "    {\"context\": retriever | format_docs, \"description\": RunnablePassthrough()}\n",
    "    | prompt\n",
    "    | model.with_structured_output(BatchCase)\n",
    ")"
   ]
  },
  {
   "cell_type": "code",
   "execution_count": 6,
   "metadata": {},
   "outputs": [
    {
     "name": "stdout",
     "output_type": "stream",
     "text": [
      "{\"id\": \"stake_eth_lido_eigenpie\", \"description\": \"Stake 0.03 ETH with Lido and deposit to Eigenpie\", \"total_steps\": 3, \"steps\": [{\"description\": \"Stake 0.03 ETH to Lido.\"}, {\"description\": \"Approve stETH to Eigenpie.\"}, {\"description\": \"Stake stETH to Eigenpie.\"}]}\n"
     ]
    }
   ],
   "source": [
    "question = \"Stake 0.03 ETH with Lido and deposit to Eigenpie\"\n",
    "result = rag_chain.invoke(question)\n",
    "print(result.json())"
   ]
  },
  {
   "cell_type": "code",
   "execution_count": 7,
   "metadata": {},
   "outputs": [
    {
     "name": "stdout",
     "output_type": "stream",
     "text": [
      "{\"id\": \"stake_2_eth_lido_eigenpie\", \"description\": \"Stake 2 ETH with Lido and deposit to Eigenpie\", \"total_steps\": 3, \"steps\": [{\"description\": \"Stake 2 ETH to Lido.\"}, {\"description\": \"Approve stETH to Eigenpie.\"}, {\"description\": \"Stake stETH to Eigenpie.\"}]}\n"
     ]
    }
   ],
   "source": [
    "question = \"Stake 2 ETH with Lido and deposit to Eigenpie\"\n",
    "result = rag_chain.invoke(question)\n",
    "print(result.json())"
   ]
  },
  {
   "cell_type": "code",
   "execution_count": 12,
   "metadata": {},
   "outputs": [
    {
     "name": "stdout",
     "output_type": "stream",
     "text": [
      "{\"id\": \"swap_usdt_usdc\", \"description\": \"Swap 100 USDT for USDC on Uniswap and transfer to Alice\", \"total_steps\": 3, \"steps\": [{\"description\": \"Approve USDT for Uniswap.\"}, {\"description\": \"Swap 100 USDT to USDC on Uniswap.\"}, {\"description\": \"Transfer USDC to Alice.\"}]}\n"
     ]
    }
   ],
   "source": [
    "question = \"Swap 100 USDT for USDC on Uniswap and transfer to Alice\"\n",
    "result = rag_chain.invoke(question)\n",
    "print(result.json())"
   ]
  },
  {
   "cell_type": "code",
   "execution_count": 13,
   "metadata": {},
   "outputs": [
    {
     "name": "stdout",
     "output_type": "stream",
     "text": [
      "{\"id\": \"usdt_usdc_compound\", \"description\": \"Swap USDT for USDC on Uniswap and supply to Compound\", \"total_steps\": 5, \"steps\": [{\"description\": \"Approve USDT for Uniswap\"}, {\"description\": \"Swap 100 USDT for USDC on Uniswap\"}, {\"description\": \"Approve USDC for Compound\"}, {\"description\": \"Supply USDC to Compound\"}]}\n"
     ]
    }
   ],
   "source": [
    "question = \"Swap 100 USDT for USDC on Uniswap and supply to Compound\"\n",
    "result = rag_chain.invoke(question)\n",
    "print(result.json())"
   ]
  },
  {
   "cell_type": "code",
   "execution_count": 9,
   "metadata": {},
   "outputs": [
    {
     "name": "stdout",
     "output_type": "stream",
     "text": [
      "{\"id\": \"aave_supply_100_usdc_borrow_dai\", \"description\": \"Supply 100 USDC to Aave and borrow DAI.\", \"total_steps\": 5, \"steps\": [{\"description\": \"Approve USDC for AAVE.\"}, {\"description\": \"Supply 100 USDC to AAVE as collateral.\"}, {\"description\": \"Disable AAVE E-Mode if it is enabled.\"}, {\"description\": \"Delegate borrowing power on the debt DAI if needed.\"}, {\"description\": \"Borrow DAI from AAVE.\"}]}\n"
     ]
    }
   ],
   "source": [
    "question = \"Supply 100 USDC to Aave and borrow DAI\"\n",
    "result = rag_chain.invoke(question)\n",
    "print(result.json())"
   ]
  },
  {
   "cell_type": "code",
   "execution_count": 10,
   "metadata": {},
   "outputs": [
    {
     "name": "stdout",
     "output_type": "stream",
     "text": [
      "{\"id\": \"yield_farming_multiple_protocols\", \"description\": \"Yield farming strategy utilizing AAVE, Yearn Finance, and Uniswap for maximizing returns.\", \"total_steps\": 4, \"steps\": [{\"description\": \"Deposit ETH into AAVE to earn interest.\"}, {\"description\": \"Use aToken (aETH) as collateral to borrow DAI.\"}, {\"description\": \"Deposit the borrowed DAI into Yearn Finance.\"}, {\"description\": \"Use the Yearn vault tokens in a liquidity pool on Uniswap to earn trading fees.\"}]}\n"
     ]
    }
   ],
   "source": [
    "question = \"\"\"Yield Farming with Multiple Protocols\n",
    "\tStep 1: Deposit ETH into a AAVE to earn interest.\n",
    "\tStep 2: Use aToken (aETH) as collateral to borrow DAI.\n",
    "\tStep 3: Deposit the borrowed DAI into Yearn Finance.\n",
    "\tStep 4: Use the Yearn vault tokens in a liquidity pool on Uniswap to earn trading fees.\"\"\"\n",
    "result = rag_chain.invoke(question)\n",
    "print(result.json())"
   ]
  }
 ],
 "metadata": {
  "kernelspec": {
   "display_name": ".venv",
   "language": "python",
   "name": "python3"
  },
  "language_info": {
   "codemirror_mode": {
    "name": "ipython",
    "version": 3
   },
   "file_extension": ".py",
   "mimetype": "text/x-python",
   "name": "python",
   "nbconvert_exporter": "python",
   "pygments_lexer": "ipython3",
   "version": "3.11.9"
  }
 },
 "nbformat": 4,
 "nbformat_minor": 2
}
