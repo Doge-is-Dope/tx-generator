{
 "cells": [
  {
   "cell_type": "code",
   "execution_count": 1,
   "metadata": {},
   "outputs": [],
   "source": [
    "import os\n",
    "\n",
    "os.environ[\"LANGCHAIN_TRACING_V2\"] = \"true\"\n",
    "os.environ[\"LANGCHAIN_PROJECT\"] = \"Tx Generator\""
   ]
  },
  {
   "cell_type": "code",
   "execution_count": 2,
   "metadata": {},
   "outputs": [],
   "source": [
    "from graph import get_app\n",
    "\n",
    "app = get_app()"
   ]
  },
  {
   "cell_type": "code",
   "execution_count": 3,
   "metadata": {},
   "outputs": [],
   "source": [
    "user_account = \"0x436f795B64E23E6cE7792af4923A68AFD3967952\"\n",
    "\n",
    "config = {\n",
    "    \"configurable\": {\n",
    "        \"user_account\": user_account,\n",
    "        \"thread_id\": user_account,\n",
    "    },\n",
    "    # \"recursion_limit\": 5,\n",
    "}"
   ]
  },
  {
   "cell_type": "code",
   "execution_count": 4,
   "metadata": {},
   "outputs": [],
   "source": [
    "from langchain_core.messages import ToolMessage, HumanMessage\n",
    "\n",
    "msg = \"\"\"Convert the queries to an Ethereum transaction including following fields: \n",
    "    - `value`: amount of ETH to transfer from sender to recipient\n",
    "    - `to_address`: If the transaction interacts with a contract, the address of the contract; otherwise, the address of the recipient\n",
    "    - `function_signature`: the function signature of the function to be called\n",
    "    - `function_args`: the arguments to be passed to the function\n",
    "    Remember, always be concise.\"\"\"\n",
    "\n",
    "\n",
    "async def ask(question: str):\n",
    "    inputs = {\"messages\": [HumanMessage(content=msg), HumanMessage(content=question)]}\n",
    "    async for event in app.astream(inputs, config=config, stream_mode=\"values\"):\n",
    "        event[\"messages\"][-1].pretty_print()"
   ]
  },
  {
   "cell_type": "code",
   "execution_count": 5,
   "metadata": {},
   "outputs": [],
   "source": [
    "# from langchain_core.messages import HumanMessage\n",
    "\n",
    "# questions = [\n",
    "#     \"How's the weather\",\n",
    "#     \"I'm in Taipei\",\n",
    "#     \"Please answer me using metric units\",\n",
    "# ]\n",
    "\n",
    "# for q in questions:\n",
    "#     inputs = {\"messages\": [HumanMessage(content=q)]}\n",
    "#     async for event in app.astream(inputs, config=config, stream_mode=\"values\"):\n",
    "#         event[\"messages\"][-1].pretty_print()"
   ]
  },
  {
   "cell_type": "code",
   "execution_count": 6,
   "metadata": {},
   "outputs": [
    {
     "name": "stdout",
     "output_type": "stream",
     "text": [
      "================================\u001b[1m Human Message \u001b[0m=================================\n",
      "\n",
      "Transfer 0.05 USDT to vitalik.eth\n",
      "==================================\u001b[1m Ai Message \u001b[0m==================================\n",
      "Tool Calls:\n",
      "  resolve_ens (call_KRHjYBAD3g1SmlbFWkYW9yvD)\n",
      " Call ID: call_KRHjYBAD3g1SmlbFWkYW9yvD\n",
      "  Args:\n",
      "    name: vitalik.eth\n",
      "  get_erc20_metadata (call_QhNea5JSaJsZtwcWKJYpxM0g)\n",
      " Call ID: call_QhNea5JSaJsZtwcWKJYpxM0g\n",
      "  Args:\n",
      "    token: USDT\n",
      "    chain: Ethereum\n",
      "=================================\u001b[1m Tool Message \u001b[0m=================================\n",
      "Name: get_erc20_metadata\n",
      "\n",
      "name='Tether USD' symbol='USDT' decimals=6 chain_id=1 address='0xdac17f958d2ee523a2206206994597c13d831ec7'\n",
      "==================================\u001b[1m Ai Message \u001b[0m==================================\n",
      "\n",
      "Here is the Ethereum transaction for transferring 0.05 USDT to `vitalik.eth`:\n",
      "\n",
      "- **value**: 0 (since USDT is an ERC20 token)\n",
      "- **to_address**: `0xdac17f958d2ee523a2206206994597c13d831ec7` (USDT contract address)\n",
      "- **function_signature**: `transfer(address,uint256)`\n",
      "- **function_args**: `[\"0xd8dA6BF26964aF9D7eEd9e03E53415D37aA96045\", 5000000]` (0.05 USDT in smallest units)\n"
     ]
    }
   ],
   "source": [
    "questions = [\"Transfer 0.05 USDT to vitalik.eth\"]\n",
    "\n",
    "for q in questions:\n",
    "    await ask(q)"
   ]
  },
  {
   "cell_type": "code",
   "execution_count": 7,
   "metadata": {},
   "outputs": [
    {
     "name": "stdout",
     "output_type": "stream",
     "text": [
      "================================\u001b[1m Human Message \u001b[0m=================================\n",
      "\n",
      "Give me the function name for swapping a ERC20 token\n",
      "==================================\u001b[1m Ai Message \u001b[0m==================================\n",
      "\n",
      "The function name for swapping an ERC20 token typically depends on the decentralized exchange (DEX) or protocol being used. Here are some common function names used in popular DEXs:\n",
      "\n",
      "1. **Uniswap**: \n",
      "   - Function Name: `swapExactTokensForTokens`\n",
      "   - Function Signature: `swapExactTokensForTokens(uint256,uint256,address[],address,uint256)`\n",
      "\n",
      "2. **SushiSwap**: \n",
      "   - Function Name: `swapExactTokensForTokens`\n",
      "   - Function Signature: `swapExactTokensForTokens(uint256,uint256,address[],address,uint256)`\n",
      "\n",
      "3. **PancakeSwap** (on Binance Smart Chain): \n",
      "   - Function Name: `swapExactTokensForTokens`\n",
      "   - Function Signature: `swapExactTokensForTokens(uint256,uint256,address[],address,uint256)`\n",
      "\n",
      "If you need a specific function name for a particular DEX, please let me know!\n"
     ]
    }
   ],
   "source": [
    "await ask(\"Give me the function name for swapping a ERC20 token\")"
   ]
  },
  {
   "cell_type": "code",
   "execution_count": 8,
   "metadata": {},
   "outputs": [
    {
     "name": "stdout",
     "output_type": "stream",
     "text": [
      "================================\u001b[1m Human Message \u001b[0m=================================\n",
      "\n",
      "Fill the parameters for the function\n",
      "==================================\u001b[1m Ai Message \u001b[0m==================================\n",
      "\n",
      "To fill the parameters for the ERC20 token swap function using Uniswap as an example, here’s how the transaction would look:\n",
      "\n",
      "- **value**: 0 (since it's a token swap, no ETH is being sent)\n",
      "- **to_address**: `0x5C69bEe701ef814a2B6a3EDD4B1652CB9cc5aA6f` (Uniswap Router contract address)\n",
      "- **function_signature**: `swapExactTokensForTokens`\n",
      "- **function_args**: \n",
      "  - `amountIn`: Amount of the input token to swap (in smallest units)\n",
      "  - `amountOutMin`: Minimum amount of the output token to receive (in smallest units)\n",
      "  - `path`: Array of token addresses for the swap (e.g., [inputTokenAddress, outputTokenAddress])\n",
      "  - `to`: Address to receive the output tokens (your address)\n",
      "  - `deadline`: Timestamp by which the swap must occur (in seconds since Unix epoch)\n",
      "\n",
      "### Example Parameters:\n",
      "Assuming you are swapping 1 USDT for another token:\n",
      "\n",
      "- **value**: 0\n",
      "- **to_address**: `0x5C69bEe701ef814a2B6a3EDD4B1652CB9cc5aA6f`\n",
      "- **function_signature**: `swapExactTokensForTokens`\n",
      "- **function_args**: \n",
      "  - `amountIn`: 1000000 (1 USDT, considering 6 decimals)\n",
      "  - `amountOutMin`: 0 (you may specify a minimum output amount)\n",
      "  - `path`: `[\"0xdac17f958d2ee523a2206206994597c13d831ec7\", outputTokenAddress]` (replace `outputTokenAddress` with the actual token address)\n",
      "  - `to`: `0x436f795B64E23E6cE7792af4923A68AFD3967952` (your address)\n",
      "  - `deadline`: `currentTimestamp + 300` (current timestamp plus 5 minutes)\n",
      "\n",
      "This structure allows you to perform a token swap on Uniswap. Adjust the `amountIn`, `amountOutMin`, and `path` according to your needs.\n"
     ]
    }
   ],
   "source": [
    "await ask(\"Fill the parameters for the function\")"
   ]
  },
  {
   "cell_type": "code",
   "execution_count": 9,
   "metadata": {},
   "outputs": [
    {
     "name": "stdout",
     "output_type": "stream",
     "text": [
      "================================\u001b[1m Human Message \u001b[0m=================================\n",
      "\n",
      "The current timestamp is 1723708608.944828. Add 10 mins to deadline\n",
      "==================================\u001b[1m Ai Message \u001b[0m==================================\n",
      "\n",
      "Here is the updated Ethereum transaction with a deadline set to 10 minutes from the current timestamp:\n",
      "\n",
      "- **value**: 0 (no ETH is being transferred)\n",
      "- **to_address**: `0x5C69bEe701ef814a2B6a3EDD4B1652CB9cc5aA6f` (Uniswap Router contract address)\n",
      "- **function_signature**: `swapExactTokensForTokens`\n",
      "- **function_args**: \n",
      "  - `amountIn`: 1000000 (1 USDT, considering 6 decimals)\n",
      "  - `amountOutMin`: 0 (minimum output amount)\n",
      "  - `path`: `[\"0xdac17f958d2ee523a2206206994597c13d831ec7\", outputTokenAddress]` (replace `outputTokenAddress` with the actual token address)\n",
      "  - `to`: `0x436f795B64E23E6cE7792af4923A68AFD3967952` (your address)\n",
      "  - `deadline`: 1723708608 + 600 (current timestamp + 600 seconds for 10 minutes)\n",
      "\n",
      "### Final Transaction Parameters:\n",
      "- **value**: 0\n",
      "- **to_address**: `0x5C69bEe701ef814a2B6a3EDD4B1652CB9cc5aA6f`\n",
      "- **function_signature**: `swapExactTokensForTokens`\n",
      "- **function_args**: \n",
      "  - `amountIn`: 1000000\n",
      "  - `amountOutMin`: 0\n",
      "  - `path`: `[\"0xdac17f958d2ee523a2206206994597c13d831ec7\", outputTokenAddress]`\n",
      "  - `to`: `0x436f795B64E23E6cE7792af4923A68AFD3967952`\n",
      "  - `deadline`: 1723709208 (1723708608 + 600)\n"
     ]
    }
   ],
   "source": [
    "from datetime import datetime\n",
    "\n",
    "await ask(\n",
    "    f\"The current timestamp is {datetime.now().timestamp()}. Add 10 mins to deadline\"\n",
    ")"
   ]
  },
  {
   "cell_type": "code",
   "execution_count": 10,
   "metadata": {},
   "outputs": [
    {
     "name": "stdout",
     "output_type": "stream",
     "text": [
      "================================\u001b[1m Human Message \u001b[0m=================================\n",
      "\n",
      "I want to swap 23 USDT for USDC\n",
      "==================================\u001b[1m Ai Message \u001b[0m==================================\n",
      "Tool Calls:\n",
      "  get_erc20_metadata (call_jdEJA83IuN8YQoQEbhZp0vMb)\n",
      " Call ID: call_jdEJA83IuN8YQoQEbhZp0vMb\n",
      "  Args:\n",
      "    token: USDT\n",
      "    chain: Ethereum\n",
      "  get_erc20_metadata (call_o4JzOioSvhpSQCUoPCyYLvWp)\n",
      " Call ID: call_o4JzOioSvhpSQCUoPCyYLvWp\n",
      "  Args:\n",
      "    token: USDC\n",
      "    chain: Ethereum\n",
      "=================================\u001b[1m Tool Message \u001b[0m=================================\n",
      "Name: get_erc20_metadata\n",
      "\n",
      "name='USD Coin' symbol='USDC' decimals=6 chain_id=1 address='0xA0b86991c6218b36c1d19D4a2e9Eb0cE3606eB48'\n",
      "==================================\u001b[1m Ai Message \u001b[0m==================================\n",
      "\n",
      "Here is the Ethereum transaction for swapping 23 USDT for USDC:\n",
      "\n",
      "- **value**: 0 (no ETH is being transferred)\n",
      "- **to_address**: `0x5C69bEe701ef814a2B6a3EDD4B1652CB9cc5aA6f` (Uniswap Router contract address)\n",
      "- **function_signature**: `swapExactTokensForTokens`\n",
      "- **function_args**: \n",
      "  - `amountIn`: 23000000 (23 USDT, considering 6 decimals)\n",
      "  - `amountOutMin`: 0 (minimum output amount; you can specify a desired value)\n",
      "  - `path`: `[\"0xdac17f958d2ee523a2206206994597c13d831ec7\", \"0xA0b86991c6218b36c1d19D4a2e9Eb0cE3606eB48\"]` (USDT to USDC)\n",
      "  - `to`: `0x436f795B64E23E6cE7792af4923A68AFD3967952` (your address)\n",
      "  - `deadline`: 1723709208 (current timestamp + 10 minutes, adjust as needed)\n",
      "\n",
      "### Final Transaction Parameters:\n",
      "- **value**: 0\n",
      "- **to_address**: `0x5C69bEe701ef814a2B6a3EDD4B1652CB9cc5aA6f`\n",
      "- **function_signature**: `swapExactTokensForTokens`\n",
      "- **function_args**: \n",
      "  - `amountIn`: 23000000\n",
      "  - `amountOutMin`: 0\n",
      "  - `path`: `[\"0xdac17f958d2ee523a2206206994597c13d831ec7\", \"0xA0b86991c6218b36c1d19D4a2e9Eb0cE3606eB48\"]`\n",
      "  - `to`: `0x436f795B64E23E6cE7792af4923A68AFD3967952`\n",
      "  - `deadline`: 1723709208\n"
     ]
    }
   ],
   "source": [
    "await ask(f\"I want to swap 23 USDT for USDC\")"
   ]
  }
 ],
 "metadata": {
  "kernelspec": {
   "display_name": ".venv",
   "language": "python",
   "name": "python3"
  },
  "language_info": {
   "codemirror_mode": {
    "name": "ipython",
    "version": 3
   },
   "file_extension": ".py",
   "mimetype": "text/x-python",
   "name": "python",
   "nbconvert_exporter": "python",
   "pygments_lexer": "ipython3",
   "version": "3.11.9"
  }
 },
 "nbformat": 4,
 "nbformat_minor": 2
}
