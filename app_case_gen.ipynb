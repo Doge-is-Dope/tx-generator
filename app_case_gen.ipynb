{
 "cells": [
  {
   "cell_type": "code",
   "execution_count": 1,
   "metadata": {},
   "outputs": [],
   "source": [
    "import os\n",
    "\n",
    "os.environ[\"LANGCHAIN_TRACING_V2\"] = \"true\"\n",
    "os.environ[\"LANGCHAIN_PROJECT\"] = \"Tx Generator\""
   ]
  },
  {
   "cell_type": "code",
   "execution_count": 2,
   "metadata": {},
   "outputs": [],
   "source": [
    "from case_code import CodeDownloader, get_metadata, CodeLoader, transform, Case\n",
    "from utils.model_selector import get_chat_model"
   ]
  },
  {
   "cell_type": "code",
   "execution_count": 3,
   "metadata": {},
   "outputs": [
    {
     "name": "stderr",
     "output_type": "stream",
     "text": [
      "Downloading files: 100%|██████████| 125/125 [00:05<00:00, 21.22file/s]"
     ]
    },
    {
     "name": "stdout",
     "output_type": "stream",
     "text": [
      "Total files downloaded:  125\n",
      "Total cases in metadata: 110\n"
     ]
    },
    {
     "name": "stderr",
     "output_type": "stream",
     "text": [
      "\n"
     ]
    }
   ],
   "source": [
    "# Download all case code\n",
    "downloader = CodeDownloader()\n",
    "downloaded_count = downloader.download()\n",
    "print(f\"{'Total files downloaded:':<24} {downloaded_count}\")\n",
    "\n",
    "metadata = get_metadata()\n",
    "print(f\"{'Total cases in metadata:':<24} {len(metadata)}\")"
   ]
  },
  {
   "cell_type": "code",
   "execution_count": 4,
   "metadata": {},
   "outputs": [
    {
     "name": "stderr",
     "output_type": "stream",
     "text": [
      "Processing: 100%|██████████| 125/125 [05:48<00:00,  2.79s/it]"
     ]
    },
    {
     "name": "stdout",
     "output_type": "stream",
     "text": [
      "            Error  Count\n",
      "0  Case Not Found     57\n",
      "1     Parse Error      0\n"
     ]
    },
    {
     "name": "stderr",
     "output_type": "stream",
     "text": [
      "\n"
     ]
    }
   ],
   "source": [
    "import pandas as pd\n",
    "\n",
    "# Get the chat model\n",
    "model = get_chat_model(temperature=0)\n",
    "\n",
    "# Transform the downloaded code to case\n",
    "loader = CodeLoader()\n",
    "skipped = await transform(model=model, loader=loader, total=downloaded_count)\n",
    "\n",
    "data = [(key.value, len(value)) for key, value in skipped.items()]\n",
    "df = pd.DataFrame(data, columns=[\"Error\", \"Count\"])\n",
    "print(df)"
   ]
  },
  {
   "cell_type": "code",
   "execution_count": 5,
   "metadata": {},
   "outputs": [
    {
     "name": "stdout",
     "output_type": "stream",
     "text": [
      "Parsed error cases: []\n"
     ]
    }
   ],
   "source": [
    "from case_code.code_transformer import TransformError\n",
    "\n",
    "print(f\"Parsed error cases: {skipped[TransformError.ParseError]}\")"
   ]
  },
  {
   "cell_type": "code",
   "execution_count": 6,
   "metadata": {},
   "outputs": [],
   "source": [
    "from case import get_retriever\n",
    "\n",
    "retriever = get_retriever()"
   ]
  },
  {
   "cell_type": "code",
   "execution_count": 7,
   "metadata": {},
   "outputs": [
    {
     "data": {
      "text/plain": [
       "[Document(metadata={'case_id': 'eigenpie_steth', 'seq_num': 2, 'source': 'eigenpie/index.ts', 'steps': \"[{'description': 'Stake ETH to Lido', 'to': '0xae7ab96520DE3A18E5e111B5EaAb095312D7fE84', 'value': 'unknown', 'function_name': 'submit', 'input_args': ['ReferalAccount']}, {'description': 'Approve stETH to Eigenpie', 'to': '0xae7ab96520DE3A18E5e111B5EaAb095312D7fE84', 'value': '0', 'function_name': 'approve', 'input_args': ['0x24db6717dB1C75B9Db6eA47164D8730B63875dB7', 'estimateSTETHAmount']}, {'description': 'Stake stETH to Eigenpie', 'to': '0x24db6717dB1C75B9Db6eA47164D8730B63875dB7', 'value': '0', 'function_name': 'depositAsset', 'input_args': ['0xae7ab96520DE3A18E5e111B5EaAb095312D7fE84', 'estimateSTETHAmount', 'estimateMSTETHAmount', 'ReferalAccount']}]\", 'total_steps': 3}, page_content='This case involves staking ETH to Lido and then using the stETH to interact with the Eigenpie protocol. It includes three transactions: staking ETH to Lido, approving stETH for Eigenpie, and staking stETH to Eigenpie.'),\n",
       " Document(metadata={'case_id': 'puffer_curve', 'seq_num': 50, 'source': 'puffer/index.ts', 'steps': \"[{'description': 'Stake ETH to obtain pufETH.', 'to': 'unknown', 'value': 'unknown', 'function_name': 'stakeETHPreviewTx', 'input_args': []}, {'description': 'Stake ETH to Lido to obtain wstETH.', 'to': 'unknown', 'value': 'unknown', 'function_name': 'stakeToLidoGetWSTETHPreviewTxs', 'input_args': []}, {'description': 'Approve pufETH for spending by Curve.', 'to': '0xD9A442856C234a39a81a089C06451EBAa4306a72', 'value': 'unknown', 'function_name': 'approveERC20PreviewTx', 'input_args': ['pufETH', 'Curve']}, {'description': 'Approve wstETH for spending by Curve.', 'to': '0x7f39C581F595B53c5cb19bD0b3f8dA6c935E2Ca0', 'value': 'unknown', 'function_name': 'approveERC20PreviewTx', 'input_args': ['wstETH', 'Curve']}, {'description': 'Deposit and stake pufETH and wstETH in Curve.', 'to': 'unknown', 'value': 'unknown', 'function_name': 'depositAndStakePreviewTx', 'input_args': ['pufETH', 'wstETH']}]\", 'total_steps': 5}, page_content='This case involves a series of transactions related to staking ETH, obtaining wstETH, and interacting with the Curve protocol. The process includes staking ETH to get pufETH, staking to Lido to get wstETH, approving ERC20 tokens for Curve, and finally depositing and staking in Curve.'),\n",
       " Document(metadata={'case_id': 'lido_multiplier', 'seq_num': 54, 'source': 'lido-multiplier/index.ts', 'steps': '[{\\'description\\': \\'Enable E-Mode on AAVE to optimize borrowing power.\\', \\'to\\': \\'unknown\\', \\'value\\': \\'unknown\\', \\'function_name\\': \\'enableEModePreviewTx\\', \\'input_args\\': []}, {\\'description\\': \"Delegate borrowing power to the user\\'s address on AAVE.\", \\'to\\': \\'unknown\\', \\'value\\': \\'unknown\\', \\'function_name\\': \\'delegatePreviewTx\\', \\'input_args\\': []}, {\\'description\\': \\'Approve stETH to be wrapped into wstETH.\\', \\'to\\': \\'unknown\\', \\'value\\': \\'unknown\\', \\'function_name\\': \\'apporveSTETHToWSTETHPreviewTx\\', \\'input_args\\': []}, {\\'description\\': \\'Approve wstETH to be used on AAVE.\\', \\'to\\': \\'unknown\\', \\'value\\': \\'unknown\\', \\'function_name\\': \\'apporveWSTETHToAAVEPreviewTx\\', \\'input_args\\': []}, {\\'description\\': \\'Stake ETH to Lido to receive stETH.\\', \\'to\\': \\'unknown\\', \\'value\\': \\'unknown\\', \\'function_name\\': \\'stakeToLidoPreviewTx\\', \\'input_args\\': []}, {\\'description\\': \\'Wrap stETH to wstETH.\\', \\'to\\': \\'unknown\\', \\'value\\': \\'unknown\\', \\'function_name\\': \\'wrapSTETHToWSTETHPreviewTx\\', \\'input_args\\': []}, {\\'description\\': \\'Supply wstETH to AAVE.\\', \\'to\\': \\'unknown\\', \\'value\\': \\'unknown\\', \\'function_name\\': \\'supplyWSTETHPreviewTx\\', \\'input_args\\': []}, {\\'description\\': \\'Borrow ETH from AAVE.\\', \\'to\\': \\'unknown\\', \\'value\\': \\'unknown\\', \\'function_name\\': \\'borrowETHPreviewTx\\', \\'input_args\\': []}]', 'total_steps': 8}, page_content=\"This case involves a series of transactions to maximize the use of ETH by leveraging Lido and AAVE protocols. The process includes staking ETH to Lido, wrapping stETH to wstETH, supplying wstETH to AAVE, and borrowing ETH to repeat the process, thereby increasing the user's exposure to wstETH and maximizing potential returns.\"),\n",
       " Document(metadata={'case_id': 'genesis_liquidity', 'seq_num': 64, 'source': 'genesis/index.ts', 'steps': \"[{'description': 'Stake ETH and receive genETH on Genesis', 'to': '0x46199caa0e453971cedf97f926368d9e5415831a', 'value': 'unknown', 'function_name': 'stake', 'input_args': ['unknown']}, {'description': 'Approve genETH to be added to the UniswapV3 liquidity pool', 'to': '0xf073bAC22DAb7FaF4a3Dd6c6189a70D54110525C', 'value': '0', 'function_name': 'approve', 'input_args': ['0xc36442b4a4522e871399cd717abdd847ab11fe88', 'unknown']}, {'description': 'Stake ETH and receive stETH on Lido', 'to': '0xae7ab96520DE3A18E5e111B5EaAb095312D7fE84', 'value': 'unknown', 'function_name': 'submit', 'input_args': ['0x80011844928B469EAc5E4bC7e6EBA9b3C2Fa1b41']}, {'description': 'Approve stETH to be wrapped', 'to': '0xae7ab96520DE3A18E5e111B5EaAb095312D7fE84', 'value': '0', 'function_name': 'approve', 'input_args': ['0x7f39C581F595B53c5cb19bD0b3f8dA6c935E2Ca0', 'unknown']}, {'description': 'Wrap received stETH to wstETH', 'to': '0x7f39C581F595B53c5cb19bD0b3f8dA6c935E2Ca0', 'value': '0', 'function_name': 'wrap', 'input_args': ['unknown']}, {'description': 'Approve wstETH to be added to the UniswapV3 liquidity pool', 'to': '0x7f39C581F595B53c5cb19bD0b3f8dA6c935E2Ca0', 'value': '0', 'function_name': 'approve', 'input_args': ['0xc36442b4a4522e871399cd717abdd847ab11fe88', 'unknown']}, {'description': 'Add wstETH and genETH to the UniswapV3 liquidity pool', 'to': '0xc36442b4a4522e871399cd717abdd847ab11fe88', 'value': '0', 'function_name': 'mint', 'input_args': ['unknown']}]\", 'total_steps': 7}, page_content='This case involves a series of transactions to stake ETH with Genesis and Lido, wrap stETH to wstETH, and add liquidity to the UniswapV3 pool.')]"
      ]
     },
     "execution_count": 7,
     "metadata": {},
     "output_type": "execute_result"
    }
   ],
   "source": [
    "retriever.invoke(\"Stake ETH with Lido and deposit to Eigenpie\")"
   ]
  },
  {
   "cell_type": "code",
   "execution_count": 8,
   "metadata": {},
   "outputs": [],
   "source": [
    "from langchain_core.runnables import RunnablePassthrough\n",
    "from langchain.prompts import ChatPromptTemplate\n",
    "\n",
    "template = \"\"\"Generate a structure output based only on the following context:\n",
    "{context}\n",
    "Question: {question}\"\"\"\n",
    "prompt = ChatPromptTemplate.from_template(template)\n",
    "\n",
    "retriever = get_retriever()\n",
    "\n",
    "\n",
    "def format_docs(docs):\n",
    "    return \"\\n\\n\".join(str(doc.metadata) for doc in docs)\n",
    "\n",
    "\n",
    "# Chain\n",
    "rag_chain = (\n",
    "    {\"context\": retriever | format_docs, \"question\": RunnablePassthrough()}\n",
    "    | prompt\n",
    "    | model.with_structured_output(Case)\n",
    ")"
   ]
  },
  {
   "cell_type": "code",
   "execution_count": 9,
   "metadata": {},
   "outputs": [
    {
     "name": "stdout",
     "output_type": "stream",
     "text": [
      "{\"id\": \"eigenpie_steth\", \"description\": \"Stake 0.01 ETH with Lido and deposit to Eigenpie\", \"total_steps\": 3, \"steps\": [{\"description\": \"Stake ETH to Lido\", \"to\": \"0xae7ab96520DE3A18E5e111B5EaAb095312D7fE84\", \"value\": \"unknown\", \"function_name\": \"submit\", \"input_args\": [\"ReferalAccount\"]}, {\"description\": \"Approve stETH to Eigenpie\", \"to\": \"0xae7ab96520DE3A18E5e111B5EaAb095312D7fE84\", \"value\": \"0\", \"function_name\": \"approve\", \"input_args\": [\"0x24db6717dB1C75B9Db6eA47164D8730B63875dB7\", \"estimateSTETHAmount\"]}, {\"description\": \"Stake stETH to Eigenpie\", \"to\": \"0x24db6717dB1C75B9Db6eA47164D8730B63875dB7\", \"value\": \"0\", \"function_name\": \"depositAsset\", \"input_args\": [\"0xae7ab96520DE3A18E5e111B5EaAb095312D7fE84\", \"estimateSTETHAmount\", \"estimateMSTETHAmount\", \"ReferalAccount\"]}]}\n"
     ]
    }
   ],
   "source": [
    "question = \"Stake 0.01 ETH with Lido and deposit to Eigenpie\"\n",
    "result = rag_chain.invoke(question)\n",
    "print(result.json())"
   ]
  },
  {
   "cell_type": "code",
   "execution_count": 10,
   "metadata": {},
   "outputs": [
    {
     "name": "stdout",
     "output_type": "stream",
     "text": [
      "{\"id\": \"eigenpie_steth\", \"description\": \"Stake 3 ETH with Lido and deposit to Eigenpie\", \"total_steps\": 3, \"steps\": [{\"description\": \"Stake ETH to Lido\", \"to\": \"0xae7ab96520DE3A18E5e111B5EaAb095312D7fE84\", \"value\": \"3 ETH\", \"function_name\": \"submit\", \"input_args\": [\"ReferalAccount\"]}, {\"description\": \"Approve stETH to Eigenpie\", \"to\": \"0xae7ab96520DE3A18E5e111B5EaAb095312D7fE84\", \"value\": \"0\", \"function_name\": \"approve\", \"input_args\": [\"0x24db6717dB1C75B9Db6eA47164D8730B63875dB7\", \"estimateSTETHAmount\"]}, {\"description\": \"Stake stETH to Eigenpie\", \"to\": \"0x24db6717dB1C75B9Db6eA47164D8730B63875dB7\", \"value\": \"0\", \"function_name\": \"depositAsset\", \"input_args\": [\"0xae7ab96520DE3A18E5e111B5EaAb095312D7fE84\", \"estimateSTETHAmount\", \"estimateMSTETHAmount\", \"ReferalAccount\"]}]}\n"
     ]
    }
   ],
   "source": [
    "question = \"Stake 3 ETH with Lido and deposit to Eigenpie\"\n",
    "result = rag_chain.invoke(question)\n",
    "print(result.json())"
   ]
  },
  {
   "cell_type": "code",
   "execution_count": 11,
   "metadata": {},
   "outputs": [
    {
     "name": "stdout",
     "output_type": "stream",
     "text": [
      "{\"id\": \"swap_usdt_usdc_uniswap\", \"description\": \"Swap 100 USDT for USDC on Uniswap.\", \"total_steps\": 2, \"steps\": [{\"description\": \"Approve USDT for Uniswap if the allowance is less than the amount to be swapped.\", \"to\": \"0xdAC17F958D2ee523a2206206994597C13D831ec7\", \"value\": \"0\", \"function_name\": \"approve\", \"input_args\": [\"0xE592427A0AEce92De3Edee1F18E0157C05861564\", \"100 USDT\"]}, {\"description\": \"Swap 100 USDT to USDC using Uniswap.\", \"to\": \"0xE592427A0AEce92De3Edee1F18E0157C05861564\", \"value\": \"0\", \"function_name\": \"exactInputSingle\", \"input_args\": [\"0xdAC17F958D2ee523a2206206994597C13D831ec7\", \"USDC Address\", \"100\", \"context.account.address\", \"Math.floor(Date.now() / 1000) + 300\", \"100 USDT\", \"USDC Amount\", \"0\"]}]}\n"
     ]
    }
   ],
   "source": [
    "question = \"Swap 100 USDT for USDC on Uniswap\"\n",
    "result = rag_chain.invoke(question)\n",
    "print(result.json())"
   ]
  },
  {
   "cell_type": "code",
   "execution_count": 12,
   "metadata": {},
   "outputs": [
    {
     "name": "stdout",
     "output_type": "stream",
     "text": [
      "{\"id\": \"swap_eth_usdc_uniswap\", \"description\": \"Swap 0.001 ETH for USDC on Uniswap.\", \"total_steps\": 1, \"steps\": [{\"description\": \"Swap 0.001 ETH for USDC using Uniswap.\", \"to\": \"UniswapAddress\", \"value\": \"0.001 ETH\", \"function_name\": \"swapExactETHForTokens\", \"input_args\": [\"0\", \"[USDCAddress]\", \"context.account.address\", \"Math.floor(Date.now() / 1000) + 300\"]}]}\n"
     ]
    }
   ],
   "source": [
    "question = \"Swap 0.001 ETH for USDC on Uniswap\"\n",
    "result = rag_chain.invoke(question)\n",
    "print(result.json())"
   ]
  },
  {
   "cell_type": "code",
   "execution_count": 13,
   "metadata": {},
   "outputs": [
    {
     "name": "stdout",
     "output_type": "stream",
     "text": [
      "{\"id\": \"yield_farming_multiple_protocols\", \"description\": \"Yield Farming with Multiple Protocols\", \"total_steps\": 4, \"steps\": [{\"description\": \"Deposit ETH into AAVE to earn interest.\", \"to\": \"0x3a3A65aAb0dd2A17E3F1947bA16138cd37d08c04\", \"value\": \"unknown\", \"function_name\": \"depositETH\", \"input_args\": [\"context.account.address\", \"0\"]}, {\"description\": \"Use aToken (aETH) as collateral to borrow DAI.\", \"to\": \"0x3a3A65aAb0dd2A17E3F1947bA16138cd37d08c04\", \"value\": \"0\", \"function_name\": \"borrowDAI\", \"input_args\": [\"context.account.address\", \"borrowDaiAmount\", \"2\", \"0\"]}, {\"description\": \"Deposit the borrowed DAI into Yearn Finance.\", \"to\": \"0x5dbcF33D8c2E976c6b560249878e6F1491Bca25c\", \"value\": \"0\", \"function_name\": \"deposit\", \"input_args\": [\"borrowDaiAmount\"]}, {\"description\": \"Use the Yearn vault tokens in a liquidity pool on Uniswap to earn trading fees.\", \"to\": \"0x5C69bEe701ef814a2B6a3EDD4B1652CB9cc5aA6f\", \"value\": \"0\", \"function_name\": \"addLiquidity\", \"input_args\": [\"yearnVaultTokens\", \"otherTokenAmount\"]}]}\n"
     ]
    }
   ],
   "source": [
    "question = \"\"\"Yield Farming with Multiple Protocols\n",
    "\tStep 1: Deposit ETH into a AAVE to earn interest.\n",
    "\tStep 2: Use aToken (aETH) as collateral to borrow DAI.\n",
    "\tStep 3: Deposit the borrowed DAI into a Yearn Finance.\n",
    "\tStep 4: Use the Yearn vault tokens in a liquidity pool on Uniswap to earn trading fees.\"\"\"\n",
    "result = rag_chain.invoke(question)\n",
    "print(result.json())"
   ]
  }
 ],
 "metadata": {
  "kernelspec": {
   "display_name": ".venv",
   "language": "python",
   "name": "python3"
  },
  "language_info": {
   "codemirror_mode": {
    "name": "ipython",
    "version": 3
   },
   "file_extension": ".py",
   "mimetype": "text/x-python",
   "name": "python",
   "nbconvert_exporter": "python",
   "pygments_lexer": "ipython3",
   "version": "3.11.9"
  }
 },
 "nbformat": 4,
 "nbformat_minor": 2
}
