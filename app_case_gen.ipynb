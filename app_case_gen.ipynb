{
 "cells": [
  {
   "cell_type": "code",
   "execution_count": null,
   "metadata": {},
   "outputs": [],
   "source": [
    "# import os\n",
    "\n",
    "# os.environ[\"LANGCHAIN_TRACING_V2\"] = \"true\"\n",
    "# os.environ[\"LANGCHAIN_PROJECT\"] = \"Tx Generator\""
   ]
  },
  {
   "cell_type": "code",
   "execution_count": null,
   "metadata": {},
   "outputs": [],
   "source": [
    "from case_code.code_downloader import CodeDownloader, get_metadata\n",
    "from case_code.code_loader import CodeLoader\n",
    "from case_code.code_transformer import transform\n",
    "\n",
    "# Download all case code\n",
    "downloader = CodeDownloader()\n",
    "downloaded_count = downloader.download()"
   ]
  },
  {
   "cell_type": "code",
   "execution_count": null,
   "metadata": {},
   "outputs": [],
   "source": [
    "metadata = get_metadata()\n",
    "print(f\"{'Total files downloaded:':<24} {metadata['total_downloads']}\")\n",
    "print(f\"{'Total cases:':<24} {metadata['total_cases']}\")"
   ]
  },
  {
   "cell_type": "code",
   "execution_count": null,
   "metadata": {},
   "outputs": [],
   "source": [
    "import pandas as pd\n",
    "\n",
    "# Transform the downloaded code to case\n",
    "loader = CodeLoader()\n",
    "transformed_data = await transform(loader=loader)\n",
    "\n",
    "data = [(key.value, value) for key, value in transformed_data.items()]\n",
    "df = pd.DataFrame(data, columns=[\"Title\", \"Count\"])\n",
    "print(df.to_string(index=False))"
   ]
  },
  {
   "cell_type": "code",
   "execution_count": null,
   "metadata": {},
   "outputs": [],
   "source": [
    "from case_code.code_transformer import get_transformation_result\n",
    "\n",
    "df = get_transformation_result()\n",
    "filtered_df = df.loc[df[\"transformable\"] == False]\n",
    "filtered_df"
   ]
  },
  {
   "cell_type": "code",
   "execution_count": null,
   "metadata": {},
   "outputs": [],
   "source": [
    "from case import get_retriever\n",
    "\n",
    "retriever = get_retriever()"
   ]
  },
  {
   "cell_type": "code",
   "execution_count": null,
   "metadata": {},
   "outputs": [],
   "source": [
    "retriever.invoke(\"Stake ETH with Lido and deposit to Eigenpie\")"
   ]
  },
  {
   "cell_type": "code",
   "execution_count": null,
   "metadata": {},
   "outputs": [],
   "source": [
    "retriever.invoke(\"Swap 10 USDC to USDT\")"
   ]
  },
  {
   "cell_type": "code",
   "execution_count": null,
   "metadata": {},
   "outputs": [],
   "source": [
    "from langchain_core.runnables import RunnablePassthrough\n",
    "from langchain.prompts import ChatPromptTemplate\n",
    "from models import Case\n",
    "from utils.model_selector import get_chat_model\n",
    "\n",
    "\n",
    "template = \"\"\"Generate a structure output based only on the following context:\n",
    "{context}\n",
    "Question: {question}\"\"\"\n",
    "prompt = ChatPromptTemplate.from_template(template)\n",
    "\n",
    "retriever = get_retriever()\n",
    "\n",
    "model = get_chat_model()\n",
    "\n",
    "\n",
    "def format_docs(docs):\n",
    "    return \"\\n\\n\".join(str(doc.metadata) for doc in docs)\n",
    "\n",
    "\n",
    "# Chain\n",
    "rag_chain = (\n",
    "    {\"context\": retriever | format_docs, \"question\": RunnablePassthrough()}\n",
    "    | prompt\n",
    "    | model.with_structured_output(Case)\n",
    ")"
   ]
  },
  {
   "cell_type": "code",
   "execution_count": null,
   "metadata": {},
   "outputs": [],
   "source": [
    "question = \"Stake 0.03 ETH with Lido and deposit to Eigenpie\"\n",
    "result = rag_chain.invoke(question)\n",
    "print(result.json())"
   ]
  },
  {
   "cell_type": "code",
   "execution_count": null,
   "metadata": {},
   "outputs": [],
   "source": [
    "question = \"Stake 0.03 ETH with Lido and deposit to Eigenpie\"\n",
    "result = rag_chain.invoke(question)\n",
    "print(result.json())"
   ]
  },
  {
   "cell_type": "code",
   "execution_count": null,
   "metadata": {},
   "outputs": [],
   "source": [
    "question = \"Swap 100 USDT for USDC on Uniswap\"\n",
    "result = rag_chain.invoke(question)\n",
    "print(result.json())"
   ]
  },
  {
   "cell_type": "code",
   "execution_count": null,
   "metadata": {},
   "outputs": [],
   "source": [
    "question = \"Swap 0.001 ETH for USDC on Uniswap\"\n",
    "result = rag_chain.invoke(question)\n",
    "print(result.json())"
   ]
  },
  {
   "cell_type": "code",
   "execution_count": null,
   "metadata": {},
   "outputs": [],
   "source": [
    "question = \"Swap 20 USDC to USDT\"\n",
    "result = rag_chain.invoke(question)\n",
    "print(result.json())"
   ]
  },
  {
   "cell_type": "code",
   "execution_count": null,
   "metadata": {},
   "outputs": [],
   "source": [
    "question = \"\"\"Yield Farming with Multiple Protocols\n",
    "\tStep 1: Deposit ETH into a AAVE to earn interest.\n",
    "\tStep 2: Use aToken (aETH) as collateral to borrow DAI.\n",
    "\tStep 3: Deposit the borrowed DAI into a Yearn Finance.\n",
    "\tStep 4: Use the Yearn vault tokens in a liquidity pool on Uniswap to earn trading fees.\"\"\"\n",
    "result = rag_chain.invoke(question)\n",
    "print(result.json())"
   ]
  }
 ],
 "metadata": {
  "kernelspec": {
   "display_name": ".venv",
   "language": "python",
   "name": "python3"
  },
  "language_info": {
   "codemirror_mode": {
    "name": "ipython",
    "version": 3
   },
   "file_extension": ".py",
   "mimetype": "text/x-python",
   "name": "python",
   "nbconvert_exporter": "python",
   "pygments_lexer": "ipython3",
   "version": "3.11.9"
  }
 },
 "nbformat": 4,
 "nbformat_minor": 2
}
