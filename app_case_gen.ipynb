{
 "cells": [
  {
   "cell_type": "code",
   "execution_count": 1,
   "metadata": {},
   "outputs": [],
   "source": [
    "# import os\n",
    "\n",
    "# os.environ[\"LANGCHAIN_TRACING_V2\"] = \"true\"\n",
    "# os.environ[\"LANGCHAIN_PROJECT\"] = \"Tx Generator\""
   ]
  },
  {
   "cell_type": "code",
   "execution_count": 2,
   "metadata": {},
   "outputs": [
    {
     "name": "stderr",
     "output_type": "stream",
     "text": [
      "Downloading develop branch files: 100%|██████████| 125/125 [00:05<00:00, 21.81file/s]\n"
     ]
    }
   ],
   "source": [
    "from case_code.code_downloader import CodeDownloader, get_metadata\n",
    "from case_code.code_loader import CodeLoader\n",
    "from case_code.code_transformer import transform\n",
    "\n",
    "# Download all case code\n",
    "downloader = CodeDownloader()\n",
    "downloaded_count = downloader.download()"
   ]
  },
  {
   "cell_type": "code",
   "execution_count": 3,
   "metadata": {},
   "outputs": [
    {
     "name": "stdout",
     "output_type": "stream",
     "text": [
      "Total files downloaded:  125\n",
      "Total cases:             110\n"
     ]
    }
   ],
   "source": [
    "metadata = get_metadata()\n",
    "print(f\"{'Total files downloaded:':<24} {metadata['total_downloads']}\")\n",
    "print(f\"{'Total cases:':<24} {metadata['total_cases']}\")"
   ]
  },
  {
   "cell_type": "code",
   "execution_count": 4,
   "metadata": {},
   "outputs": [
    {
     "name": "stdout",
     "output_type": "stream",
     "text": [
      "Start processing files...\n"
     ]
    },
    {
     "name": "stderr",
     "output_type": "stream",
     "text": [
      "Processing files: 100%|██████████| 125/125 [06:08<00:00,  2.95s/file]"
     ]
    },
    {
     "name": "stdout",
     "output_type": "stream",
     "text": [
      "                  Title  Count\n",
      "            Total cases    109\n",
      "Skipped: case not found     57\n",
      "   Skipped: parse error      0\n"
     ]
    },
    {
     "name": "stderr",
     "output_type": "stream",
     "text": [
      "\n"
     ]
    }
   ],
   "source": [
    "import pandas as pd\n",
    "\n",
    "# Transform the downloaded code to case\n",
    "loader = CodeLoader()\n",
    "transformed_data = await transform(loader=loader)\n",
    "\n",
    "data = [(key.value, value) for key, value in transformed_data.items()]\n",
    "df = pd.DataFrame(data, columns=[\"Title\", \"Count\"])\n",
    "print(df.to_string(index=False))"
   ]
  },
  {
   "cell_type": "code",
   "execution_count": 5,
   "metadata": {},
   "outputs": [
    {
     "data": {
      "text/html": [
       "<div>\n",
       "<style scoped>\n",
       "    .dataframe tbody tr th:only-of-type {\n",
       "        vertical-align: middle;\n",
       "    }\n",
       "\n",
       "    .dataframe tbody tr th {\n",
       "        vertical-align: top;\n",
       "    }\n",
       "\n",
       "    .dataframe thead th {\n",
       "        text-align: right;\n",
       "    }\n",
       "</style>\n",
       "<table border=\"1\" class=\"dataframe\">\n",
       "  <thead>\n",
       "    <tr style=\"text-align: right;\">\n",
       "      <th></th>\n",
       "      <th>id</th>\n",
       "      <th>transformable</th>\n",
       "    </tr>\n",
       "  </thead>\n",
       "  <tbody>\n",
       "    <tr>\n",
       "      <th>41</th>\n",
       "      <td>bridge_eth_scroll_optimism</td>\n",
       "      <td>False</td>\n",
       "    </tr>\n",
       "  </tbody>\n",
       "</table>\n",
       "</div>"
      ],
      "text/plain": [
       "                            id  transformable\n",
       "41  bridge_eth_scroll_optimism          False"
      ]
     },
     "execution_count": 5,
     "metadata": {},
     "output_type": "execute_result"
    }
   ],
   "source": [
    "from case_code.code_transformer import get_transformation_result\n",
    "\n",
    "df = get_transformation_result()\n",
    "filtered_df = df.loc[df[\"transformable\"] == False]\n",
    "filtered_df"
   ]
  },
  {
   "cell_type": "code",
   "execution_count": 6,
   "metadata": {},
   "outputs": [],
   "source": [
    "from case import get_retriever\n",
    "\n",
    "retriever = get_retriever()"
   ]
  },
  {
   "cell_type": "code",
   "execution_count": 7,
   "metadata": {},
   "outputs": [
    {
     "data": {
      "text/plain": [
       "[Document(metadata={'case_id': 'eigenpie_steth', 'seq_num': 5, 'source': 'eigenpie/index.ts', 'steps': \"[{'description': 'Stake ETH to Lido', 'to': '0xae7ab96520DE3A18E5e111B5EaAb095312D7fE84', 'value': 'unknown', 'function_name': 'submit', 'input_args': ['ReferalAccount']}, {'description': 'Approve stETH to Eigenpie', 'to': '0xae7ab96520DE3A18E5e111B5EaAb095312D7fE84', 'value': '0', 'function_name': 'approve', 'input_args': ['0x24db6717dB1C75B9Db6eA47164D8730B63875dB7', 'unknown']}, {'description': 'Stake stETH to Eigenpie', 'to': '0x24db6717dB1C75B9Db6eA47164D8730B63875dB7', 'value': '0', 'function_name': 'depositAsset', 'input_args': ['0xae7ab96520DE3A18E5e111B5EaAb095312D7fE84', 'unknown', 'unknown', 'ReferalAccount']}]\", 'total_steps': 3}, page_content='Eigenpie staking for stETH on Lido and Eigenpie'),\n",
       " Document(metadata={'case_id': 'stake_eth', 'seq_num': 78, 'source': 'stake-eth/stake.ts', 'steps': \"[{'description': 'Stake into Lido', 'to': 'unknown', 'value': 'unknown', 'function_name': 'stakeToLidoGetWSTETHTxs', 'input_args': ['unknown']}, {'description': 'Stake into RocketPool', 'to': 'unknown', 'value': 'unknown', 'function_name': 'rocketpoolStakeTx', 'input_args': ['unknown']}, {'description': 'Swap ETH to staked token on Coinbase', 'to': 'unknown', 'value': 'unknown', 'function_name': 'swapTx', 'input_args': ['unknown', 'unknown', 'unknown', 'unknown', 'unknown', 'unknown', 'unknown', 'unknown']}, {'description': 'Stake into StakeWise', 'to': 'unknown', 'value': 'unknown', 'function_name': 'stakewiseStakeTx', 'input_args': ['unknown', 'unknown']}, {'description': 'Stake into Stader', 'to': 'unknown', 'value': 'unknown', 'function_name': 'staderStakeTx', 'input_args': ['unknown', 'unknown']}, {'description': 'Stake into EtherFi', 'to': 'unknown', 'value': 'unknown', 'function_name': 'stakeToEtherFiGetWEETHTxs', 'input_args': ['unknown']}, {'description': 'Stake into Renzo', 'to': 'unknown', 'value': 'unknown', 'function_name': 'renzoStakeTx', 'input_args': ['unknown']}, {'description': 'Stake into FraxFinance', 'to': 'unknown', 'value': 'unknown', 'function_name': 'fraxStakeTx', 'input_args': ['unknown', 'unknown']}, {'description': 'Stake into Swell', 'to': 'unknown', 'value': 'unknown', 'function_name': 'swellStakeTx', 'input_args': ['unknown']}, {'description': 'Stake into RedactedFinance', 'to': 'unknown', 'value': 'unknown', 'function_name': 'dineroStakeTx', 'input_args': ['unknown', 'unknown']}, {'description': 'Stake into unknown protocol', 'to': 'unknown', 'value': 'unknown', 'function_name': 'unknown', 'input_args': ['unknown']}, {'description': 'Stake into unknown protocol', 'to': 'unknown', 'value': 'unknown', 'function_name': 'unknown', 'input_args': ['unknown']}, {'description': 'Stake into unknown protocol', 'to': 'unknown', 'value': 'unknown', 'function_name': 'unknown', 'input_args': ['unknown']}, {'description': 'Stake into unknown protocol', 'to': 'unknown', 'value': 'unknown', 'function_name': 'unknown', 'input_args': ['unknown']}]\", 'total_steps': 14}, page_content='Stake ETH into various protocols'),\n",
       " Document(metadata={'case_id': 'puffer_curve', 'seq_num': 81, 'source': 'puffer/index.ts', 'steps': \"[{'description': 'Stake ETH to earn rewards.', 'to': 'unknown', 'value': 'unknown', 'function_name': 'stakeETHTx', 'input_args': ['userAddr', 'inputAmount']}, {'description': 'Stake ETH to Lido and receive wstETH.', 'to': 'unknown', 'value': 'unknown', 'function_name': 'stakeToLidoGetWSTETHTxs', 'input_args': ['chain', 'inputAmount']}, {'description': 'Approve pufETH for Curve protocol.', 'to': '0xD9A442856C234a39a81a089C06451EBAa4306a72', 'value': 'unknown', 'function_name': 'approveERC20TxIfNeeded', 'input_args': ['chain', 'userAddress', 'tokenAddress', 'tokenSymbol', 'tokenDecimals', 'spenderAddress', 'spenderName', 'amount']}, {'description': 'Approve wstETH for Curve protocol.', 'to': '0x7f39C581F595B53c5cb19bD0b3f8dA6c935E2Ca0', 'value': 'unknown', 'function_name': 'approveERC20TxIfNeeded', 'input_args': ['chain', 'userAddress', 'tokenAddress', 'tokenSymbol', 'tokenDecimals', 'spenderAddress', 'spenderName', 'amount']}, {'description': 'Deposit and stake pufETH and wstETH in Curve.', 'to': '0xEEda34A377dD0ca676b9511EE1324974fA8d980D', 'value': 'unknown', 'function_name': 'depositAndStakeTx', 'input_args': ['chain', 'depositAddr', 'lpTokenAddr', 'gaugeAddr', 'nCoins', 'coins', 'coinNames', 'amounts', 'useUnderlying', 'useDynarray', 'pool']}]\", 'total_steps': 5}, page_content='A case involving staking ETH and interacting with Curve and Lido protocols for liquidity provision and yield generation.'),\n",
       " Document(metadata={'case_id': 'genesis_liquidity', 'seq_num': 105, 'source': 'genesis/index.ts', 'steps': \"[{'description': 'ETH and receive genETH on Genesis', 'to': '0x46199caa0e453971cedf97f926368d9e5415831a', 'value': 'unknown', 'function_name': 'stake', 'input_args': ['0x80011844928B469EAc5E4bC7e6EBA9b3C2Fa1b41']}, {'description': 'genETH to be added to the UniswapV3 liquidity pool', 'to': '0xf073bAC22DAb7FaF4a3Dd6c6189a70D54110525C', 'value': 'unknown', 'function_name': 'approve', 'input_args': ['0xc36442b4a4522e871399cd717abdd847ab11fe88', 'unknown']}, {'description': 'ETH and receive stETH on Lido', 'to': '0xf073bAC22DAb7FaF4a3Dd6c6189a70D54110525C', 'value': 'unknown', 'function_name': 'stake', 'input_args': ['0x80011844928B469EAc5E4bC7e6EBA9b3C2Fa1b41']}, {'description': 'stETH to be wrapped', 'to': '0xae7ab96520DE3A18E5e111B5EaAb095312D7fE84', 'value': 'unknown', 'function_name': 'approve', 'input_args': ['0x7f39C581F595B53c5cb19bD0b3f8dA6c935E2Ca0', 'unknown']}, {'description': 'received stETH to wstETH', 'to': '0x7f39C581F595B53c5cb19bD0b3f8dA6c935E2Ca0', 'value': 'unknown', 'function_name': 'wrap', 'input_args': ['unknown']}, {'description': 'wstETH to be added to the UniswapV3 liquidity pool', 'to': '0x7f39C581F595B53c5cb19bD0b3f8dA6c935E2Ca0', 'value': 'unknown', 'function_name': 'approve', 'input_args': ['0xc36442b4a4522e871399cd717abdd847ab11fe88', 'unknown']}, {'description': 'wstETH and genETH to the UniswapV3 liquidity pool', 'to': '0xc36442b4a4522e871399cd717abdd847ab11fe88', 'value': 'unknown', 'function_name': 'mint', 'input_args': ['unknown']}]\", 'total_steps': 7}, page_content='A case for staking ETH with Genesis and Lido, wrapping stETH, and adding liquidity to Uniswap V3.')]"
      ]
     },
     "execution_count": 7,
     "metadata": {},
     "output_type": "execute_result"
    }
   ],
   "source": [
    "retriever.invoke(\"Stake ETH with Lido and deposit to Eigenpie\")"
   ]
  },
  {
   "cell_type": "code",
   "execution_count": 14,
   "metadata": {},
   "outputs": [
    {
     "data": {
      "text/plain": [
       "[Document(metadata={'case_id': 'etf_base_meme_top10', 'seq_num': 109, 'source': 'etf-basememe-top10/index.ts', 'steps': \"[{'description': 'Approve USDC for 1inch', 'to': 'oneInchAddress', 'value': 'unknown', 'function_name': 'approve', 'input_args': ['USDCAddr', '1inch']}, {'description': 'Swap USDC to Top1 token', 'to': 'oneInchAddress', 'value': 'unknown', 'function_name': 'swap', 'input_args': ['USDCAddr', 'Top1', 'amount']}, {'description': 'Swap USDC to Top2 token', 'to': 'oneInchAddress', 'value': 'unknown', 'function_name': 'swap', 'input_args': ['USDCAddr', 'Top2', 'amount']}, {'description': 'Swap USDC to Top3 token', 'to': 'oneInchAddress', 'value': 'unknown', 'function_name': 'swap', 'input_args': ['USDCAddr', 'Top3', 'amount']}, {'description': 'Swap USDC to Top4 token', 'to': 'oneInchAddress', 'value': 'unknown', 'function_name': 'swap', 'input_args': ['USDCAddr', 'Top4', 'amount']}, {'description': 'Swap USDC to Top5 token', 'to': 'oneInchAddress', 'value': 'unknown', 'function_name': 'swap', 'input_args': ['USDCAddr', 'Top5', 'amount']}, {'description': 'Swap USDC to Top6 token', 'to': 'oneInchAddress', 'value': 'unknown', 'function_name': 'swap', 'input_args': ['USDCAddr', 'Top6', 'amount']}, {'description': 'Swap USDC to Top7 token', 'to': 'oneInchAddress', 'value': 'unknown', 'function_name': 'swap', 'input_args': ['USDCAddr', 'Top7', 'amount']}, {'description': 'Swap USDC to Top8 token', 'to': 'oneInchAddress', 'value': 'unknown', 'function_name': 'swap', 'input_args': ['USDCAddr', 'Top8', 'amount']}, {'description': 'Swap USDC to Top9 token', 'to': 'oneInchAddress', 'value': 'unknown', 'function_name': 'swap', 'input_args': ['USDCAddr', 'Top9', 'amount']}, {'description': 'Swap USDC to Top10 token', 'to': 'oneInchAddress', 'value': 'unknown', 'function_name': 'swap', 'input_args': ['USDCAddr', 'Top10', 'amount']}]\", 'total_steps': 11}, page_content='Swap USDC to Top 10 tokens using 1inch'),\n",
       " Document(metadata={'case_id': 'etf_ethereum_top10', 'seq_num': 33, 'source': 'etf-ethereum-top10/index.ts', 'steps': \"[{'description': 'Approve USDT for 1inch', 'to': '0x111111125421ca6dc452d289314280a0f8842a65', 'value': '0', 'function_name': 'approve', 'input_args': ['0xDac17F958D2ee523a2206206994597C13D831ec7', '0']}, {'description': 'Swap USDT to Top1 token', 'to': '0x111111125421ca6dc452d289314280a0f8842a65', 'value': 'unknown', 'function_name': 'swap', 'input_args': ['USDT', 'Top1']}, {'description': 'Swap USDT to Top2 token', 'to': '0x111111125421ca6dc452d289314280a0f8842a65', 'value': 'unknown', 'function_name': 'swap', 'input_args': ['USDT', 'Top2']}, {'description': 'Swap USDT to Top3 token', 'to': '0x111111125421ca6dc452d289314280a0f8842a65', 'value': 'unknown', 'function_name': 'swap', 'input_args': ['USDT', 'Top3']}, {'description': 'Swap USDT to Top4 token', 'to': '0x111111125421ca6dc452d289314280a0f8842a65', 'value': 'unknown', 'function_name': 'swap', 'input_args': ['USDT', 'Top4']}, {'description': 'Swap USDT to Top5 token', 'to': '0x111111125421ca6dc452d289314280a0f8842a65', 'value': 'unknown', 'function_name': 'swap', 'input_args': ['USDT', 'Top5']}, {'description': 'Swap USDT to Top6 token', 'to': '0x111111125421ca6dc452d289314280a0f8842a65', 'value': 'unknown', 'function_name': 'swap', 'input_args': ['USDT', 'Top6']}, {'description': 'Swap USDT to Top7 token', 'to': '0x111111125421ca6dc452d289314280a0f8842a65', 'value': 'unknown', 'function_name': 'swap', 'input_args': ['USDT', 'Top7']}, {'description': 'Swap USDT to Top8 token', 'to': '0x111111125421ca6dc452d289314280a0f8842a65', 'value': 'unknown', 'function_name': 'swap', 'input_args': ['USDT', 'Top8']}, {'description': 'Swap USDT to Top9 token', 'to': '0x111111125421ca6dc452d289314280a0f8842a65', 'value': 'unknown', 'function_name': 'swap', 'input_args': ['USDT', 'Top9']}, {'description': 'Swap USDT to Top10 token', 'to': '0x111111125421ca6dc452d289314280a0f8842a65', 'value': 'unknown', 'function_name': 'swap', 'input_args': ['USDT', 'Top10']}]\", 'total_steps': 11}, page_content='Swap USDT to the top 10 tokens on Ethereum using 1inch.'),\n",
       " Document(metadata={'case_id': 'ethena_usdt', 'seq_num': 35, 'source': 'ethena/index.ts', 'steps': \"[{'description': 'Approve USDT to Uniswap', 'to': '0xdac17f958d2ee523a2206206994597c13d831ec7', 'value': '0', 'function_name': 'approve', 'input_args': ['0xe592427a0aece92de3ede1f18e0157c05861564', '1000000']}, {'description': 'Swap USDT to USDe', 'to': '0xe592427a0aece92de3ede1f18e0157c05861564', 'value': '0', 'function_name': 'exactInputSingle', 'input_args': ['0xdac17f958d2ee523a2206206994597c13d831ec7', '0x4c9edd5852cd905f086c759e8383e09bff1e68b3', '100', '0xYourAddress', '0', '1000000', '0', '0']}, {'description': 'Approve USDe to lock on Ethena', 'to': '0x4c9edd5852cd905f086c759e8383e09bff1e68b3', 'value': '0', 'function_name': 'approve', 'input_args': ['0x8707f238936c12c309bfc2b9959c35828acfc512', '1000000']}, {'description': 'Stake USDe on Ethena', 'to': '0x8707f238936c12c309bfc2b9959c35828acfc512', 'value': '0', 'function_name': 'stake', 'input_args': ['0x4c9edd5852cd905f086c759e8383e09bff1e68b3', '1000000']}]\", 'total_steps': 4}, page_content='Ethena USDT case for swapping and staking USDT to USDe'),\n",
       " Document(metadata={'case_id': 'zircuit_ethena_usdt', 'seq_num': 104, 'source': 'zircuit-ethena/usdt-case.ts', 'steps': '[{\\'description\\': \\'Approve USDT for Uniswap\\', \\'to\\': \\'0xdac17f958d2ee523a2206206994597c13d831ec7\\', \\'value\\': \\'0\\', \\'function_name\\': \\'approve\\', \\'input_args\\': [\\'0xb27308f9F90D607463bb33eA1BeBb41C27CE5AB6\\', \\'<usdtAmount>\\']}, {\\'description\\': \\'Swap USDT to USDe\\', \\'to\\': \\'0xE592427A0AEce92De3Edee1F18E0157C05861564\\', \\'value\\': \\'0\\', \\'function_name\\': \\'exactInputSingle\\', \\'input_args\\': [\\'[\"0xdac17f958d2ee523a2206206994597c13d831ec7\",\"0x4c9edd5852cd905f086c759e8383e09bff1e68b3\",\"100\",\"<usdtAmount>\",\"0\"]\\']}, {\\'description\\': \\'Approve USDe for Zircuit\\', \\'to\\': \\'0x4c9edd5852cd905f086c759e8383e09bff1e68b3\\', \\'value\\': \\'0\\', \\'function_name\\': \\'approve\\', \\'input_args\\': [\\'0xF047ab4c75cebf0eB9ed34Ae2c186f3611aEAfa6\\', \\'<usdeAmount>\\']}, {\\'description\\': \\'Stake USDe to Zircuit\\', \\'to\\': \\'0xF047ab4c75cebf0eB9ed34Ae2c186f3611aEAfa6\\', \\'value\\': \\'0\\', \\'function_name\\': \\'depositFor\\', \\'input_args\\': [\\'0x4c9edd5852cd905f086c759e8383e09bff1e68b3\\', \\'<accountAddress>\\', \\'<usdeAmount>\\']}]', 'total_steps': 4}, page_content='A case for swapping USDT to USDe and staking it in Zircuit.')]"
      ]
     },
     "execution_count": 14,
     "metadata": {},
     "output_type": "execute_result"
    }
   ],
   "source": [
    "retriever.invoke(\"Swap 10 USDC to USDT\")"
   ]
  },
  {
   "cell_type": "code",
   "execution_count": 8,
   "metadata": {},
   "outputs": [],
   "source": [
    "from langchain_core.runnables import RunnablePassthrough\n",
    "from langchain.prompts import ChatPromptTemplate\n",
    "from models import Case\n",
    "from utils.model_selector import get_chat_model\n",
    "\n",
    "\n",
    "template = \"\"\"Generate a structure output based only on the following context:\n",
    "{context}\n",
    "Question: {question}\"\"\"\n",
    "prompt = ChatPromptTemplate.from_template(template)\n",
    "\n",
    "retriever = get_retriever()\n",
    "\n",
    "model = get_chat_model()\n",
    "\n",
    "\n",
    "def format_docs(docs):\n",
    "    return \"\\n\\n\".join(str(doc.metadata) for doc in docs)\n",
    "\n",
    "\n",
    "# Chain\n",
    "rag_chain = (\n",
    "    {\"context\": retriever | format_docs, \"question\": RunnablePassthrough()}\n",
    "    | prompt\n",
    "    | model.with_structured_output(Case)\n",
    ")"
   ]
  },
  {
   "cell_type": "code",
   "execution_count": 9,
   "metadata": {},
   "outputs": [
    {
     "name": "stdout",
     "output_type": "stream",
     "text": [
      "{\"id\": \"stake_0_03_eth_lido_eigenpie\", \"description\": \"Stake 0.03 ETH with Lido and deposit to Eigenpie\", \"total_steps\": 3, \"steps\": [{\"description\": \"Stake 0.03 ETH to Lido\", \"to\": \"0xae7ab96520DE3A18E5e111B5EaAb095312D7fE84\", \"value\": \"0.03\", \"function_name\": \"submit\", \"input_args\": [\"ReferalAccount\"]}, {\"description\": \"Approve stETH to Eigenpie\", \"to\": \"0xae7ab96520DE3A18E5e111B5EaAb095312D7fE84\", \"value\": \"0\", \"function_name\": \"approve\", \"input_args\": [\"0x24db6717dB1C75B9Db6eA47164D8730B63875dB7\", \"unknown\"]}, {\"description\": \"Stake stETH to Eigenpie\", \"to\": \"0x24db6717dB1C75B9Db6eA47164D8730B63875dB7\", \"value\": \"0\", \"function_name\": \"depositAsset\", \"input_args\": [\"0xae7ab96520DE3A18E5e111B5EaAb095312D7fE84\", \"unknown\", \"unknown\", \"ReferalAccount\"]}]}\n"
     ]
    }
   ],
   "source": [
    "question = \"Stake 0.03 ETH with Lido and deposit to Eigenpie\"\n",
    "result = rag_chain.invoke(question)\n",
    "print(result.json())"
   ]
  },
  {
   "cell_type": "code",
   "execution_count": 10,
   "metadata": {},
   "outputs": [
    {
     "name": "stdout",
     "output_type": "stream",
     "text": [
      "{\"id\": \"stake_eth_lido_eigenpie\", \"description\": \"Stake 0.03 ETH with Lido and deposit to Eigenpie\", \"total_steps\": 3, \"steps\": [{\"description\": \"Stake 0.03 ETH to Lido\", \"to\": \"0xae7ab96520DE3A18E5e111B5EaAb095312D7fE84\", \"value\": \"0.03\", \"function_name\": \"submit\", \"input_args\": [\"ReferalAccount\"]}, {\"description\": \"Approve stETH to Eigenpie\", \"to\": \"0xae7ab96520DE3A18E5e111B5EaAb095312D7fE84\", \"value\": \"0\", \"function_name\": \"approve\", \"input_args\": [\"0x24db6717dB1C75B9Db6eA47164D8730B63875dB7\", \"unknown\"]}, {\"description\": \"Deposit stETH to Eigenpie\", \"to\": \"0x24db6717dB1C75B9Db6eA47164D8730B63875dB7\", \"value\": \"0\", \"function_name\": \"depositAsset\", \"input_args\": [\"0xae7ab96520DE3A18E5e111B5EaAb095312D7fE84\", \"unknown\", \"unknown\", \"ReferalAccount\"]}]}\n"
     ]
    }
   ],
   "source": [
    "question = \"Stake 0.03 ETH with Lido and deposit to Eigenpie\"\n",
    "result = rag_chain.invoke(question)\n",
    "print(result.json())"
   ]
  },
  {
   "cell_type": "code",
   "execution_count": 11,
   "metadata": {},
   "outputs": [
    {
     "name": "stdout",
     "output_type": "stream",
     "text": [
      "{\"id\": \"swap_usdt_for_usdc\", \"description\": \"Swap 100 USDT for USDC on Uniswap\", \"total_steps\": 4, \"steps\": [{\"description\": \"Approve USDT for Uniswap\", \"to\": \"0xdac17f958d2ee523a2206206994597c13d831ec7\", \"value\": \"0\", \"function_name\": \"approve\", \"input_args\": [\"0xe592427a0aece92de3ede1f18e0157c05861564\", \"100\"]}, {\"description\": \"Swap USDT to USDC\", \"to\": \"0xe592427a0aece92de3ede1f18e0157c05861564\", \"value\": \"0\", \"function_name\": \"exactInputSingle\", \"input_args\": [\"0xdac17f958d2ee523a2206206994597c13d831ec7\", \"0xa0b86991c6218b36c1d19d4a2e9eb0ce3606eb48\", \"100\", \"0xYourAddress\", \"0\"]}, {\"description\": \"Approve USDC for further use\", \"to\": \"0xa0b86991c6218b36c1d19d4a2e9eb0ce3606eb48\", \"value\": \"0\", \"function_name\": \"approve\", \"input_args\": [\"0xYourNextAddress\", \"100\"]}, {\"description\": \"Transfer USDC to another address\", \"to\": \"0xYourNextAddress\", \"value\": \"100\", \"function_name\": \"transfer\", \"input_args\": [\"0xRecipientAddress\", \"100\"]}]}\n"
     ]
    }
   ],
   "source": [
    "question = \"Swap 100 USDT for USDC on Uniswap\"\n",
    "result = rag_chain.invoke(question)\n",
    "print(result.json())"
   ]
  },
  {
   "cell_type": "code",
   "execution_count": 12,
   "metadata": {},
   "outputs": [
    {
     "name": "stdout",
     "output_type": "stream",
     "text": [
      "{\"id\": \"swap_eth_for_usdc_uniswap\", \"description\": \"Swap 0.001 ETH for USDC on Uniswap\", \"total_steps\": 1, \"steps\": [{\"description\": \"Swap 0.001 ETH for USDC\", \"to\": \"UniswapAddress\", \"value\": \"0.001\", \"function_name\": \"swap\", \"input_args\": [\"ETH\", \"USDC\", \"0.001\"]}]}\n"
     ]
    }
   ],
   "source": [
    "question = \"Swap 0.001 ETH for USDC on Uniswap\"\n",
    "result = rag_chain.invoke(question)\n",
    "print(result.json())"
   ]
  },
  {
   "cell_type": "code",
   "execution_count": 15,
   "metadata": {},
   "outputs": [
    {
     "name": "stdout",
     "output_type": "stream",
     "text": [
      "{\"id\": \"swap_usdc_to_usdt\", \"description\": \"Swap 20 USDC to USDT\", \"total_steps\": 2, \"steps\": [{\"description\": \"Approve USDC for 1inch\", \"to\": \"oneInchAddress\", \"value\": \"unknown\", \"function_name\": \"approve\", \"input_args\": [\"USDCAddr\", \"1inch\"]}, {\"description\": \"Swap USDC to USDT\", \"to\": \"oneInchAddress\", \"value\": \"unknown\", \"function_name\": \"swap\", \"input_args\": [\"USDCAddr\", \"USDT\", \"20\"]}]}\n"
     ]
    }
   ],
   "source": [
    "question = \"Swap 20 USDC to USDT\"\n",
    "result = rag_chain.invoke(question)\n",
    "print(result.json())"
   ]
  },
  {
   "cell_type": "code",
   "execution_count": 13,
   "metadata": {},
   "outputs": [
    {
     "name": "stdout",
     "output_type": "stream",
     "text": [
      "{\"id\": \"yield_farming_multiple_protocols\", \"description\": \"Yield Farming with Multiple Protocols\", \"total_steps\": 4, \"steps\": [{\"description\": \"Deposit ETH into AAVE to earn interest.\", \"to\": \"AAVE\", \"value\": \"unknown\", \"function_name\": \"deposit\", \"input_args\": [\"ETH\"]}, {\"description\": \"Use aToken (aETH) as collateral to borrow DAI.\", \"to\": \"AAVE\", \"value\": \"unknown\", \"function_name\": \"borrow\", \"input_args\": [\"DAI\", \"aETH\"]}, {\"description\": \"Deposit the borrowed DAI into Yearn Finance.\", \"to\": \"Yearn Finance\", \"value\": \"unknown\", \"function_name\": \"deposit\", \"input_args\": [\"DAI\"]}, {\"description\": \"Use the Yearn vault tokens in a liquidity pool on Uniswap to earn trading fees.\", \"to\": \"Uniswap\", \"value\": \"unknown\", \"function_name\": \"addLiquidity\", \"input_args\": [\"Yearn vault tokens\"]}]}\n"
     ]
    }
   ],
   "source": [
    "question = \"\"\"Yield Farming with Multiple Protocols\n",
    "\tStep 1: Deposit ETH into a AAVE to earn interest.\n",
    "\tStep 2: Use aToken (aETH) as collateral to borrow DAI.\n",
    "\tStep 3: Deposit the borrowed DAI into a Yearn Finance.\n",
    "\tStep 4: Use the Yearn vault tokens in a liquidity pool on Uniswap to earn trading fees.\"\"\"\n",
    "result = rag_chain.invoke(question)\n",
    "print(result.json())"
   ]
  }
 ],
 "metadata": {
  "kernelspec": {
   "display_name": ".venv",
   "language": "python",
   "name": "python3"
  },
  "language_info": {
   "codemirror_mode": {
    "name": "ipython",
    "version": 3
   },
   "file_extension": ".py",
   "mimetype": "text/x-python",
   "name": "python",
   "nbconvert_exporter": "python",
   "pygments_lexer": "ipython3",
   "version": "3.11.9"
  }
 },
 "nbformat": 4,
 "nbformat_minor": 2
}
