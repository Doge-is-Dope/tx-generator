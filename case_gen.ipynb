{
 "cells": [
  {
   "cell_type": "code",
   "execution_count": 1,
   "metadata": {},
   "outputs": [],
   "source": [
    "import os\n",
    "\n",
    "os.environ[\"LANGCHAIN_TRACING_V2\"] = \"true\"\n",
    "os.environ[\"LANGCHAIN_PROJECT\"] = \"Tx Generator\""
   ]
  },
  {
   "cell_type": "code",
   "execution_count": 2,
   "metadata": {},
   "outputs": [],
   "source": [
    "from case_code import CodeDownloader, get_metadata, CodeLoader, transform, Case"
   ]
  },
  {
   "cell_type": "code",
   "execution_count": 3,
   "metadata": {},
   "outputs": [
    {
     "name": "stderr",
     "output_type": "stream",
     "text": [
      "Downloading files: 100%|██████████| 125/125 [00:05<00:00, 21.02file/s]"
     ]
    },
    {
     "name": "stdout",
     "output_type": "stream",
     "text": [
      "Total files downloaded:  125\n",
      "Total cases in metadata: 110\n"
     ]
    },
    {
     "name": "stderr",
     "output_type": "stream",
     "text": [
      "\n"
     ]
    }
   ],
   "source": [
    "# Download all case code\n",
    "downloader = CodeDownloader()\n",
    "downloaded_count = downloader.download()\n",
    "print(f\"{'Total files downloaded:':<24} {downloaded_count}\")\n",
    "\n",
    "metadata = get_metadata()\n",
    "print(f\"{'Total cases in metadata:':<24} {len(metadata)}\")"
   ]
  },
  {
   "cell_type": "code",
   "execution_count": 4,
   "metadata": {},
   "outputs": [
    {
     "name": "stderr",
     "output_type": "stream",
     "text": [
      "Processing: 100%|██████████| 125/125 [04:31<00:00,  2.17s/it]"
     ]
    },
    {
     "name": "stdout",
     "output_type": "stream",
     "text": [
      "            Error  count\n",
      "0  Case Not Found     57\n",
      "1     Parse Error      1\n"
     ]
    },
    {
     "name": "stderr",
     "output_type": "stream",
     "text": [
      "\n"
     ]
    }
   ],
   "source": [
    "from utils.model_selector import get_chat_model\n",
    "import pandas as pd\n",
    "\n",
    "# Get the chat model\n",
    "model = get_chat_model(\"openai\")\n",
    "\n",
    "# Transform the downloaded code to case\n",
    "loader = CodeLoader()\n",
    "skipped = await transform(model=model, loader=loader, total=downloaded_count)\n",
    "\n",
    "data = [(key.value, len(value)) for key, value in skipped.items()]\n",
    "df = pd.DataFrame(data, columns=[\"Error\", \"count\"])\n",
    "print(df)"
   ]
  },
  {
   "cell_type": "code",
   "execution_count": 5,
   "metadata": {},
   "outputs": [
    {
     "name": "stdout",
     "output_type": "stream",
     "text": [
      "Parsed error cases: ['zircuit-ethena/usdt-case.ts']\n"
     ]
    }
   ],
   "source": [
    "from case_code.code_transformer import TransformError\n",
    "\n",
    "print(f\"Parsed error cases: {skipped[TransformError.ParseError]}\")"
   ]
  },
  {
   "cell_type": "code",
   "execution_count": 6,
   "metadata": {},
   "outputs": [],
   "source": [
    "from case import get_retriever\n",
    "\n",
    "retriever = get_retriever()"
   ]
  },
  {
   "cell_type": "code",
   "execution_count": 7,
   "metadata": {},
   "outputs": [
    {
     "data": {
      "text/plain": [
       "[Document(metadata={'case_id': 'eigenpie_steth', 'seq_num': 2, 'source': '/Users/clement/Developer/ai/tx-generator/data/case_gpt-4o.jsonl', 'steps': \"[{'description': 'ETH to Lido', 'to': '0xae7ab96520DE3A18E5e111B5EaAb095312D7fE84', 'value': '{user_input}', 'function_name': 'submit', 'input_args': ['ReferalAccount']}, {'description': 'Approve stETH to Eigenpie', 'to': '0xae7ab96520DE3A18E5e111B5EaAb095312D7fE84', 'value': '0', 'function_name': 'approve', 'input_args': ['0x24db6717dB1C75B9Db6eA47164D8730B63875dB7', '{user_input}']}, {'description': 'stETH to Eigenpie', 'to': '0x24db6717dB1C75B9Db6eA47164D8730B63875dB7', 'value': '0', 'function_name': 'depositAsset', 'input_args': ['0xae7ab96520DE3A18E5e111B5EaAb095312D7fE84', '{user_input}', '{user_input}', 'ReferalAccount']}]\", 'total_steps': 3}, page_content='Staking ETH with Lido and then depositing stETH to Eigenpie.'),\n",
       " Document(metadata={'case_id': 'stake_eth', 'seq_num': 47, 'source': '/Users/clement/Developer/ai/tx-generator/data/case_gpt-4o.jsonl', 'steps': \"[{'description': 'Stake into Lido to get WSTETH', 'to': '{user_address}', 'value': '{input_amount}', 'function_name': 'stakeToLidoGetWSTETHTxs', 'input_args': ['mainnet', '{input_amount}']}, {'description': 'Stake into RocketPool', 'to': '{user_address}', 'value': '{input_amount}', 'function_name': 'rocketpoolStakeTx', 'input_args': ['{input_amount}']}, {'description': 'Swap ETH to staked token via 1inch for Coinbase', 'to': '{user_address}', 'value': '{input_amount}', 'function_name': 'swapTx', 'input_args': ['mainnet.id', '{user_address}', 'oneinchNativeTokenAddress', 'ETH', '18', '{input_amount}', 'stakingProtocols[i].stakedTokenAddr', 'stakingProtocols[i].stakedTokenSymbol', '18']}, {'description': 'Stake into StakeWise', 'to': '{user_address}', 'value': '{input_amount}', 'function_name': 'stakewiseStakeTx', 'input_args': ['{input_amount}', '{user_address}']}, {'description': 'Stake into Stader', 'to': '{user_address}', 'value': '{input_amount}', 'function_name': 'staderStakeTx', 'input_args': ['{input_amount}', '{user_address}']}, {'description': 'Stake into EtherFi to get WEETH', 'to': '{user_address}', 'value': '{input_amount}', 'function_name': 'stakeToEtherFiGetWEETHTxs', 'input_args': ['mainnet', '{input_amount}']}, {'description': 'Stake into Renzo', 'to': '{user_address}', 'value': '{input_amount}', 'function_name': 'renzoStakeTx', 'input_args': ['{input_amount}']}, {'description': 'Stake into Frax Finance', 'to': '{user_address}', 'value': '{input_amount}', 'function_name': 'fraxStakeTx', 'input_args': ['{input_amount}', '{user_address}']}, {'description': 'Stake into Swell', 'to': '{user_address}', 'value': '{input_amount}', 'function_name': 'swellStakeTx', 'input_args': ['{input_amount}']}, {'description': 'Stake into Redacted Finance', 'to': '{user_address}', 'value': '{input_amount}', 'function_name': 'dineroStakeTx', 'input_args': ['{input_amount}', '{user_address}']}]\", 'total_steps': 14}, page_content='Stake ETH into various protocols'),\n",
       " Document(metadata={'case_id': 'genesis_liquidity', 'seq_num': 63, 'source': '/Users/clement/Developer/ai/tx-generator/data/case_gpt-4o.jsonl', 'steps': \"[{'description': 'ETH and receive genETH on Genesis', 'to': '0x46199caa0e453971cedf97f926368d9e5415831a', 'value': '{user_input}', 'function_name': 'stake', 'input_args': ['0x80011844928B469EAc5E4bC7e6EBA9b3C2Fa1b41']}, {'description': 'genETH to be added to the UniswapV3 liquidity pool', 'to': '0xf073bAC22DAb7FaF4a3Dd6c6189a70D54110525C', 'value': '0', 'function_name': 'approve', 'input_args': ['0xc36442b4a4522e871399cd717abdd847ab11fe88', '{user_input}']}, {'description': 'ETH and receive stETH on Lido', 'to': '0xae7ab96520DE3A18E5e111B5EaAb095312D7fE84', 'value': '{user_input}', 'function_name': 'submit', 'input_args': ['0x80011844928B469EAc5E4bC7e6EBA9b3C2Fa1b41']}, {'description': 'stETH to be wrapped', 'to': '0xae7ab96520DE3A18E5e111B5EaAb095312D7fE84', 'value': '0', 'function_name': 'approve', 'input_args': ['0x7f39C581F595B53c5cb19bD0b3f8dA6c935E2Ca0', '{user_input}']}, {'description': 'received stETH to wstETH', 'to': '0x7f39C581F595B53c5cb19bD0b3f8dA6c935E2Ca0', 'value': '0', 'function_name': 'wrap', 'input_args': ['{user_input}']}, {'description': 'wstETH to be added to the UniswapV3 liquidity pool', 'to': '0x7f39C581F595B53c5cb19bD0b3f8dA6c935E2Ca0', 'value': '0', 'function_name': 'approve', 'input_args': ['0xc36442b4a4522e871399cd717abdd847ab11fe88', '{user_input}']}, {'description': 'wstETH and genETH to the UniswapV3 liquidity pool', 'to': '0xc36442b4a4522e871399cd717abdd847ab11fe88', 'value': '0', 'function_name': 'mint', 'input_args': ['{user_input}']}]\", 'total_steps': 7}, page_content='Benefit from staking ETH with Genesis and Lido, and adding liquidity to UniswapV3 pool.'),\n",
       " Document(metadata={'case_id': 'lido_multiplier', 'seq_num': 53, 'source': '/Users/clement/Developer/ai/tx-generator/data/case_gpt-4o.jsonl', 'steps': \"[{'description': 'Enable E-Mode', 'to': '0xEModeAddress', 'value': '0', 'function_name': 'enableEMode', 'input_args': []}, {'description': 'Delegate', 'to': '0xDelegateAddress', 'value': '0', 'function_name': 'delegate', 'input_args': ['{user_input}']}, {'description': 'Approve stETH to wstETH', 'to': '0xApproveSTETHAddress', 'value': '0', 'function_name': 'approveSTETHToWSTETH', 'input_args': ['{user_input}']}, {'description': 'Approve wstETH to AAVE', 'to': '0xApproveWSTETHToAAVEAddress', 'value': '0', 'function_name': 'approveWSTETHToAAVE', 'input_args': ['{user_input}']}, {'description': 'Stake to Lido', 'to': '0xStakeToLidoAddress', 'value': '{user_input}', 'function_name': 'stakeToLido', 'input_args': ['{user_input}']}, {'description': 'Wrap stETH to wstETH', 'to': '0xWrapSTETHToWSTETHAddress', 'value': '{user_input}', 'function_name': 'wrapSTETHToWSTETH', 'input_args': ['{user_input}']}, {'description': 'Supply wstETH', 'to': '0xSupplyWSTETHAddress', 'value': '{user_input}', 'function_name': 'supplyWSTETH', 'input_args': ['{user_input}']}, {'description': 'Borrow ETH', 'to': '0xBorrowETHAddress', 'value': '{user_input}', 'function_name': 'borrowETH', 'input_args': ['{user_input}']}]\", 'total_steps': 8}, page_content='Lido and AAVE integration for borrowing, staking, and wrapping ETH.')]"
      ]
     },
     "execution_count": 7,
     "metadata": {},
     "output_type": "execute_result"
    }
   ],
   "source": [
    "retriever.invoke(\"Stake ETH with Lido and deposit to Eigenpie\")"
   ]
  },
  {
   "cell_type": "code",
   "execution_count": 8,
   "metadata": {},
   "outputs": [],
   "source": [
    "from langchain_core.runnables import RunnablePassthrough\n",
    "from langchain.prompts import ChatPromptTemplate\n",
    "\n",
    "template = \"\"\"Generate a structure output based only on the following context:\n",
    "{context}\n",
    "Question: {question}\"\"\"\n",
    "prompt = ChatPromptTemplate.from_template(template)\n",
    "\n",
    "retriever = get_retriever()\n",
    "\n",
    "\n",
    "def format_docs(docs):\n",
    "    return \"\\n\\n\".join(str(doc.metadata) for doc in docs)\n",
    "\n",
    "\n",
    "# Chain\n",
    "rag_chain = (\n",
    "    {\"context\": retriever | format_docs, \"question\": RunnablePassthrough()}\n",
    "    | prompt\n",
    "    | model.with_structured_output(Case)\n",
    ")"
   ]
  },
  {
   "cell_type": "code",
   "execution_count": 9,
   "metadata": {},
   "outputs": [
    {
     "name": "stdout",
     "output_type": "stream",
     "text": [
      "{\"case_id\": \"eigenpie_steth\", \"description\": \"Stake 0.01 ETH with Lido and deposit to Eigenpie\", \"total_steps\": 3, \"steps\": [{\"description\": \"ETH to Lido\", \"to\": \"0xae7ab96520DE3A18E5e111B5EaAb095312D7fE84\", \"value\": \"0.01\", \"function_name\": \"submit\", \"input_args\": [\"ReferalAccount\"]}, {\"description\": \"Approve stETH to Eigenpie\", \"to\": \"0xae7ab96520DE3A18E5e111B5EaAb095312D7fE84\", \"value\": \"0\", \"function_name\": \"approve\", \"input_args\": [\"0x24db6717dB1C75B9Db6eA47164D8730B63875dB7\", \"{user_input}\"]}, {\"description\": \"stETH to Eigenpie\", \"to\": \"0x24db6717dB1C75B9Db6eA47164D8730B63875dB7\", \"value\": \"0\", \"function_name\": \"depositAsset\", \"input_args\": [\"0xae7ab96520DE3A18E5e111B5EaAb095312D7fE84\", \"{user_input}\", \"{user_input}\", \"ReferalAccount\"]}]}\n"
     ]
    }
   ],
   "source": [
    "question = \"Stake 0.01 ETH with Lido and deposit to Eigenpie\"\n",
    "result = rag_chain.invoke(question)\n",
    "print(result.json())"
   ]
  },
  {
   "cell_type": "code",
   "execution_count": 10,
   "metadata": {},
   "outputs": [
    {
     "name": "stdout",
     "output_type": "stream",
     "text": [
      "{\"case_id\": \"stake_eth_eigenpie\", \"description\": \"Stake 3 ETH with Lido and deposit to Eigenpie\", \"total_steps\": 3, \"steps\": [{\"description\": \"ETH to Lido\", \"to\": \"0xae7ab96520DE3A18E5e111B5EaAb095312D7fE84\", \"value\": \"3\", \"function_name\": \"submit\", \"input_args\": [\"ReferalAccount\"]}, {\"description\": \"Approve stETH to Eigenpie\", \"to\": \"0xae7ab96520DE3A18E5e111B5EaAb095312D7fE84\", \"value\": \"0\", \"function_name\": \"approve\", \"input_args\": [\"0x24db6717dB1C75B9Db6eA47164D8730B63875dB7\", \"{user_input}\"]}, {\"description\": \"stETH to Eigenpie\", \"to\": \"0x24db6717dB1C75B9Db6eA47164D8730B63875dB7\", \"value\": \"0\", \"function_name\": \"depositAsset\", \"input_args\": [\"0xae7ab96520DE3A18E5e111B5EaAb095312D7fE84\", \"{user_input}\", \"{user_input}\", \"ReferalAccount\"]}]}\n"
     ]
    }
   ],
   "source": [
    "question = \"Stake 3 ETH with Lido and deposit to Eigenpie\"\n",
    "result = rag_chain.invoke(question)\n",
    "print(result.json())"
   ]
  },
  {
   "cell_type": "code",
   "execution_count": 11,
   "metadata": {},
   "outputs": [
    {
     "name": "stdout",
     "output_type": "stream",
     "text": [
      "{\"case_id\": \"swap_usdt_usdc_uniswap\", \"description\": \"Swap 100 USDT for USDC on Uniswap\", \"total_steps\": 2, \"steps\": [{\"description\": \"Approve USDT to Uniswap\", \"to\": \"0xdAC17F958D2ee523a2206206994597C13D831ec7\", \"value\": \"0\", \"function_name\": \"approve\", \"input_args\": [\"0xE592427A0AEce92De3Edee1F18E0157C05861564\", \"100\"]}, {\"description\": \"Swap USDT to USDC\", \"to\": \"0xE592427A0AEce92De3Edee1F18E0157C05861564\", \"value\": \"0\", \"function_name\": \"exactInputSingle\", \"input_args\": [\"0xdAC17F958D2ee523a2206206994597C13D831ec7\", \"0xA0b86991c6218b36c1d19d4a2e9eb0ce3606eb48\", \"3000\", \"{recipient}\", \"{deadline}\", \"100\", \"{usdcAmount}\", \"0\"]}]}\n"
     ]
    }
   ],
   "source": [
    "question = \"Swap 100 USDT for USDC on Uniswap\"\n",
    "result = rag_chain.invoke(question)\n",
    "print(result.json())"
   ]
  },
  {
   "cell_type": "code",
   "execution_count": 12,
   "metadata": {},
   "outputs": [
    {
     "name": "stdout",
     "output_type": "stream",
     "text": [
      "{\"case_id\": \"uniswap_eth_usdc_swap\", \"description\": \"Swap 0.001 ETH for USDC on Uniswap\", \"total_steps\": 1, \"steps\": [{\"description\": \"Swap 0.001 ETH for USDC\", \"to\": \"UniswapRouterAddress\", \"value\": \"0.001\", \"function_name\": \"swapExactETHForTokens\", \"input_args\": [\"{amountOutMin}\", \"[{WETHAddress},{USDCAddress}]\", \"{recipient}\", \"{deadline}\"]}]}\n"
     ]
    }
   ],
   "source": [
    "question = \"Swap 0.001 ETH for USDC on Uniswap\"\n",
    "result = rag_chain.invoke(question)\n",
    "print(result.json())"
   ]
  },
  {
   "cell_type": "code",
   "execution_count": 13,
   "metadata": {},
   "outputs": [
    {
     "name": "stdout",
     "output_type": "stream",
     "text": [
      "{\"case_id\": \"yield_farming_eth_dai\", \"description\": \"Yield Farming with Multiple Protocols\", \"total_steps\": 4, \"steps\": [{\"description\": \"Deposit ETH into AAVE to earn interest\", \"to\": \"0x3fD3d4E3fD3d4E3fD3d4E3fD3d4E3fD3d4E3fD3\", \"value\": \"{user_input}\", \"function_name\": \"depositETH\", \"input_args\": [\"0x3fD3d4E3fD3d4E3fD3d4E3fD3d4E3fD3d4E3fD3\", \"{user_input}\", \"0\"]}, {\"description\": \"Use aToken (aETH) as collateral to borrow DAI\", \"to\": \"0x3fD3d4E3fD3d4E3fD3d4E3fD3d4E3fD3d4E3fD3\", \"value\": \"0\", \"function_name\": \"borrowDAI\", \"input_args\": [\"0x3fD3d4E3fD3d4E3fD3d4E3fD3d4E3fD3d4E3fD3\", \"{user_input}\", \"2\", \"0\"]}, {\"description\": \"Deposit the borrowed DAI into Yearn Finance\", \"to\": \"0x3fD3d4E3fD3d4E3fD3d4E3fD3d4E3fD3d4E3fD3\", \"value\": \"0\", \"function_name\": \"depositDAI\", \"input_args\": [\"0xYearnVaultAddress\", \"{user_input}\", \"0\"]}, {\"description\": \"Use the Yearn vault tokens in a liquidity pool on Uniswap to earn trading fees\", \"to\": \"0x3fD3d4E3fD3d4E3fD3d4E3fD3d4E3fD3d4E3fD3\", \"value\": \"0\", \"function_name\": \"addLiquidity\", \"input_args\": [\"0xUniswapPoolAddress\", \"{user_input}\", \"0\"]}]}\n"
     ]
    }
   ],
   "source": [
    "question = \"\"\"Yield Farming with Multiple Protocols\n",
    "\tStep 1: Deposit ETH into a AAVE to earn interest.\n",
    "\tStep 2: Use aToken (aETH) as collateral to borrow DAI.\n",
    "\tStep 3: Deposit the borrowed DAI into a Yearn Finance.\n",
    "\tStep 4: Use the Yearn vault tokens in a liquidity pool on Uniswap to earn trading fees.\"\"\"\n",
    "result = rag_chain.invoke(question)\n",
    "print(result.json())"
   ]
  }
 ],
 "metadata": {
  "kernelspec": {
   "display_name": ".venv",
   "language": "python",
   "name": "python3"
  },
  "language_info": {
   "codemirror_mode": {
    "name": "ipython",
    "version": 3
   },
   "file_extension": ".py",
   "mimetype": "text/x-python",
   "name": "python",
   "nbconvert_exporter": "python",
   "pygments_lexer": "ipython3",
   "version": "3.11.9"
  }
 },
 "nbformat": 4,
 "nbformat_minor": 2
}
