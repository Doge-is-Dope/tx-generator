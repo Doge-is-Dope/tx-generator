{
 "cells": [
  {
   "cell_type": "code",
   "execution_count": 1,
   "metadata": {},
   "outputs": [],
   "source": [
    "import os\n",
    "\n",
    "os.environ[\"LANGCHAIN_TRACING_V2\"] = \"true\"\n",
    "os.environ[\"LANGCHAIN_PROJECT\"] = \"Tx Generator\""
   ]
  },
  {
   "cell_type": "code",
   "execution_count": null,
   "metadata": {},
   "outputs": [],
   "source": [
    "from case_code import CodeDownloader, get_metadata, CodeLoader, transform, Case\n",
    "from utils.model_selector import get_chat_model"
   ]
  },
  {
   "cell_type": "code",
   "execution_count": null,
   "metadata": {},
   "outputs": [],
   "source": [
    "# Download all case code\n",
    "downloader = CodeDownloader()\n",
    "downloaded_count = downloader.download()\n",
    "print(f\"{'Total files downloaded:':<24} {downloaded_count}\")\n",
    "\n",
    "metadata = get_metadata()\n",
    "print(f\"{'Total cases in metadata:':<24} {len(metadata)}\")"
   ]
  },
  {
   "cell_type": "code",
   "execution_count": null,
   "metadata": {},
   "outputs": [],
   "source": [
    "import pandas as pd\n",
    "\n",
    "# Get the chat model\n",
    "model = get_chat_model()\n",
    "\n",
    "# Transform the downloaded code to case\n",
    "loader = CodeLoader()\n",
    "skipped = await transform(model=model, loader=loader, total=downloaded_count)\n",
    "\n",
    "data = [(key.value, len(value)) for key, value in skipped.items()]\n",
    "df = pd.DataFrame(data, columns=[\"Error\", \"Count\"])\n",
    "print(df)"
   ]
  },
  {
   "cell_type": "code",
   "execution_count": null,
   "metadata": {},
   "outputs": [],
   "source": [
    "from case_code.code_transformer import TransformError\n",
    "\n",
    "print(f\"Parsed error cases: {skipped[TransformError.ParseError]}\")"
   ]
  },
  {
   "cell_type": "code",
   "execution_count": null,
   "metadata": {},
   "outputs": [],
   "source": [
    "from case import get_retriever\n",
    "\n",
    "retriever = get_retriever()"
   ]
  },
  {
   "cell_type": "code",
   "execution_count": null,
   "metadata": {},
   "outputs": [],
   "source": [
    "retriever.invoke(\"Stake ETH with Lido and deposit to Eigenpie\")"
   ]
  },
  {
   "cell_type": "code",
   "execution_count": null,
   "metadata": {},
   "outputs": [],
   "source": [
    "from langchain_core.runnables import RunnablePassthrough\n",
    "from langchain.prompts import ChatPromptTemplate\n",
    "\n",
    "template = \"\"\"Generate a structure output based only on the following context:\n",
    "{context}\n",
    "Question: {question}\"\"\"\n",
    "prompt = ChatPromptTemplate.from_template(template)\n",
    "\n",
    "retriever = get_retriever()\n",
    "\n",
    "\n",
    "def format_docs(docs):\n",
    "    return \"\\n\\n\".join(str(doc.metadata) for doc in docs)\n",
    "\n",
    "\n",
    "# Chain\n",
    "rag_chain = (\n",
    "    {\"context\": retriever | format_docs, \"question\": RunnablePassthrough()}\n",
    "    | prompt\n",
    "    | model.with_structured_output(Case)\n",
    ")"
   ]
  },
  {
   "cell_type": "code",
   "execution_count": null,
   "metadata": {},
   "outputs": [],
   "source": [
    "question = \"Stake 0.01 ETH with Lido and deposit to Eigenpie\"\n",
    "result = rag_chain.invoke(question)\n",
    "print(result.json())"
   ]
  },
  {
   "cell_type": "code",
   "execution_count": null,
   "metadata": {},
   "outputs": [],
   "source": [
    "question = \"Stake 3 ETH with Lido and deposit to Eigenpie\"\n",
    "result = rag_chain.invoke(question)\n",
    "print(result.json())"
   ]
  },
  {
   "cell_type": "code",
   "execution_count": null,
   "metadata": {},
   "outputs": [],
   "source": [
    "question = \"Swap 100 USDT for USDC on Uniswap\"\n",
    "result = rag_chain.invoke(question)\n",
    "print(result.json())"
   ]
  },
  {
   "cell_type": "code",
   "execution_count": null,
   "metadata": {},
   "outputs": [],
   "source": [
    "question = \"Swap 0.001 ETH for USDC on Uniswap\"\n",
    "result = rag_chain.invoke(question)\n",
    "print(result.json())"
   ]
  },
  {
   "cell_type": "code",
   "execution_count": null,
   "metadata": {},
   "outputs": [],
   "source": [
    "question = \"\"\"Yield Farming with Multiple Protocols\n",
    "\tStep 1: Deposit ETH into a AAVE to earn interest.\n",
    "\tStep 2: Use aToken (aETH) as collateral to borrow DAI.\n",
    "\tStep 3: Deposit the borrowed DAI into a Yearn Finance.\n",
    "\tStep 4: Use the Yearn vault tokens in a liquidity pool on Uniswap to earn trading fees.\"\"\"\n",
    "result = rag_chain.invoke(question)\n",
    "print(result.json())"
   ]
  }
 ],
 "metadata": {
  "kernelspec": {
   "display_name": ".venv",
   "language": "python",
   "name": "python3"
  },
  "language_info": {
   "codemirror_mode": {
    "name": "ipython",
    "version": 3
   },
   "file_extension": ".py",
   "mimetype": "text/x-python",
   "name": "python",
   "nbconvert_exporter": "python",
   "pygments_lexer": "ipython3",
   "version": "3.11.9"
  }
 },
 "nbformat": 4,
 "nbformat_minor": 2
}
