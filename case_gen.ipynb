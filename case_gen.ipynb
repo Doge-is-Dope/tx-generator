{
 "cells": [
  {
   "cell_type": "code",
   "execution_count": 1,
   "metadata": {},
   "outputs": [],
   "source": [
    "import os\n",
    "\n",
    "os.environ[\"LANGCHAIN_TRACING_V2\"] = \"true\"\n",
    "os.environ[\"LANGCHAIN_PROJECT\"] = \"Tx Generator\""
   ]
  },
  {
   "cell_type": "code",
   "execution_count": 2,
   "metadata": {},
   "outputs": [],
   "source": [
    "from case_code import CodeDownloader, get_metadata, CodeLoader, transform, Case\n",
    "from utils.model_selector import get_chat_model"
   ]
  },
  {
   "cell_type": "code",
   "execution_count": 3,
   "metadata": {},
   "outputs": [
    {
     "name": "stderr",
     "output_type": "stream",
     "text": [
      "Downloading files: 100%|██████████| 125/125 [00:06<00:00, 20.63file/s]"
     ]
    },
    {
     "name": "stdout",
     "output_type": "stream",
     "text": [
      "Total files downloaded:  125\n",
      "Total cases in metadata: 110\n"
     ]
    },
    {
     "name": "stderr",
     "output_type": "stream",
     "text": [
      "\n"
     ]
    }
   ],
   "source": [
    "# Download all case code\n",
    "downloader = CodeDownloader()\n",
    "downloaded_count = downloader.download()\n",
    "print(f\"{'Total files downloaded:':<24} {downloaded_count}\")\n",
    "\n",
    "metadata = get_metadata()\n",
    "print(f\"{'Total cases in metadata:':<24} {len(metadata)}\")"
   ]
  },
  {
   "cell_type": "code",
   "execution_count": 4,
   "metadata": {},
   "outputs": [
    {
     "name": "stderr",
     "output_type": "stream",
     "text": [
      "Processing: 100%|██████████| 125/125 [03:52<00:00,  1.86s/it]"
     ]
    },
    {
     "name": "stdout",
     "output_type": "stream",
     "text": [
      "            Error  Count\n",
      "0  Case Not Found     57\n",
      "1     Parse Error      0\n"
     ]
    },
    {
     "name": "stderr",
     "output_type": "stream",
     "text": [
      "\n"
     ]
    }
   ],
   "source": [
    "import pandas as pd\n",
    "\n",
    "# Get the chat model\n",
    "model = get_chat_model()\n",
    "\n",
    "# Transform the downloaded code to case\n",
    "loader = CodeLoader()\n",
    "skipped = await transform(model=model, loader=loader, total=downloaded_count)\n",
    "\n",
    "data = [(key.value, len(value)) for key, value in skipped.items()]\n",
    "df = pd.DataFrame(data, columns=[\"Error\", \"Count\"])\n",
    "print(df)"
   ]
  },
  {
   "cell_type": "code",
   "execution_count": 5,
   "metadata": {},
   "outputs": [
    {
     "name": "stdout",
     "output_type": "stream",
     "text": [
      "Parsed error cases: []\n"
     ]
    }
   ],
   "source": [
    "from case_code.code_transformer import TransformError\n",
    "\n",
    "print(f\"Parsed error cases: {skipped[TransformError.ParseError]}\")"
   ]
  },
  {
   "cell_type": "code",
   "execution_count": 6,
   "metadata": {},
   "outputs": [],
   "source": [
    "from case import get_retriever\n",
    "\n",
    "retriever = get_retriever()"
   ]
  },
  {
   "cell_type": "code",
   "execution_count": 7,
   "metadata": {},
   "outputs": [
    {
     "data": {
      "text/plain": [
       "[Document(metadata={'case_id': 'eigenpie_steth', 'seq_num': 2, 'source': 'eigenpie/index.ts', 'steps': \"[{'description': 'Stake ETH to Lido', 'to': '0xae7ab96520DE3A18E5e111B5EaAb095312D7fE84', 'value': 'unknown', 'function_name': 'submit', 'input_args': ['unknown']}, {'description': 'Approve stETH to Eigenpie', 'to': '0xae7ab96520DE3A18E5e111B5EaAb095312D7fE84', 'value': '0', 'function_name': 'approve', 'input_args': ['0x24db6717dB1C75B9Db6eA47164D8730B63875dB7', 'unknown']}, {'description': 'Stake stETH to Eigenpie', 'to': '0x24db6717dB1C75B9Db6eA47164D8730B63875dB7', 'value': '0', 'function_name': 'depositAsset', 'input_args': ['0xae7ab96520DE3A18E5e111B5EaAb095312D7fE84', 'unknown', 'unknown', 'unknown']}]\", 'total_steps': 3}, page_content='A case for staking ETH to Lido and then to Eigenpie using the Eigenpie Staking contract.'),\n",
       " Document(metadata={'case_id': 'zircuit_eigenpie_swell', 'seq_num': 48, 'source': 'zircuit-eigenpie-swell/index.ts', 'steps': \"[{'description': 'Stake ETH with Swell and receive swETH', 'to': '0xf951E335afb289353dc249e82926178EaC7DEd78', 'value': 'unknown', 'function_name': 'depositWithReferral', 'input_args': ['unknown']}, {'description': 'Approve swETH to be restaked to Eigenlayer on Eigenpie to earn Pearls', 'to': '0xf951E335afb289353dc249e82926178EaC7DEd78', 'value': '0', 'function_name': 'approve', 'input_args': ['0x24db6717dB1C75B9Db6eA47164D8730B63875dB7', 'unknown']}, {'description': 'Stake swETH with Eigenpie', 'to': '0x24db6717dB1C75B9Db6eA47164D8730B63875dB7', 'value': '0', 'function_name': 'depositAsset', 'input_args': ['0xf951E335afb289353dc249e82926178EaC7DEd78', 'unknown', 'unknown', 'unknown']}, {'description': 'Approve mswETH to be restaked on Zircuit to earn Zircuit Points', 'to': '0x32bd822d615A3658A68b6fDD30c2fcb2C996D678', 'value': '0', 'function_name': 'approve', 'input_args': ['0xF047ab4c75cebf0eB9ed34Ae2c186f3611aEAfa6', 'unknown']}, {'description': 'Restake mswETH with Zircuit to earn Zircuit Points', 'to': '0xF047ab4c75cebf0eB9ed34Ae2c186f3611aEAfa6', 'value': '0', 'function_name': 'depositFor', 'input_args': ['unknown', 'unknown', 'unknown']}]\", 'total_steps': 5}, page_content='A case for staking ETH and restaking swETH and mswETH to earn rewards on Eigenpie and Zircuit.'),\n",
       " Document(metadata={'case_id': 'lido_multiplier', 'seq_num': 54, 'source': 'lido-multiplier/index.ts', 'steps': \"[{'description': 'Enable E-Mode if not already enabled.', 'to': 'unknown', 'value': 'unknown', 'function_name': 'enableEModeTx', 'input_args': []}, {'description': 'Delegate the input amount to AAVE.', 'to': 'unknown', 'value': 'unknown', 'function_name': 'delegateTx', 'input_args': ['targetAmount']}, {'description': 'Approve stETH to be wrapped to wstETH.', 'to': 'unknown', 'value': 'unknown', 'function_name': 'checkOrApporveSTETHToWSTETHTx', 'input_args': ['chain', 'userAddress', 'targetAmount']}, {'description': 'Approve wstETH to be supplied to AAVE.', 'to': 'unknown', 'value': 'unknown', 'function_name': 'checkOrApporveWSTETHToAAVETx', 'input_args': ['chain', 'userAddress', 'targetAmount']}, {'description': 'Stake the input amount to Lido.', 'to': 'unknown', 'value': 'unknown', 'function_name': 'stakeToLidoTx', 'input_args': ['inputAmount']}, {'description': 'Wrap stETH to wstETH.', 'to': 'unknown', 'value': 'unknown', 'function_name': 'wrapSTETHToWSTETHTx', 'input_args': ['chain', 'inputAmount - 1']}, {'description': 'Supply wstETH to AAVE.', 'to': 'unknown', 'value': 'unknown', 'function_name': 'supplyWSTETHTx', 'input_args': ['wstETHAmount', 'userAddress']}, {'description': 'Borrow ETH using the supplied wstETH.', 'to': 'unknown', 'value': 'unknown', 'function_name': 'borrowETHTx', 'input_args': ['nextBorrowAmount']}]\", 'total_steps': 8}, page_content='A case for managing ETH staking, wrapping, and borrowing using Lido and AAVE protocols.'),\n",
       " Document(metadata={'case_id': 'genesis_liquidity', 'seq_num': 64, 'source': 'genesis/index.ts', 'steps': \"[{'description': 'Stake ETH with Genesis and receive genETH.', 'to': '0x46199caa0e453971cedf97f926368d9e5415831a', 'value': 'unknown', 'function_name': 'stake', 'input_args': ['0x80011844928B469EAc5E4bC7e6EBA9b3C2Fa1b41']}, {'description': 'Approve genETH to be added to the UniswapV3 liquidity pool.', 'to': '0xf073bAC22DAb7FaF4a3Dd6c6189a70D54110525C', 'value': '0', 'function_name': 'approve', 'input_args': ['0xc36442b4a4522e871399cd717abdd847ab11fe88', 'unknown']}, {'description': 'Stake ETH with Lido and receive stETH.', 'to': '0xf073bAC22DAb7FaF4a3Dd6c6189a70D54110525C', 'value': 'unknown', 'function_name': 'submit', 'input_args': ['0x80011844928B469EAc5E4bC7e6EBA9b3C2Fa1b41']}, {'description': 'Approve stETH to be wrapped.', 'to': '0xae7ab96520DE3A18E5e111B5EaAb095312D7fE84', 'value': '0', 'function_name': 'approve', 'input_args': ['0x7f39C581F595B53c5cb19bD0b3f8dA6c935E2Ca0', 'unknown']}, {'description': 'Wrap stETH to wstETH.', 'to': '0x7f39C581F595B53c5cb19bD0b3f8dA6c935E2Ca0', 'value': '0', 'function_name': 'wrap', 'input_args': ['unknown']}, {'description': 'Approve wstETH to be added to the UniswapV3 liquidity pool.', 'to': '0x7f39C581F595B53c5cb19bD0b3f8dA6c935E2Ca0', 'value': '0', 'function_name': 'approve', 'input_args': ['0xc36442b4a4522e871399cd717abdd847ab11fe88', 'unknown']}, {'description': 'Add wstETH and genETH to the UniswapV3 liquidity pool.', 'to': '0xc36442b4a4522e871399cd717abdd847ab11fe88', 'value': '0', 'function_name': 'mint', 'input_args': ['unknown']}]\", 'total_steps': 7}, page_content='This case involves staking ETH to receive genETH on Genesis and stETH on Lido, wrapping stETH to wstETH, and adding liquidity to the UniswapV3 pool.')]"
      ]
     },
     "execution_count": 7,
     "metadata": {},
     "output_type": "execute_result"
    }
   ],
   "source": [
    "retriever.invoke(\"Stake ETH with Lido and deposit to Eigenpie\")"
   ]
  },
  {
   "cell_type": "code",
   "execution_count": 8,
   "metadata": {},
   "outputs": [],
   "source": [
    "from langchain_core.runnables import RunnablePassthrough\n",
    "from langchain.prompts import ChatPromptTemplate\n",
    "\n",
    "template = \"\"\"Generate a structure output based only on the following context:\n",
    "{context}\n",
    "Question: {question}\"\"\"\n",
    "prompt = ChatPromptTemplate.from_template(template)\n",
    "\n",
    "retriever = get_retriever()\n",
    "\n",
    "\n",
    "def format_docs(docs):\n",
    "    return \"\\n\\n\".join(str(doc.metadata) for doc in docs)\n",
    "\n",
    "\n",
    "# Chain\n",
    "rag_chain = (\n",
    "    {\"context\": retriever | format_docs, \"question\": RunnablePassthrough()}\n",
    "    | prompt\n",
    "    | model.with_structured_output(Case)\n",
    ")"
   ]
  },
  {
   "cell_type": "code",
   "execution_count": 9,
   "metadata": {},
   "outputs": [
    {
     "name": "stdout",
     "output_type": "stream",
     "text": [
      "{\"id\": \"eigenpie_steth\", \"description\": \"Stake 0.01 ETH with Lido and deposit to Eigenpie\", \"total_steps\": 3, \"steps\": [{\"description\": \"Stake ETH to Lido\", \"to\": \"0xae7ab96520DE3A18E5e111B5EaAb095312D7fE84\", \"value\": \"0.01\", \"function_name\": \"submit\", \"input_args\": [\"0.01\"]}, {\"description\": \"Approve stETH to Eigenpie\", \"to\": \"0xae7ab96520DE3A18E5e111B5EaAb095312D7fE84\", \"value\": \"0\", \"function_name\": \"approve\", \"input_args\": [\"0x24db6717dB1C75B9Db6eA47164D8730B63875dB7\", \"unknown\"]}, {\"description\": \"Stake stETH to Eigenpie\", \"to\": \"0x24db6717dB1C75B9Db6eA47164D8730B63875dB7\", \"value\": \"0\", \"function_name\": \"depositAsset\", \"input_args\": [\"0xae7ab96520DE3A18E5e111B5EaAb095312D7fE84\", \"unknown\", \"unknown\", \"unknown\"]}]}\n"
     ]
    }
   ],
   "source": [
    "question = \"Stake 0.01 ETH with Lido and deposit to Eigenpie\"\n",
    "result = rag_chain.invoke(question)\n",
    "print(result.json())"
   ]
  },
  {
   "cell_type": "code",
   "execution_count": 10,
   "metadata": {},
   "outputs": [
    {
     "name": "stdout",
     "output_type": "stream",
     "text": [
      "{\"id\": \"stake_3_eth_lido_deposit_eigenpie\", \"description\": \"Stake 3 ETH with Lido and deposit to Eigenpie\", \"total_steps\": 3, \"steps\": [{\"description\": \"Stake ETH to Lido\", \"to\": \"0xae7ab96520DE3A18E5e111B5EaAb095312D7fE84\", \"value\": \"3\", \"function_name\": \"submit\", \"input_args\": [\"3 ETH\"]}, {\"description\": \"Approve stETH to Eigenpie\", \"to\": \"0xae7ab96520DE3A18E5e111B5EaAb095312D7fE84\", \"value\": \"0\", \"function_name\": \"approve\", \"input_args\": [\"0x24db6717dB1C75B9Db6eA47164D8730B63875dB7\", \"unknown\"]}, {\"description\": \"Stake stETH to Eigenpie\", \"to\": \"0x24db6717dB1C75B9Db6eA47164D8730B63875dB7\", \"value\": \"0\", \"function_name\": \"depositAsset\", \"input_args\": [\"0xae7ab96520DE3A18E5e111B5EaAb095312D7fE84\", \"unknown\", \"unknown\", \"unknown\"]}]}\n"
     ]
    }
   ],
   "source": [
    "question = \"Stake 3 ETH with Lido and deposit to Eigenpie\"\n",
    "result = rag_chain.invoke(question)\n",
    "print(result.json())"
   ]
  },
  {
   "cell_type": "code",
   "execution_count": 11,
   "metadata": {},
   "outputs": [
    {
     "name": "stdout",
     "output_type": "stream",
     "text": [
      "{\"id\": \"swap_usdt_for_usdc_uniswap\", \"description\": \"Swap 100 USDT for USDC on Uniswap\", \"total_steps\": 2, \"steps\": [{\"description\": \"Approve USDT for Uniswap\", \"to\": \"UniswapAddress\", \"value\": \"0\", \"function_name\": \"approve\", \"input_args\": [\"USDTAddress\", \"100\"]}, {\"description\": \"Swap USDT to USDC\", \"to\": \"UniswapAddress\", \"value\": \"unknown\", \"function_name\": \"swap\", \"input_args\": [\"USDTAddress\", \"USDCAddress\", \"100\"]}]}\n"
     ]
    }
   ],
   "source": [
    "question = \"Swap 100 USDT for USDC on Uniswap\"\n",
    "result = rag_chain.invoke(question)\n",
    "print(result.json())"
   ]
  },
  {
   "cell_type": "code",
   "execution_count": 12,
   "metadata": {},
   "outputs": [
    {
     "name": "stdout",
     "output_type": "stream",
     "text": [
      "{\"id\": \"swap_0.001_eth_for_usdc_on_uniswap\", \"description\": \"Swap 0.001 ETH for USDC on Uniswap\", \"total_steps\": 1, \"steps\": [{\"description\": \"Swap 0.001 ETH for USDC\", \"to\": \"UniswapAddress\", \"value\": \"0.001\", \"function_name\": \"swapExactETHForTokens\", \"input_args\": [\"0\", \"USDCAddress\", \"recipientAddress\", \"deadline\"]}]}\n"
     ]
    }
   ],
   "source": [
    "question = \"Swap 0.001 ETH for USDC on Uniswap\"\n",
    "result = rag_chain.invoke(question)\n",
    "print(result.json())"
   ]
  },
  {
   "cell_type": "code",
   "execution_count": 13,
   "metadata": {},
   "outputs": [
    {
     "name": "stdout",
     "output_type": "stream",
     "text": [
      "{\"id\": \"yield_farming_multiple_protocols\", \"description\": \"Yield Farming with Multiple Protocols\", \"total_steps\": 4, \"steps\": [{\"description\": \"Deposit ETH into AAVE to earn interest.\", \"to\": \"0x893411580e590D62dDBca8a703d61Cc4A8c7b2b9\", \"value\": \"unknown\", \"function_name\": \"depositETH\", \"input_args\": [\"userAddress\", \"unknown\", \"0\"]}, {\"description\": \"Use aToken (aETH) as collateral to borrow DAI.\", \"to\": \"0xeA51d7853EEFb32b6ee06b1C12E6dcCA88Be0fFE\", \"value\": \"0\", \"function_name\": \"borrowDAITx\", \"input_args\": [\"aETHAmount\", \"userAddress\"]}, {\"description\": \"Deposit the borrowed DAI into Yearn Finance.\", \"to\": \"YearnFinanceAddress\", \"value\": \"unknown\", \"function_name\": \"depositDAITx\", \"input_args\": [\"DAIAmount\", \"userAddress\"]}, {\"description\": \"Use the Yearn vault tokens in a liquidity pool on Uniswap to earn trading fees.\", \"to\": \"UniswapPoolAddress\", \"value\": \"unknown\", \"function_name\": \"addLiquidityTx\", \"input_args\": [\"YearnVaultTokens\", \"userAddress\"]}]}\n"
     ]
    }
   ],
   "source": [
    "question = \"\"\"Yield Farming with Multiple Protocols\n",
    "\tStep 1: Deposit ETH into a AAVE to earn interest.\n",
    "\tStep 2: Use aToken (aETH) as collateral to borrow DAI.\n",
    "\tStep 3: Deposit the borrowed DAI into a Yearn Finance.\n",
    "\tStep 4: Use the Yearn vault tokens in a liquidity pool on Uniswap to earn trading fees.\"\"\"\n",
    "result = rag_chain.invoke(question)\n",
    "print(result.json())"
   ]
  }
 ],
 "metadata": {
  "kernelspec": {
   "display_name": ".venv",
   "language": "python",
   "name": "python3"
  },
  "language_info": {
   "codemirror_mode": {
    "name": "ipython",
    "version": 3
   },
   "file_extension": ".py",
   "mimetype": "text/x-python",
   "name": "python",
   "nbconvert_exporter": "python",
   "pygments_lexer": "ipython3",
   "version": "3.11.9"
  }
 },
 "nbformat": 4,
 "nbformat_minor": 2
}
