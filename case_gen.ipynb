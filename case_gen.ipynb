{
 "cells": [
  {
   "cell_type": "code",
   "execution_count": 1,
   "metadata": {},
   "outputs": [],
   "source": [
    "import os\n",
    "\n",
    "os.environ[\"LANGCHAIN_TRACING_V2\"] = \"true\"\n",
    "os.environ[\"LANGCHAIN_PROJECT\"] = \"Tx Generator\""
   ]
  },
  {
   "cell_type": "code",
   "execution_count": 2,
   "metadata": {},
   "outputs": [
    {
     "name": "stderr",
     "output_type": "stream",
     "text": [
      "Downloading files: 100%|██████████| 125/125 [00:06<00:00, 19.14file/s]"
     ]
    },
    {
     "name": "stdout",
     "output_type": "stream",
     "text": [
      "Total files downloaded:  125\n",
      "Total cases in metadata: 110\n"
     ]
    },
    {
     "name": "stderr",
     "output_type": "stream",
     "text": [
      "\n"
     ]
    }
   ],
   "source": [
    "from case_code.downloader import CodeDownloader, get_metadata\n",
    "\n",
    "# Download all case code\n",
    "downloader = CodeDownloader()\n",
    "downloaded_count = downloader.download()\n",
    "print(f\"{'Total files downloaded:':<24} {downloaded_count}\")\n",
    "\n",
    "metadata = get_metadata()\n",
    "print(f\"{'Total cases in metadata:':<24} {len(metadata)}\")"
   ]
  },
  {
   "cell_type": "code",
   "execution_count": 3,
   "metadata": {},
   "outputs": [
    {
     "name": "stderr",
     "output_type": "stream",
     "text": [
      "Processing: 100%|██████████| 125/125 [07:25<00:00,  3.56s/it]"
     ]
    },
    {
     "name": "stdout",
     "output_type": "stream",
     "text": [
      "            Error  count\n",
      "0  Case Not Found     57\n",
      "1     Parse Error      1\n"
     ]
    },
    {
     "name": "stderr",
     "output_type": "stream",
     "text": [
      "\n"
     ]
    }
   ],
   "source": [
    "from case_code.loader import CodeLoader\n",
    "from case_code.transformer import transform\n",
    "from utils.model_selector import get_chat_model\n",
    "import pandas as pd\n",
    "\n",
    "# Get the chat model\n",
    "model = get_chat_model(\"openai\")\n",
    "\n",
    "# Transform the downloaded code to case\n",
    "loader = CodeLoader()\n",
    "skipped = await transform(model=model, loader=loader, total=downloaded_count)\n",
    "\n",
    "data = [(key.value, len(value)) for key, value in skipped.items()]\n",
    "df = pd.DataFrame(data, columns=[\"Error\", \"count\"])\n",
    "print(df)"
   ]
  }
 ],
 "metadata": {
  "kernelspec": {
   "display_name": ".venv",
   "language": "python",
   "name": "python3"
  },
  "language_info": {
   "codemirror_mode": {
    "name": "ipython",
    "version": 3
   },
   "file_extension": ".py",
   "mimetype": "text/x-python",
   "name": "python",
   "nbconvert_exporter": "python",
   "pygments_lexer": "ipython3",
   "version": "3.11.9"
  }
 },
 "nbformat": 4,
 "nbformat_minor": 2
}
