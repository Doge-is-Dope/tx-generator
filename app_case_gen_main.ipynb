{
 "cells": [
  {
   "cell_type": "code",
   "execution_count": 1,
   "metadata": {},
   "outputs": [],
   "source": [
    "skip_download = True  # If True, skip the download step\n",
    "skip_transform = True  # If True, skip the transform step\n",
    "skip_tracing = True  # If True, skip the tracing step"
   ]
  },
  {
   "cell_type": "code",
   "execution_count": 2,
   "metadata": {},
   "outputs": [],
   "source": [
    "import os\n",
    "\n",
    "if not skip_tracing:\n",
    "    os.environ[\"LANGCHAIN_TRACING_V2\"] = \"true\"\n",
    "    os.environ[\"LANGCHAIN_PROJECT\"] = \"Tx Generator\""
   ]
  },
  {
   "cell_type": "code",
   "execution_count": 3,
   "metadata": {},
   "outputs": [],
   "source": [
    "from case_code.code_downloader import CodeDownloader, get_metadata\n",
    "from case_code.code_loader import CodeLoader\n",
    "from case_code.code_transformer import transform\n",
    "\n",
    "from models.case import BatchCase\n",
    "from utils.model_selector import get_chat_model"
   ]
  },
  {
   "cell_type": "code",
   "execution_count": 4,
   "metadata": {},
   "outputs": [],
   "source": [
    "if not skip_download:\n",
    "    downloader = CodeDownloader()\n",
    "    downloaded_count = downloader.download()"
   ]
  },
  {
   "cell_type": "code",
   "execution_count": 5,
   "metadata": {},
   "outputs": [
    {
     "name": "stdout",
     "output_type": "stream",
     "text": [
      "Total files downloaded:  125\n",
      "Total cases:             110\n"
     ]
    }
   ],
   "source": [
    "metadata = get_metadata()\n",
    "print(f\"{'Total files downloaded:':<24} {metadata['total_downloads']}\")\n",
    "print(f\"{'Total cases:':<24} {metadata['total_cases']}\")"
   ]
  },
  {
   "cell_type": "code",
   "execution_count": 6,
   "metadata": {},
   "outputs": [],
   "source": [
    "import pandas as pd\n",
    "\n",
    "if not skip_transform:\n",
    "    # Transform the code and process the results\n",
    "    loader = CodeLoader()\n",
    "    transformed_data = await transform(loader=loader)\n",
    "    # Save the transformed data to a file\n",
    "    data = [(key.value, value) for key, value in transformed_data.items()]\n",
    "    df = pd.DataFrame(data, columns=[\"Title\", \"Count\"])\n",
    "    print(df.to_string(index=False))"
   ]
  },
  {
   "cell_type": "code",
   "execution_count": 7,
   "metadata": {},
   "outputs": [
    {
     "data": {
      "text/html": [
       "<div>\n",
       "<style scoped>\n",
       "    .dataframe tbody tr th:only-of-type {\n",
       "        vertical-align: middle;\n",
       "    }\n",
       "\n",
       "    .dataframe tbody tr th {\n",
       "        vertical-align: top;\n",
       "    }\n",
       "\n",
       "    .dataframe thead th {\n",
       "        text-align: right;\n",
       "    }\n",
       "</style>\n",
       "<table border=\"1\" class=\"dataframe\">\n",
       "  <thead>\n",
       "    <tr style=\"text-align: right;\">\n",
       "      <th></th>\n",
       "      <th>id</th>\n",
       "      <th>transformable</th>\n",
       "    </tr>\n",
       "  </thead>\n",
       "  <tbody>\n",
       "  </tbody>\n",
       "</table>\n",
       "</div>"
      ],
      "text/plain": [
       "Empty DataFrame\n",
       "Columns: [id, transformable]\n",
       "Index: []"
      ]
     },
     "execution_count": 7,
     "metadata": {},
     "output_type": "execute_result"
    }
   ],
   "source": [
    "from case_code.code_transformer import get_transformation_result\n",
    "\n",
    "df = get_transformation_result()\n",
    "filtered_df = df.loc[df[\"transformable\"] == False]\n",
    "filtered_df"
   ]
  },
  {
   "cell_type": "code",
   "execution_count": 8,
   "metadata": {},
   "outputs": [],
   "source": [
    "from case import get_retriever\n",
    "\n",
    "retriever = get_retriever()"
   ]
  },
  {
   "cell_type": "code",
   "execution_count": 9,
   "metadata": {},
   "outputs": [
    {
     "data": {
      "text/plain": [
       "[Document(metadata={'case_id': 'eigenpie_steth', 'seq_num': 5, 'source': 'eigenpie/index.ts', 'steps': \"[{'description': 'Stake ETH to Lido'}, {'description': 'Approve stETH to Eigenpie'}, {'description': 'Stake stETH to Eigenpie'}]\", 'total_steps': 3}, page_content='A batch case for staking ETH to Lido and then to Eigenpie.'),\n",
       " Document(metadata={'case_id': 'stake_eth', 'seq_num': 79, 'source': 'stake-eth/stake.ts', 'steps': \"[{'description': 'Stake into Lido'}, {'description': 'Stake into RocketPool'}, {'description': 'Swap ETH to staked token using 1inch for Coinbase'}, {'description': 'Stake into StakeWise'}, {'description': 'Stake into Stader'}, {'description': 'Stake into EtherFi'}, {'description': 'Stake into Renzo'}, {'description': 'Stake into FraxFinance'}, {'description': 'Stake into Swell'}, {'description': 'Stake into RedactedFinance'}]\", 'total_steps': 14}, page_content='Stake ETH into various staking protocols including Lido, RocketPool, and more.'),\n",
       " Document(metadata={'case_id': 'genesis_liquidity', 'seq_num': 106, 'source': 'genesis/index.ts', 'steps': \"[{'description': 'Stake ETH and receive genETH on Genesis'}, {'description': 'Approve genETH to be added to the UniswapV3 liquidity pool'}, {'description': 'Stake ETH and receive stETH on Lido'}, {'description': 'Approve stETH to be wrapped'}, {'description': 'Wrap stETH to wstETH'}, {'description': 'Approve wstETH to be added to the UniswapV3 liquidity pool'}, {'description': 'Add wstETH and genETH to the UniswapV3 liquidity pool'}]\", 'total_steps': 7}, page_content='A comprehensive case for staking ETH with Genesis and Lido, wrapping stETH to wstETH, and adding liquidity to Uniswap V3.'),\n",
       " Document(metadata={'case_id': 'zircuit_eigenpie_swell', 'seq_num': 80, 'source': 'zircuit-eigenpie-swell/index.ts', 'steps': \"[{'description': 'Stake ETH with Swell and receive swETH.'}, {'description': 'Approve swETH to be restaked to Eigenlayer on Eigenpie to earn Pearls.'}, {'description': 'Restake swETH for mswETH on Eigenpie.'}, {'description': 'Approve mswETH to be restaked on Zircuit to earn Zircuit Points.'}, {'description': 'Restake mswETH with Zircuit to earn Zircuit Points.'}]\", 'total_steps': 5}, page_content='A batch case involving staking ETH with Swell, restaking with Eigenpie, and further restaking with Zircuit to earn points.')]"
      ]
     },
     "execution_count": 9,
     "metadata": {},
     "output_type": "execute_result"
    }
   ],
   "source": [
    "retriever.invoke(\"Stake ETH with Lido and deposit to Eigenpie\")"
   ]
  },
  {
   "cell_type": "code",
   "execution_count": 10,
   "metadata": {},
   "outputs": [
    {
     "data": {
      "text/plain": [
       "[Document(metadata={'case_id': 'etf_base_meme_top10', 'seq_num': 110, 'source': 'etf-basememe-top10/index.ts', 'steps': \"[{'description': 'Approve USDC for 1inch.'}, {'description': 'Swap USDC to Top1 token.'}, {'description': 'Swap USDC to Top2 token.'}, {'description': 'Swap USDC to Top3 token.'}, {'description': 'Swap USDC to Top4 token.'}, {'description': 'Swap USDC to Top5 token.'}, {'description': 'Swap USDC to Top6 token.'}, {'description': 'Swap USDC to Top7 token.'}, {'description': 'Swap USDC to Top8 token.'}, {'description': 'Swap USDC to Top9 token.'}, {'description': 'Swap USDC to Top10 token.'}]\", 'total_steps': 11}, page_content='Batch case for swapping USDC to the top 10 tokens based on market cap using 1inch.'),\n",
       " Document(metadata={'case_id': 'etf_ethereum_top10', 'seq_num': 34, 'source': 'etf-ethereum-top10/index.ts', 'steps': \"[{'description': 'Approve USDT for 1inch.'}, {'description': 'Swap USDT to Top1 token.'}, {'description': 'Swap USDT to Top2 token.'}, {'description': 'Swap USDT to Top3 token.'}, {'description': 'Swap USDT to Top4 token.'}, {'description': 'Swap USDT to Top5 token.'}, {'description': 'Swap USDT to Top6 token.'}, {'description': 'Swap USDT to Top7 token.'}, {'description': 'Swap USDT to Top8 token.'}, {'description': 'Swap USDT to Top9 token.'}, {'description': 'Swap USDT to Top10 token.'}]\", 'total_steps': 11}, page_content='A batch case for swapping USDT to the top 10 tokens on Ethereum using 1inch.'),\n",
       " Document(metadata={'case_id': 'zircuit_ethena_usdt', 'seq_num': 105, 'source': 'zircuit-ethena/usdt-case.ts', 'steps': \"[{'description': 'Approve USDT for Uniswap'}, {'description': 'Swap USDT to USDe'}, {'description': 'Approve USDe for Zircuit'}, {'description': 'Stake USDe to Zircuit'}]\", 'total_steps': 4}, page_content='Batch case for swapping USDT to USDe and staking in Zircuit'),\n",
       " Document(metadata={'case_id': 'zircuit_ethena_usdc', 'seq_num': 104, 'source': 'zircuit-ethena/usdc-case.ts', 'steps': \"[{'description': 'Approve USDC for Curve'}, {'description': 'Swap USDC to USDe'}, {'description': 'Approve USDe for Zircuit'}, {'description': 'Stake USDe to Zircuit'}]\", 'total_steps': 4}, page_content='Batch case for USDC to USDe swap and staking on Zircuit.')]"
      ]
     },
     "execution_count": 10,
     "metadata": {},
     "output_type": "execute_result"
    }
   ],
   "source": [
    "retriever.invoke(\"Swap 10 USDC to USDT\")"
   ]
  },
  {
   "cell_type": "code",
   "execution_count": 11,
   "metadata": {},
   "outputs": [],
   "source": [
    "from langchain_core.runnables import RunnablePassthrough\n",
    "from langchain.prompts import ChatPromptTemplate\n",
    "\n",
    "\n",
    "template = \"\"\"Generate a structure output based only on the following context:\n",
    "{context}\n",
    "Question: {question}\"\"\"\n",
    "\n",
    "prompt = ChatPromptTemplate.from_template(template)\n",
    "\n",
    "retriever = get_retriever()\n",
    "\n",
    "model = get_chat_model()\n",
    "\n",
    "\n",
    "def format_docs(docs):\n",
    "    return \"\\n\\n\".join(str(doc.metadata) for doc in docs)\n",
    "\n",
    "\n",
    "# Chain\n",
    "rag_chain = (\n",
    "    {\"context\": retriever | format_docs, \"question\": RunnablePassthrough()}\n",
    "    | prompt\n",
    "    | model.with_structured_output(BatchCase)\n",
    ")"
   ]
  },
  {
   "cell_type": "code",
   "execution_count": 12,
   "metadata": {},
   "outputs": [
    {
     "name": "stdout",
     "output_type": "stream",
     "text": [
      "{\"id\": \"eigenpie_steth\", \"description\": \"Stake ETH with Lido and deposit to Eigenpie\", \"total_steps\": 3, \"steps\": [{\"description\": \"Stake ETH to Lido\"}, {\"description\": \"Approve stETH to Eigenpie\"}, {\"description\": \"Stake stETH to Eigenpie\"}]}\n"
     ]
    }
   ],
   "source": [
    "question = \"Stake 0.03 ETH with Lido and deposit to Eigenpie\"\n",
    "result = rag_chain.invoke(question)\n",
    "print(result.json())"
   ]
  },
  {
   "cell_type": "code",
   "execution_count": 13,
   "metadata": {},
   "outputs": [
    {
     "name": "stdout",
     "output_type": "stream",
     "text": [
      "{\"id\": \"stake_2_eth_lido_eigenpie\", \"description\": \"Stake 2 ETH with Lido and deposit to Eigenpie\", \"total_steps\": 3, \"steps\": [{\"description\": \"Stake ETH to Lido\"}, {\"description\": \"Approve stETH to Eigenpie\"}, {\"description\": \"Stake stETH to Eigenpie\"}]}\n"
     ]
    }
   ],
   "source": [
    "question = \"Stake 2 ETH with Lido and deposit to Eigenpie\"\n",
    "result = rag_chain.invoke(question)\n",
    "print(result.json())"
   ]
  },
  {
   "cell_type": "code",
   "execution_count": 14,
   "metadata": {},
   "outputs": [
    {
     "name": "stdout",
     "output_type": "stream",
     "text": [
      "{\"id\": \"swap_usdt_for_usdc\", \"description\": \"Swap 100 USDT for USDC on Uniswap.\", \"total_steps\": 2, \"steps\": [{\"description\": \"Approve USDT for Uniswap.\"}, {\"description\": \"Swap 100 USDT for USDC.\"}]}\n"
     ]
    }
   ],
   "source": [
    "question = \"Swap 100 USDT for USDC on Uniswap\"\n",
    "result = rag_chain.invoke(question)\n",
    "print(result.json())"
   ]
  },
  {
   "cell_type": "code",
   "execution_count": 15,
   "metadata": {},
   "outputs": [
    {
     "name": "stdout",
     "output_type": "stream",
     "text": [
      "{\"id\": \"swap_eth_for_usdc_uniswap\", \"description\": \"Swap 0.001 ETH for USDC on Uniswap\", \"total_steps\": 1, \"steps\": [{\"description\": \"Swap 0.001 ETH for USDC on Uniswap\"}]}\n"
     ]
    }
   ],
   "source": [
    "question = \"Swap 0.001 ETH for USDC on Uniswap\"\n",
    "result = rag_chain.invoke(question)\n",
    "print(result.json())"
   ]
  },
  {
   "cell_type": "code",
   "execution_count": 16,
   "metadata": {},
   "outputs": [
    {
     "name": "stdout",
     "output_type": "stream",
     "text": [
      "{\"id\": \"yield_farming_multiple_protocols\", \"description\": \"Yield farming strategy involving multiple protocols to maximize returns through deposits, borrowing, and liquidity provision.\", \"total_steps\": 4, \"steps\": [{\"description\": \"Deposit ETH into AAVE to earn interest.\"}, {\"description\": \"Use aToken (aETH) as collateral to borrow DAI.\"}, {\"description\": \"Deposit the borrowed DAI into Yearn Finance.\"}, {\"description\": \"Use the Yearn vault tokens in a liquidity pool on Uniswap to earn trading fees.\"}]}\n"
     ]
    }
   ],
   "source": [
    "question = \"\"\"Yield Farming with Multiple Protocols\n",
    "\tStep 1: Deposit ETH into a AAVE to earn interest.\n",
    "\tStep 2: Use aToken (aETH) as collateral to borrow DAI.\n",
    "\tStep 3: Deposit the borrowed DAI into a Yearn Finance.\n",
    "\tStep 4: Use the Yearn vault tokens in a liquidity pool on Uniswap to earn trading fees.\"\"\"\n",
    "result = rag_chain.invoke(question)\n",
    "print(result.json())"
   ]
  }
 ],
 "metadata": {
  "kernelspec": {
   "display_name": ".venv",
   "language": "python",
   "name": "python3"
  },
  "language_info": {
   "codemirror_mode": {
    "name": "ipython",
    "version": 3
   },
   "file_extension": ".py",
   "mimetype": "text/x-python",
   "name": "python",
   "nbconvert_exporter": "python",
   "pygments_lexer": "ipython3",
   "version": "3.11.9"
  }
 },
 "nbformat": 4,
 "nbformat_minor": 2
}
