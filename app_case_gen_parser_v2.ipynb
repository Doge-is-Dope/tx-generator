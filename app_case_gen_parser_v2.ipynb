{
 "cells": [
  {
   "cell_type": "code",
   "execution_count": 1,
   "metadata": {},
   "outputs": [],
   "source": [
    "import os\n",
    "\n",
    "os.environ[\"LANGCHAIN_TRACING_V2\"] = \"true\"\n",
    "# os.environ[\"LANGCHAIN_PROJECT\"] = \"parser\""
   ]
  },
  {
   "cell_type": "code",
   "execution_count": 2,
   "metadata": {},
   "outputs": [],
   "source": [
    "from typing import Literal\n",
    "from langchain_core.pydantic_v1 import BaseModel, Field\n",
    "\n",
    "\n",
    "class ParsedResult(BaseModel):\n",
    "    action: str = Field(description=\"The action that can be executed\")\n",
    "    interact_with: str = Field(description=\"The contract address to interact with\")\n",
    "\n",
    "\n",
    "class ActionTransfer(ParsedResult):\n",
    "    action: Literal[\"transfer\"] = Field(description=\"The action to be taken\")\n",
    "    amount: float = Field(description=\"The amount to be transferred\")\n",
    "    currency: str = Field(description=\"The currency of the transfer\")\n",
    "    recipient: str = Field(description=\"The recipient of the transfer\")\n",
    "\n",
    "\n",
    "class ActionSwap(ParsedResult):\n",
    "    action: Literal[\"swap\"] = Field(description=\"The action to be taken\")\n",
    "    description: str = Field(description=\"The description of the swap\")"
   ]
  },
  {
   "cell_type": "code",
   "execution_count": 3,
   "metadata": {},
   "outputs": [],
   "source": [
    "from langchain_core.prompts import ChatPromptTemplate\n",
    "from utils.model_selector import get_chat_model\n",
    "\n",
    "system_prompt = (\n",
    "    \"You are a Ethereum expert that can extract the action from a description.\"\n",
    ")\n",
    "\n",
    "prompt = ChatPromptTemplate.from_messages(\n",
    "    [(\"system\", system_prompt), (\"human\", \"{input}\")]\n",
    ")\n",
    "\n",
    "llm = get_chat_model().model\n",
    "\n",
    "\n",
    "def parse_description(description: str) -> ParsedResult:\n",
    "    llm_with_output = llm.with_structured_output(ParsedResult)\n",
    "    chain = prompt | llm_with_output\n",
    "    return chain.invoke({\"input\": description})"
   ]
  },
  {
   "cell_type": "code",
   "execution_count": 4,
   "metadata": {},
   "outputs": [
    {
     "name": "stdout",
     "output_type": "stream",
     "text": [
      "action='swap' interact_with='0xUniswapV2RouterAddress'\n",
      "action='approve' interact_with='USDC_contract_address'\n",
      "action='transfer' interact_with='USDC_contract_address'\n"
     ]
    }
   ],
   "source": [
    "print(parse_description(\"Swap 100 USDC to ETH\"))\n",
    "print(parse_description(\"Approve 100 USDC to be swapped\"))\n",
    "print(parse_description(\"Transfer 100 USDC to Alice\"))"
   ]
  },
  {
   "cell_type": "code",
   "execution_count": 9,
   "metadata": {},
   "outputs": [
    {
     "data": {
      "text/plain": [
       "True"
      ]
     },
     "execution_count": 9,
     "metadata": {},
     "output_type": "execute_result"
    }
   ],
   "source": [
    "supported_actions = [\n",
    "    \"transfer\",\n",
    "    \"swap\",\n",
    "    \"approve\",\n",
    "    \"mint\",\n",
    "    \"burn\",\n",
    "    \"stake\",\n",
    "    \"bridge\",\n",
    "    \"repay\",\n",
    "    \"withdraw\",\n",
    "    \"borrow\",\n",
    "    \"deposit\",\n",
    "]\n",
    "from langchain_core.runnables import Runnable, RunnableLambda\n",
    "\n",
    "\n",
    "def parse_description(result: ParsedResult) -> bool:\n",
    "    if action := result.action in supported_actions:\n",
    "        return True\n",
    "    else:\n",
    "        raise ValueError(f\"Action {action} is not supported\")\n",
    "\n",
    "\n",
    "chain = prompt | llm.with_structured_output(ParsedResult) | parse_description\n",
    "chain.invoke({\"input\": \"Swap 100 USDC to ETH\"})"
   ]
  },
  {
   "cell_type": "code",
   "execution_count": null,
   "metadata": {},
   "outputs": [],
   "source": [
    "from langgraph.prebuilt import create_react_agent"
   ]
  }
 ],
 "metadata": {
  "kernelspec": {
   "display_name": ".venv",
   "language": "python",
   "name": "python3"
  },
  "language_info": {
   "codemirror_mode": {
    "name": "ipython",
    "version": 3
   },
   "file_extension": ".py",
   "mimetype": "text/x-python",
   "name": "python",
   "nbconvert_exporter": "python",
   "pygments_lexer": "ipython3",
   "version": "3.11.9"
  }
 },
 "nbformat": 4,
 "nbformat_minor": 2
}
