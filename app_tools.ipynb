{
 "cells": [
  {
   "cell_type": "code",
   "execution_count": 1,
   "metadata": {},
   "outputs": [],
   "source": [
    "from graph.tools import fetch_contract_abi, resolve_ens"
   ]
  },
  {
   "cell_type": "markdown",
   "metadata": {},
   "source": [
    "### `resolve_ens`\n"
   ]
  },
  {
   "cell_type": "code",
   "execution_count": 2,
   "metadata": {},
   "outputs": [
    {
     "data": {
      "text/plain": [
       "'0xd8dA6BF26964aF9D7eEd9e03E53415D37aA96045'"
      ]
     },
     "execution_count": 2,
     "metadata": {},
     "output_type": "execute_result"
    }
   ],
   "source": [
    "resolve_ens.invoke({\"name\": \"vitalik.eth\"})"
   ]
  },
  {
   "cell_type": "code",
   "execution_count": 3,
   "metadata": {},
   "outputs": [
    {
     "data": {
      "text/plain": [
       "'0xd8dA6BF26964aF9D7eEd9e03E53415D37aA96045'"
      ]
     },
     "execution_count": 3,
     "metadata": {},
     "output_type": "execute_result"
    }
   ],
   "source": [
    "resolve_ens.invoke({\"name\": \"vitalik.eth\"})"
   ]
  },
  {
   "cell_type": "markdown",
   "metadata": {},
   "source": [
    "### `fetch_contract_abi`\n"
   ]
  },
  {
   "cell_type": "code",
   "execution_count": 4,
   "metadata": {},
   "outputs": [
    {
     "data": {
      "text/plain": [
       "[{'constant': False,\n",
       "  'inputs': [{'name': '_spender', 'type': 'address'},\n",
       "   {'name': '_value', 'type': 'uint256'}],\n",
       "  'name': 'approve',\n",
       "  'outputs': [{'name': '', 'type': 'bool'}],\n",
       "  'payable': False,\n",
       "  'stateMutability': 'nonpayable',\n",
       "  'type': 'function'}]"
      ]
     },
     "execution_count": 4,
     "metadata": {},
     "output_type": "execute_result"
    }
   ],
   "source": [
    "# From pre-defined\n",
    "fetch_contract_abi.invoke(\n",
    "    {\n",
    "        \"contract_address\": \"0xa0b86991c6218b36c1d19d4a2e9eb0ce3606eb48\",\n",
    "        \"function_name\": \"approve\",\n",
    "    }\n",
    ")"
   ]
  },
  {
   "cell_type": "code",
   "execution_count": 5,
   "metadata": {},
   "outputs": [
    {
     "data": {
      "text/plain": [
       "[{'inputs': [{'internalType': 'address', 'name': 'spender', 'type': 'address'},\n",
       "   {'internalType': 'uint256', 'name': 'value', 'type': 'uint256'}],\n",
       "  'name': 'approve',\n",
       "  'outputs': [{'internalType': 'bool', 'name': '', 'type': 'bool'}],\n",
       "  'stateMutability': 'nonpayable',\n",
       "  'type': 'function'}]"
      ]
     },
     "execution_count": 5,
     "metadata": {},
     "output_type": "execute_result"
    }
   ],
   "source": [
    "# From Etherscan\n",
    "fetch_contract_abi.invoke(\n",
    "    {\n",
    "        \"contract_address\": \"0x43506849D7C04F9138D1A2050bbF3A0c054402dd\",\n",
    "        \"function_name\": \"approve\",\n",
    "    }\n",
    ")"
   ]
  }
 ],
 "metadata": {
  "kernelspec": {
   "display_name": ".venv",
   "language": "python",
   "name": "python3"
  },
  "language_info": {
   "codemirror_mode": {
    "name": "ipython",
    "version": 3
   },
   "file_extension": ".py",
   "mimetype": "text/x-python",
   "name": "python",
   "nbconvert_exporter": "python",
   "pygments_lexer": "ipython3",
   "version": "3.11.9"
  }
 },
 "nbformat": 4,
 "nbformat_minor": 2
}
