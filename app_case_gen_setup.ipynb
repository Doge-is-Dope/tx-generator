{
 "cells": [
  {
   "cell_type": "code",
   "execution_count": 1,
   "metadata": {},
   "outputs": [],
   "source": [
    "import os\n",
    "\n",
    "# os.environ[\"LANGCHAIN_TRACING_V2\"] = \"true\"\n",
    "# os.environ[\"LANGCHAIN_PROJECT\"] = \"tx generator - setup\""
   ]
  },
  {
   "cell_type": "code",
   "execution_count": 2,
   "metadata": {},
   "outputs": [],
   "source": [
    "from case_code.code_downloader import CodeDownloader, get_metadata\n",
    "from case_code.code_loader import CodeLoader\n",
    "from case_code.code_transformer import transform, get_transformed_stats"
   ]
  },
  {
   "cell_type": "code",
   "execution_count": 3,
   "metadata": {},
   "outputs": [],
   "source": [
    "from datetime import datetime\n",
    "from enum import Enum\n",
    "\n",
    "\n",
    "class ActionType(Enum):\n",
    "    DOWNLOAD = \"download\"\n",
    "    TRANSFORM = \"transform\"\n",
    "\n",
    "\n",
    "def get_time_difference_desc(dt_object: datetime) -> str:\n",
    "    now = datetime.now()\n",
    "    time_diff = now - dt_object\n",
    "\n",
    "    seconds = time_diff.total_seconds()\n",
    "    minutes = seconds // 60\n",
    "    hours = minutes // 60\n",
    "    days = time_diff.days\n",
    "\n",
    "    if seconds < 60:\n",
    "        return \"a few seconds ago\"\n",
    "    elif minutes < 60:\n",
    "        return f\"{int(minutes)} minute{'s' if minutes > 1 else ''} ago\"\n",
    "    elif hours < 24:\n",
    "        return f\"{int(hours)} hour{'s' if hours > 1 else ''} ago\"\n",
    "    else:\n",
    "        return f\"{days} day{'s' if days > 1 else ''} ago\"\n",
    "\n",
    "\n",
    "def should_continue_action(action_type: ActionType, metadata_func) -> bool:\n",
    "    process_action = True  # Default to processing the action\n",
    "\n",
    "    try:\n",
    "        metadata = metadata_func()\n",
    "        dt_object = datetime.fromtimestamp(metadata[\"last_updated\"])\n",
    "        readable_date = dt_object.strftime(\"%Y-%m-%d %H:%M:%S\")\n",
    "\n",
    "        # Prepare the prompt message based on the action type\n",
    "        prompt_message = {\n",
    "            ActionType.DOWNLOAD: \"Do you want to download the latest files?\",\n",
    "            ActionType.TRANSFORM: \"Do you want to process transformation?\",\n",
    "        }.get(action_type, \"Do you want to proceed?\")\n",
    "\n",
    "        print(f\"Last updated:{readable_date} ({get_time_difference_desc(dt_object)})\")\n",
    "        response = input(\n",
    "            f\"Last updated was {readable_date} ({get_time_difference_desc(dt_object)}). {prompt_message} (y/n) \"\n",
    "        )\n",
    "        process_action = response.lower() in {\"y\", \"Yes\"}\n",
    "    except FileNotFoundError as e:\n",
    "        print(\n",
    "            f\"No {action_type.value} metadata found. Proceeding with {action_type.value}.\"\n",
    "        )\n",
    "    except Exception as e:\n",
    "        print(f\"Error occurred: {str(e)}. Proceeding with {action_type.value}.\")\n",
    "\n",
    "    return process_action"
   ]
  },
  {
   "cell_type": "markdown",
   "metadata": {},
   "source": [
    "## Download source code\n"
   ]
  },
  {
   "cell_type": "code",
   "execution_count": 4,
   "metadata": {},
   "outputs": [
    {
     "name": "stdout",
     "output_type": "stream",
     "text": [
      "Last updated:2024-08-21 11:20:20 (13 minutes ago)\n"
     ]
    }
   ],
   "source": [
    "shall_download = should_continue_action(ActionType.DOWNLOAD, get_metadata)"
   ]
  },
  {
   "cell_type": "code",
   "execution_count": 5,
   "metadata": {},
   "outputs": [],
   "source": [
    "if shall_download:\n",
    "    downloader = CodeDownloader()\n",
    "    downloaded_count = downloader.download()"
   ]
  },
  {
   "cell_type": "code",
   "execution_count": 6,
   "metadata": {},
   "outputs": [
    {
     "name": "stdout",
     "output_type": "stream",
     "text": [
      "Total files: 125\n",
      "Total cases: 110\n"
     ]
    }
   ],
   "source": [
    "metadata = get_metadata()\n",
    "print(f\"Total files: {metadata['total_files']}\")\n",
    "print(f\"Total cases: {metadata['total_cases']}\")"
   ]
  },
  {
   "cell_type": "markdown",
   "metadata": {},
   "source": [
    "## Process source code\n"
   ]
  },
  {
   "cell_type": "code",
   "execution_count": 7,
   "metadata": {},
   "outputs": [
    {
     "name": "stdout",
     "output_type": "stream",
     "text": [
      "Last updated:2024-08-21 11:29:13 (4 minutes ago)\n"
     ]
    }
   ],
   "source": [
    "shall_transform = should_continue_action(ActionType.TRANSFORM, get_transformed_stats)"
   ]
  },
  {
   "cell_type": "code",
   "execution_count": 8,
   "metadata": {},
   "outputs": [
    {
     "name": "stdout",
     "output_type": "stream",
     "text": [
      "Start processing files...\n"
     ]
    },
    {
     "name": "stderr",
     "output_type": "stream",
     "text": [
      "Processing files: 100%|██████████| 125/125 [09:37<00:00,  4.62s/file]\n"
     ]
    }
   ],
   "source": [
    "if shall_transform:\n",
    "    loader = CodeLoader()\n",
    "    transformed_stats = await transform(loader=loader)"
   ]
  },
  {
   "cell_type": "code",
   "execution_count": 12,
   "metadata": {},
   "outputs": [
    {
     "name": "stdout",
     "output_type": "stream",
     "text": [
      "Time used: 9m 38s\n"
     ]
    },
    {
     "data": {
      "text/html": [
       "<div>\n",
       "<style scoped>\n",
       "    .dataframe tbody tr th:only-of-type {\n",
       "        vertical-align: middle;\n",
       "    }\n",
       "\n",
       "    .dataframe tbody tr th {\n",
       "        vertical-align: top;\n",
       "    }\n",
       "\n",
       "    .dataframe thead th {\n",
       "        text-align: right;\n",
       "    }\n",
       "</style>\n",
       "<table border=\"1\" class=\"dataframe\">\n",
       "  <thead>\n",
       "    <tr style=\"text-align: right;\">\n",
       "      <th></th>\n",
       "      <th>Title</th>\n",
       "      <th>Count</th>\n",
       "    </tr>\n",
       "  </thead>\n",
       "  <tbody>\n",
       "    <tr>\n",
       "      <th>0</th>\n",
       "      <td>total_cases</td>\n",
       "      <td>110</td>\n",
       "    </tr>\n",
       "    <tr>\n",
       "      <th>1</th>\n",
       "      <td>total_failed_cases</td>\n",
       "      <td>41</td>\n",
       "    </tr>\n",
       "  </tbody>\n",
       "</table>\n",
       "</div>"
      ],
      "text/plain": [
       "                Title  Count\n",
       "0         total_cases    110\n",
       "1  total_failed_cases     41"
      ]
     },
     "execution_count": 12,
     "metadata": {},
     "output_type": "execute_result"
    }
   ],
   "source": [
    "import pandas as pd\n",
    "\n",
    "stats = get_transformed_stats()\n",
    "\n",
    "minutes, seconds = divmod(stats[\"total_time_taken\"], 60)\n",
    "# Construct the output message\n",
    "if minutes > 0:\n",
    "    print(f\"Time used: {minutes}m {seconds}s\")\n",
    "else:\n",
    "    print(f\"Time used: {seconds}s\")\n",
    "\n",
    "data = {\n",
    "    \"Title\": [\"total_cases\", \"total_failed_cases\"],\n",
    "    \"Count\": [stats[\"total_cases\"], stats[\"total_failed_cases\"]],\n",
    "}\n",
    "pd.DataFrame(data)"
   ]
  }
 ],
 "metadata": {
  "kernelspec": {
   "display_name": ".venv",
   "language": "python",
   "name": "python3"
  },
  "language_info": {
   "codemirror_mode": {
    "name": "ipython",
    "version": 3
   },
   "file_extension": ".py",
   "mimetype": "text/x-python",
   "name": "python",
   "nbconvert_exporter": "python",
   "pygments_lexer": "ipython3",
   "version": "3.11.9"
  }
 },
 "nbformat": 4,
 "nbformat_minor": 2
}
