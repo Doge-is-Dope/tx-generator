{
 "cells": [
  {
   "cell_type": "code",
   "execution_count": 1,
   "metadata": {},
   "outputs": [],
   "source": [
    "import os\n",
    "\n",
    "# os.environ[\"LANGCHAIN_TRACING_V2\"] = \"true\"\n",
    "# os.environ[\"LANGCHAIN_PROJECT\"] = \"tx generator - setup\""
   ]
  },
  {
   "cell_type": "code",
   "execution_count": 2,
   "metadata": {},
   "outputs": [],
   "source": [
    "import pandas as pd\n",
    "from datetime import datetime\n",
    "from enum import Enum\n",
    "from pytz import timezone\n",
    "\n",
    "from case_code.code_downloader import CodeDownloader, get_metadata\n",
    "from case_code.code_loader import CodeLoader\n",
    "from case_code.code_transformer import (\n",
    "    transform,\n",
    "    get_transformed_stats,\n",
    "    get_all_transformed_stats,\n",
    ")"
   ]
  },
  {
   "cell_type": "code",
   "execution_count": 3,
   "metadata": {},
   "outputs": [],
   "source": [
    "class ActionType(Enum):\n",
    "    DOWNLOAD = \"download\"\n",
    "    TRANSFORM = \"transform\"\n",
    "\n",
    "\n",
    "def get_time_difference_desc(dt_object: datetime) -> str:\n",
    "    now = datetime.now()\n",
    "    time_diff = now - dt_object\n",
    "\n",
    "    seconds = time_diff.total_seconds()\n",
    "    minutes = seconds // 60\n",
    "    hours = minutes // 60\n",
    "    days = time_diff.days\n",
    "\n",
    "    if seconds < 60:\n",
    "        return \"a few seconds ago\"\n",
    "    elif minutes < 60:\n",
    "        return f\"{int(minutes)} minute{'s' if minutes > 1 else ''} ago\"\n",
    "    elif hours < 24:\n",
    "        return f\"{int(hours)} hour{'s' if hours > 1 else ''} ago\"\n",
    "    else:\n",
    "        return f\"{days} day{'s' if days > 1 else ''} ago\"\n",
    "\n",
    "\n",
    "def should_continue_action(action_type: ActionType, metadata_func) -> bool:\n",
    "    process_action = True  # Default to processing the action\n",
    "\n",
    "    try:\n",
    "        metadata = metadata_func()\n",
    "        dt_object = datetime.fromtimestamp(metadata[\"last_updated\"])\n",
    "        readable_date = dt_object.strftime(\"%Y-%m-%d %H:%M:%S\")\n",
    "\n",
    "        # Prepare the prompt message based on the action type\n",
    "        prompt_message = {\n",
    "            ActionType.DOWNLOAD: \"Do you want to download the latest files?\",\n",
    "            ActionType.TRANSFORM: \"Do you want to process transformation?\",\n",
    "        }.get(action_type, \"Do you want to proceed?\")\n",
    "\n",
    "        print(f\"Last updated:{readable_date} ({get_time_difference_desc(dt_object)})\")\n",
    "        response = input(\n",
    "            f\"Last updated was {readable_date} ({get_time_difference_desc(dt_object)}). {prompt_message} (y/n) \"\n",
    "        )\n",
    "        process_action = response.lower() in {\"y\", \"Yes\"}\n",
    "    except FileNotFoundError as e:\n",
    "        print(\n",
    "            f\"No {action_type.value} metadata found. Proceeding with {action_type.value}.\"\n",
    "        )\n",
    "    except Exception as e:\n",
    "        print(f\"Error occurred: {str(e)}. Proceeding with {action_type.value}.\")\n",
    "\n",
    "    return process_action"
   ]
  },
  {
   "cell_type": "markdown",
   "metadata": {},
   "source": [
    "## Download source code\n"
   ]
  },
  {
   "cell_type": "code",
   "execution_count": 4,
   "metadata": {},
   "outputs": [
    {
     "name": "stdout",
     "output_type": "stream",
     "text": [
      "Last updated:2024-08-21 11:50:51 (4 hours ago)\n"
     ]
    }
   ],
   "source": [
    "shall_download = should_continue_action(ActionType.DOWNLOAD, get_metadata)"
   ]
  },
  {
   "cell_type": "code",
   "execution_count": 5,
   "metadata": {},
   "outputs": [
    {
     "name": "stderr",
     "output_type": "stream",
     "text": [
      "Downloading develop branch files: 100%|██████████| 125/125 [00:06<00:00, 20.59file/s]\n"
     ]
    }
   ],
   "source": [
    "if shall_download:\n",
    "    downloader = CodeDownloader()\n",
    "    downloaded_count = downloader.download()"
   ]
  },
  {
   "cell_type": "code",
   "execution_count": 6,
   "metadata": {},
   "outputs": [
    {
     "name": "stdout",
     "output_type": "stream",
     "text": [
      "Total files: 125\n",
      "Total cases: 110\n"
     ]
    }
   ],
   "source": [
    "metadata = get_metadata()\n",
    "print(f\"Total files: {metadata['total_files']}\")\n",
    "print(f\"Total cases: {metadata['total_cases']}\")"
   ]
  },
  {
   "cell_type": "markdown",
   "metadata": {},
   "source": [
    "## Transform source code\n"
   ]
  },
  {
   "cell_type": "code",
   "execution_count": 7,
   "metadata": {},
   "outputs": [
    {
     "name": "stdout",
     "output_type": "stream",
     "text": [
      "Last updated:2024-08-21 12:03:16 (4 hours ago)\n"
     ]
    }
   ],
   "source": [
    "shall_transform = should_continue_action(ActionType.TRANSFORM, get_transformed_stats)"
   ]
  },
  {
   "cell_type": "code",
   "execution_count": 8,
   "metadata": {},
   "outputs": [
    {
     "name": "stdout",
     "output_type": "stream",
     "text": [
      "Start transforming with gemini-1.5-pro...\n"
     ]
    },
    {
     "name": "stderr",
     "output_type": "stream",
     "text": [
      "Transforming:   0%|          | 0/125 [00:00<?, ?file/s]WARNING: All log messages before absl::InitializeLog() is called are written to STDERR\n",
      "I0000 00:00:1724228725.180837  220141 check_gcp_environment_no_op.cc:29] ALTS: Platforms other than Linux and Windows are not supported\n",
      "Transforming: 100%|██████████| 125/125 [06:51<00:00,  3.29s/file]\n"
     ]
    }
   ],
   "source": [
    "if shall_transform:\n",
    "    loader = CodeLoader()\n",
    "    transformed_stats = await transform(loader=loader)"
   ]
  },
  {
   "cell_type": "code",
   "execution_count": 9,
   "metadata": {},
   "outputs": [
    {
     "name": "stdout",
     "output_type": "stream",
     "text": [
      "Time used: 6m 51s\n"
     ]
    },
    {
     "data": {
      "text/html": [
       "<div>\n",
       "<style scoped>\n",
       "    .dataframe tbody tr th:only-of-type {\n",
       "        vertical-align: middle;\n",
       "    }\n",
       "\n",
       "    .dataframe tbody tr th {\n",
       "        vertical-align: top;\n",
       "    }\n",
       "\n",
       "    .dataframe thead th {\n",
       "        text-align: right;\n",
       "    }\n",
       "</style>\n",
       "<table border=\"1\" class=\"dataframe\">\n",
       "  <thead>\n",
       "    <tr style=\"text-align: right;\">\n",
       "      <th></th>\n",
       "      <th>Title</th>\n",
       "      <th>Count</th>\n",
       "    </tr>\n",
       "  </thead>\n",
       "  <tbody>\n",
       "    <tr>\n",
       "      <th>0</th>\n",
       "      <td>total_cases</td>\n",
       "      <td>110</td>\n",
       "    </tr>\n",
       "    <tr>\n",
       "      <th>1</th>\n",
       "      <td>total_failed_cases</td>\n",
       "      <td>51</td>\n",
       "    </tr>\n",
       "  </tbody>\n",
       "</table>\n",
       "</div>"
      ],
      "text/plain": [
       "                Title  Count\n",
       "0         total_cases    110\n",
       "1  total_failed_cases     51"
      ]
     },
     "execution_count": 9,
     "metadata": {},
     "output_type": "execute_result"
    }
   ],
   "source": [
    "stats = get_transformed_stats()\n",
    "\n",
    "minutes, seconds = divmod(stats[\"total_time_taken\"], 60)\n",
    "# Construct the output message\n",
    "if minutes > 0:\n",
    "    print(f\"Time used: {minutes}m {seconds}s\")\n",
    "else:\n",
    "    print(f\"Time used: {seconds}s\")\n",
    "\n",
    "data = {\n",
    "    \"Title\": [\"total_cases\", \"total_failed_cases\"],\n",
    "    \"Count\": [stats[\"total_cases\"], stats[\"total_failed_cases\"]],\n",
    "}\n",
    "pd.DataFrame(data)"
   ]
  },
  {
   "cell_type": "markdown",
   "metadata": {},
   "source": [
    "## Aggregate stats\n"
   ]
  },
  {
   "cell_type": "code",
   "execution_count": 10,
   "metadata": {},
   "outputs": [
    {
     "name": "stdout",
     "output_type": "stream",
     "text": [
      "                          gpt-4o-mini    gpt-4o-2024-08-06 claude-3-5-sonnet-20240620       gemini-1.5-pro       gemini-1.0-pro\n",
      "Last Updated      2024-08-21 11:53:16  2024-08-21 12:07:52        2024-08-21 12:40:25  2024-08-21 16:32:16  2024-08-21 16:02:40\n",
      "Duration (s)                      144                  219                        606                  411                  126\n",
      "Total Cases                       110                  110                        110                  110                  110\n",
      "Failed Cases                        0                    0                         37                   51                   88\n",
      "Success Rate (%)                100.0                100.0                  66.363636            53.636364                 20.0\n",
      "Case/s                       0.763889             0.502283                   0.120462             0.143552             0.174603\n"
     ]
    }
   ],
   "source": [
    "# Fetch and load stats into a DataFrame\n",
    "stats = get_all_transformed_stats()\n",
    "df = pd.DataFrame(stats)\n",
    "\n",
    "# Convert and format the 'last_updated' timestamps to local time\n",
    "local_tz = timezone(\"Asia/Taipei\")\n",
    "df.loc[\"last_updated\"] = (\n",
    "    pd.to_datetime(df.loc[\"last_updated\"], unit=\"s\")\n",
    "    .dt.tz_localize(\"UTC\")\n",
    "    .dt.tz_convert(local_tz)\n",
    "    .dt.strftime(\"%Y-%m-%d %H:%M:%S\")\n",
    ")\n",
    "\n",
    "successful_cases = df.loc[\"total_cases\"] - df.loc[\"total_failed_cases\"]\n",
    "\n",
    "# Calculate the success rate\n",
    "df.loc[\"success_rate\"] = successful_cases / df.loc[\"total_cases\"] * 100\n",
    "\n",
    "# Calculate the success case per second\n",
    "df.loc[\"success_case_per_sec\"] = successful_cases / df.loc[\"total_time_taken\"]\n",
    "\n",
    "# Drop the 'cases' row if it exists\n",
    "df.drop(index=\"cases\", inplace=True)\n",
    "\n",
    "# Rename the index labels for better readability\n",
    "df.rename(\n",
    "    index={\n",
    "        \"last_updated\": \"Last Updated\",\n",
    "        \"total_time_taken\": \"Duration (s)\",\n",
    "        \"total_cases\": \"Total Cases\",\n",
    "        \"total_failed_cases\": \"Failed Cases\",\n",
    "        \"success_rate\": \"Success Rate (%)\",\n",
    "        \"success_case_per_sec\": \"Case/s\",\n",
    "    },\n",
    "    inplace=True,\n",
    ")\n",
    "\n",
    "print(df.to_string())"
   ]
  }
 ],
 "metadata": {
  "kernelspec": {
   "display_name": ".venv",
   "language": "python",
   "name": "python3"
  },
  "language_info": {
   "codemirror_mode": {
    "name": "ipython",
    "version": 3
   },
   "file_extension": ".py",
   "mimetype": "text/x-python",
   "name": "python",
   "nbconvert_exporter": "python",
   "pygments_lexer": "ipython3",
   "version": "3.11.9"
  }
 },
 "nbformat": 4,
 "nbformat_minor": 2
}
