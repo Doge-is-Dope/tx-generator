{
 "cells": [
  {
   "cell_type": "code",
   "execution_count": 1,
   "metadata": {},
   "outputs": [],
   "source": [
    "import os\n",
    "\n",
    "# os.environ[\"LANGCHAIN_TRACING_V2\"] = \"true\"\n",
    "# os.environ[\"LANGCHAIN_PROJECT\"] = \"tx generator - setup\""
   ]
  },
  {
   "cell_type": "code",
   "execution_count": 2,
   "metadata": {},
   "outputs": [],
   "source": [
    "from case_code.code_downloader import CodeDownloader, get_metadata\n",
    "from case_code.code_loader import CodeLoader\n",
    "from case_code.code_transformer import transform"
   ]
  },
  {
   "cell_type": "code",
   "execution_count": 3,
   "metadata": {},
   "outputs": [
    {
     "name": "stdout",
     "output_type": "stream",
     "text": [
      "No metadata found. Downloading latest files.\n"
     ]
    }
   ],
   "source": [
    "from datetime import datetime\n",
    "\n",
    "skip_download = True\n",
    "\n",
    "try:\n",
    "    metadata = get_metadata()\n",
    "    dt_object = datetime.fromtimestamp(metadata[\"last_updated\"])\n",
    "    readable_date = dt_object.strftime(\"%Y-%m-%d %H:%M:%S\")\n",
    "    # Ask user if they want to download the latest files\n",
    "    response = input(\n",
    "        f\"Last updated was {readable_date}. Do you want to download the latest files? (y/n)\"\n",
    "    )\n",
    "\n",
    "    skip_download = response.lower() == \"n\"\n",
    "except:\n",
    "    # If there is no metadata, download the latest files\n",
    "    print(\"No metadata found. Downloading latest files.\")"
   ]
  },
  {
   "cell_type": "code",
   "execution_count": 4,
   "metadata": {},
   "outputs": [
    {
     "name": "stderr",
     "output_type": "stream",
     "text": [
      "Downloading develop branch files: 100%|██████████| 125/125 [00:06<00:00, 20.80file/s]\n"
     ]
    }
   ],
   "source": [
    "if skip_download:\n",
    "    downloader = CodeDownloader()\n",
    "    downloaded_count = downloader.download()"
   ]
  },
  {
   "cell_type": "code",
   "execution_count": 5,
   "metadata": {},
   "outputs": [
    {
     "name": "stdout",
     "output_type": "stream",
     "text": [
      "Total files: 125\n",
      "Total cases: 110\n"
     ]
    }
   ],
   "source": [
    "metadata = get_metadata()\n",
    "print(f\"Total files: {metadata['total_files']}\")\n",
    "print(f\"Total cases: {metadata['total_cases']}\")"
   ]
  },
  {
   "cell_type": "code",
   "execution_count": 6,
   "metadata": {},
   "outputs": [
    {
     "name": "stdout",
     "output_type": "stream",
     "text": [
      "Start processing files...\n"
     ]
    },
    {
     "name": "stderr",
     "output_type": "stream",
     "text": [
      "Processing files: 100%|██████████| 125/125 [02:38<00:00,  1.27s/file]\n"
     ]
    }
   ],
   "source": [
    "loader = CodeLoader()\n",
    "\n",
    "transformed_stats = await transform(loader=loader)"
   ]
  },
  {
   "cell_type": "code",
   "execution_count": 7,
   "metadata": {},
   "outputs": [
    {
     "data": {
      "text/html": [
       "<div>\n",
       "<style scoped>\n",
       "    .dataframe tbody tr th:only-of-type {\n",
       "        vertical-align: middle;\n",
       "    }\n",
       "\n",
       "    .dataframe tbody tr th {\n",
       "        vertical-align: top;\n",
       "    }\n",
       "\n",
       "    .dataframe thead th {\n",
       "        text-align: right;\n",
       "    }\n",
       "</style>\n",
       "<table border=\"1\" class=\"dataframe\">\n",
       "  <thead>\n",
       "    <tr style=\"text-align: right;\">\n",
       "      <th></th>\n",
       "      <th>Title</th>\n",
       "      <th>Count</th>\n",
       "    </tr>\n",
       "  </thead>\n",
       "  <tbody>\n",
       "    <tr>\n",
       "      <th>0</th>\n",
       "      <td>total_cases</td>\n",
       "      <td>110</td>\n",
       "    </tr>\n",
       "    <tr>\n",
       "      <th>1</th>\n",
       "      <td>total_failed_cases</td>\n",
       "      <td>0</td>\n",
       "    </tr>\n",
       "  </tbody>\n",
       "</table>\n",
       "</div>"
      ],
      "text/plain": [
       "                Title  Count\n",
       "0         total_cases    110\n",
       "1  total_failed_cases      0"
      ]
     },
     "execution_count": 7,
     "metadata": {},
     "output_type": "execute_result"
    }
   ],
   "source": [
    "from case_code.code_transformer import get_transformed_stats, save_transformed_stats\n",
    "\n",
    "get_transformed_stats()"
   ]
  }
 ],
 "metadata": {
  "kernelspec": {
   "display_name": ".venv",
   "language": "python",
   "name": "python3"
  },
  "language_info": {
   "codemirror_mode": {
    "name": "ipython",
    "version": 3
   },
   "file_extension": ".py",
   "mimetype": "text/x-python",
   "name": "python",
   "nbconvert_exporter": "python",
   "pygments_lexer": "ipython3",
   "version": "3.11.9"
  }
 },
 "nbformat": 4,
 "nbformat_minor": 2
}
